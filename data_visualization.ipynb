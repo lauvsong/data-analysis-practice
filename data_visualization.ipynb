{
  "nbformat": 4,
  "nbformat_minor": 0,
  "metadata": {
    "colab": {
      "name": "data_visualization.ipynb",
      "provenance": [],
      "authorship_tag": "ABX9TyMdKS4gaiI2/51Bxfh2SNxR",
      "include_colab_link": true
    },
    "kernelspec": {
      "name": "python3",
      "display_name": "Python 3"
    },
    "language_info": {
      "name": "python"
    }
  },
  "cells": [
    {
      "cell_type": "markdown",
      "metadata": {
        "id": "view-in-github",
        "colab_type": "text"
      },
      "source": [
        "<a href=\"https://colab.research.google.com/github/lauvsong/data-analysis-practice/blob/main/data_visualization.ipynb\" target=\"_parent\"><img src=\"https://colab.research.google.com/assets/colab-badge.svg\" alt=\"Open In Colab\"/></a>"
      ]
    },
    {
      "cell_type": "code",
      "metadata": {
        "id": "BohA1R0sy9w3"
      },
      "source": [
        "%matplotlib inline"
      ],
      "execution_count": 22,
      "outputs": []
    },
    {
      "cell_type": "code",
      "metadata": {
        "id": "rBAHMNHxzHFx"
      },
      "source": [
        "import matplotlib as mpl\n",
        "import matplotlib.pyplot as plt\n",
        "import numpy as np\n",
        "import pandas as pd"
      ],
      "execution_count": 23,
      "outputs": []
    },
    {
      "cell_type": "code",
      "metadata": {
        "id": "kmmNf-1jzOdk"
      },
      "source": [
        "# font_path = r'C:\\Windows\\Fonts\\malgun.ttf'\n",
        "# font_name = mpl.font_manager.FontProperties(fname=font_path).get_name()\n",
        "# mpl.rc('font', family=font_name)"
      ],
      "execution_count": 24,
      "outputs": []
    },
    {
      "cell_type": "code",
      "metadata": {
        "colab": {
          "base_uri": "https://localhost:8080/"
        },
        "id": "M4QA7C-XzaJU",
        "outputId": "aea2eccf-47a8-4456-83db-07d6c75c0d1b"
      },
      "source": [
        "from sklearn import datasets\n",
        "iris = datasets.load_iris()\n",
        "\n",
        "irisdt = iris['data']\n",
        "irisdt"
      ],
      "execution_count": 25,
      "outputs": [
        {
          "output_type": "execute_result",
          "data": {
            "text/plain": [
              "array([[5.1, 3.5, 1.4, 0.2],\n",
              "       [4.9, 3. , 1.4, 0.2],\n",
              "       [4.7, 3.2, 1.3, 0.2],\n",
              "       [4.6, 3.1, 1.5, 0.2],\n",
              "       [5. , 3.6, 1.4, 0.2],\n",
              "       [5.4, 3.9, 1.7, 0.4],\n",
              "       [4.6, 3.4, 1.4, 0.3],\n",
              "       [5. , 3.4, 1.5, 0.2],\n",
              "       [4.4, 2.9, 1.4, 0.2],\n",
              "       [4.9, 3.1, 1.5, 0.1],\n",
              "       [5.4, 3.7, 1.5, 0.2],\n",
              "       [4.8, 3.4, 1.6, 0.2],\n",
              "       [4.8, 3. , 1.4, 0.1],\n",
              "       [4.3, 3. , 1.1, 0.1],\n",
              "       [5.8, 4. , 1.2, 0.2],\n",
              "       [5.7, 4.4, 1.5, 0.4],\n",
              "       [5.4, 3.9, 1.3, 0.4],\n",
              "       [5.1, 3.5, 1.4, 0.3],\n",
              "       [5.7, 3.8, 1.7, 0.3],\n",
              "       [5.1, 3.8, 1.5, 0.3],\n",
              "       [5.4, 3.4, 1.7, 0.2],\n",
              "       [5.1, 3.7, 1.5, 0.4],\n",
              "       [4.6, 3.6, 1. , 0.2],\n",
              "       [5.1, 3.3, 1.7, 0.5],\n",
              "       [4.8, 3.4, 1.9, 0.2],\n",
              "       [5. , 3. , 1.6, 0.2],\n",
              "       [5. , 3.4, 1.6, 0.4],\n",
              "       [5.2, 3.5, 1.5, 0.2],\n",
              "       [5.2, 3.4, 1.4, 0.2],\n",
              "       [4.7, 3.2, 1.6, 0.2],\n",
              "       [4.8, 3.1, 1.6, 0.2],\n",
              "       [5.4, 3.4, 1.5, 0.4],\n",
              "       [5.2, 4.1, 1.5, 0.1],\n",
              "       [5.5, 4.2, 1.4, 0.2],\n",
              "       [4.9, 3.1, 1.5, 0.2],\n",
              "       [5. , 3.2, 1.2, 0.2],\n",
              "       [5.5, 3.5, 1.3, 0.2],\n",
              "       [4.9, 3.6, 1.4, 0.1],\n",
              "       [4.4, 3. , 1.3, 0.2],\n",
              "       [5.1, 3.4, 1.5, 0.2],\n",
              "       [5. , 3.5, 1.3, 0.3],\n",
              "       [4.5, 2.3, 1.3, 0.3],\n",
              "       [4.4, 3.2, 1.3, 0.2],\n",
              "       [5. , 3.5, 1.6, 0.6],\n",
              "       [5.1, 3.8, 1.9, 0.4],\n",
              "       [4.8, 3. , 1.4, 0.3],\n",
              "       [5.1, 3.8, 1.6, 0.2],\n",
              "       [4.6, 3.2, 1.4, 0.2],\n",
              "       [5.3, 3.7, 1.5, 0.2],\n",
              "       [5. , 3.3, 1.4, 0.2],\n",
              "       [7. , 3.2, 4.7, 1.4],\n",
              "       [6.4, 3.2, 4.5, 1.5],\n",
              "       [6.9, 3.1, 4.9, 1.5],\n",
              "       [5.5, 2.3, 4. , 1.3],\n",
              "       [6.5, 2.8, 4.6, 1.5],\n",
              "       [5.7, 2.8, 4.5, 1.3],\n",
              "       [6.3, 3.3, 4.7, 1.6],\n",
              "       [4.9, 2.4, 3.3, 1. ],\n",
              "       [6.6, 2.9, 4.6, 1.3],\n",
              "       [5.2, 2.7, 3.9, 1.4],\n",
              "       [5. , 2. , 3.5, 1. ],\n",
              "       [5.9, 3. , 4.2, 1.5],\n",
              "       [6. , 2.2, 4. , 1. ],\n",
              "       [6.1, 2.9, 4.7, 1.4],\n",
              "       [5.6, 2.9, 3.6, 1.3],\n",
              "       [6.7, 3.1, 4.4, 1.4],\n",
              "       [5.6, 3. , 4.5, 1.5],\n",
              "       [5.8, 2.7, 4.1, 1. ],\n",
              "       [6.2, 2.2, 4.5, 1.5],\n",
              "       [5.6, 2.5, 3.9, 1.1],\n",
              "       [5.9, 3.2, 4.8, 1.8],\n",
              "       [6.1, 2.8, 4. , 1.3],\n",
              "       [6.3, 2.5, 4.9, 1.5],\n",
              "       [6.1, 2.8, 4.7, 1.2],\n",
              "       [6.4, 2.9, 4.3, 1.3],\n",
              "       [6.6, 3. , 4.4, 1.4],\n",
              "       [6.8, 2.8, 4.8, 1.4],\n",
              "       [6.7, 3. , 5. , 1.7],\n",
              "       [6. , 2.9, 4.5, 1.5],\n",
              "       [5.7, 2.6, 3.5, 1. ],\n",
              "       [5.5, 2.4, 3.8, 1.1],\n",
              "       [5.5, 2.4, 3.7, 1. ],\n",
              "       [5.8, 2.7, 3.9, 1.2],\n",
              "       [6. , 2.7, 5.1, 1.6],\n",
              "       [5.4, 3. , 4.5, 1.5],\n",
              "       [6. , 3.4, 4.5, 1.6],\n",
              "       [6.7, 3.1, 4.7, 1.5],\n",
              "       [6.3, 2.3, 4.4, 1.3],\n",
              "       [5.6, 3. , 4.1, 1.3],\n",
              "       [5.5, 2.5, 4. , 1.3],\n",
              "       [5.5, 2.6, 4.4, 1.2],\n",
              "       [6.1, 3. , 4.6, 1.4],\n",
              "       [5.8, 2.6, 4. , 1.2],\n",
              "       [5. , 2.3, 3.3, 1. ],\n",
              "       [5.6, 2.7, 4.2, 1.3],\n",
              "       [5.7, 3. , 4.2, 1.2],\n",
              "       [5.7, 2.9, 4.2, 1.3],\n",
              "       [6.2, 2.9, 4.3, 1.3],\n",
              "       [5.1, 2.5, 3. , 1.1],\n",
              "       [5.7, 2.8, 4.1, 1.3],\n",
              "       [6.3, 3.3, 6. , 2.5],\n",
              "       [5.8, 2.7, 5.1, 1.9],\n",
              "       [7.1, 3. , 5.9, 2.1],\n",
              "       [6.3, 2.9, 5.6, 1.8],\n",
              "       [6.5, 3. , 5.8, 2.2],\n",
              "       [7.6, 3. , 6.6, 2.1],\n",
              "       [4.9, 2.5, 4.5, 1.7],\n",
              "       [7.3, 2.9, 6.3, 1.8],\n",
              "       [6.7, 2.5, 5.8, 1.8],\n",
              "       [7.2, 3.6, 6.1, 2.5],\n",
              "       [6.5, 3.2, 5.1, 2. ],\n",
              "       [6.4, 2.7, 5.3, 1.9],\n",
              "       [6.8, 3. , 5.5, 2.1],\n",
              "       [5.7, 2.5, 5. , 2. ],\n",
              "       [5.8, 2.8, 5.1, 2.4],\n",
              "       [6.4, 3.2, 5.3, 2.3],\n",
              "       [6.5, 3. , 5.5, 1.8],\n",
              "       [7.7, 3.8, 6.7, 2.2],\n",
              "       [7.7, 2.6, 6.9, 2.3],\n",
              "       [6. , 2.2, 5. , 1.5],\n",
              "       [6.9, 3.2, 5.7, 2.3],\n",
              "       [5.6, 2.8, 4.9, 2. ],\n",
              "       [7.7, 2.8, 6.7, 2. ],\n",
              "       [6.3, 2.7, 4.9, 1.8],\n",
              "       [6.7, 3.3, 5.7, 2.1],\n",
              "       [7.2, 3.2, 6. , 1.8],\n",
              "       [6.2, 2.8, 4.8, 1.8],\n",
              "       [6.1, 3. , 4.9, 1.8],\n",
              "       [6.4, 2.8, 5.6, 2.1],\n",
              "       [7.2, 3. , 5.8, 1.6],\n",
              "       [7.4, 2.8, 6.1, 1.9],\n",
              "       [7.9, 3.8, 6.4, 2. ],\n",
              "       [6.4, 2.8, 5.6, 2.2],\n",
              "       [6.3, 2.8, 5.1, 1.5],\n",
              "       [6.1, 2.6, 5.6, 1.4],\n",
              "       [7.7, 3. , 6.1, 2.3],\n",
              "       [6.3, 3.4, 5.6, 2.4],\n",
              "       [6.4, 3.1, 5.5, 1.8],\n",
              "       [6. , 3. , 4.8, 1.8],\n",
              "       [6.9, 3.1, 5.4, 2.1],\n",
              "       [6.7, 3.1, 5.6, 2.4],\n",
              "       [6.9, 3.1, 5.1, 2.3],\n",
              "       [5.8, 2.7, 5.1, 1.9],\n",
              "       [6.8, 3.2, 5.9, 2.3],\n",
              "       [6.7, 3.3, 5.7, 2.5],\n",
              "       [6.7, 3. , 5.2, 2.3],\n",
              "       [6.3, 2.5, 5. , 1.9],\n",
              "       [6.5, 3. , 5.2, 2. ],\n",
              "       [6.2, 3.4, 5.4, 2.3],\n",
              "       [5.9, 3. , 5.1, 1.8]])"
            ]
          },
          "metadata": {
            "tags": []
          },
          "execution_count": 25
        }
      ]
    },
    {
      "cell_type": "code",
      "metadata": {
        "colab": {
          "base_uri": "https://localhost:8080/",
          "height": 204
        },
        "id": "opsSIwaK0Cyv",
        "outputId": "eb742ae5-63e3-4187-fae6-a16433fec1b3"
      },
      "source": [
        "col = iris['feature_names']\n",
        "\n",
        "irisdf = pd.DataFrame(irisdt, columns=col)\n",
        "irisdf.tail()"
      ],
      "execution_count": 26,
      "outputs": [
        {
          "output_type": "execute_result",
          "data": {
            "text/html": [
              "<div>\n",
              "<style scoped>\n",
              "    .dataframe tbody tr th:only-of-type {\n",
              "        vertical-align: middle;\n",
              "    }\n",
              "\n",
              "    .dataframe tbody tr th {\n",
              "        vertical-align: top;\n",
              "    }\n",
              "\n",
              "    .dataframe thead th {\n",
              "        text-align: right;\n",
              "    }\n",
              "</style>\n",
              "<table border=\"1\" class=\"dataframe\">\n",
              "  <thead>\n",
              "    <tr style=\"text-align: right;\">\n",
              "      <th></th>\n",
              "      <th>sepal length (cm)</th>\n",
              "      <th>sepal width (cm)</th>\n",
              "      <th>petal length (cm)</th>\n",
              "      <th>petal width (cm)</th>\n",
              "    </tr>\n",
              "  </thead>\n",
              "  <tbody>\n",
              "    <tr>\n",
              "      <th>145</th>\n",
              "      <td>6.7</td>\n",
              "      <td>3.0</td>\n",
              "      <td>5.2</td>\n",
              "      <td>2.3</td>\n",
              "    </tr>\n",
              "    <tr>\n",
              "      <th>146</th>\n",
              "      <td>6.3</td>\n",
              "      <td>2.5</td>\n",
              "      <td>5.0</td>\n",
              "      <td>1.9</td>\n",
              "    </tr>\n",
              "    <tr>\n",
              "      <th>147</th>\n",
              "      <td>6.5</td>\n",
              "      <td>3.0</td>\n",
              "      <td>5.2</td>\n",
              "      <td>2.0</td>\n",
              "    </tr>\n",
              "    <tr>\n",
              "      <th>148</th>\n",
              "      <td>6.2</td>\n",
              "      <td>3.4</td>\n",
              "      <td>5.4</td>\n",
              "      <td>2.3</td>\n",
              "    </tr>\n",
              "    <tr>\n",
              "      <th>149</th>\n",
              "      <td>5.9</td>\n",
              "      <td>3.0</td>\n",
              "      <td>5.1</td>\n",
              "      <td>1.8</td>\n",
              "    </tr>\n",
              "  </tbody>\n",
              "</table>\n",
              "</div>"
            ],
            "text/plain": [
              "     sepal length (cm)  sepal width (cm)  petal length (cm)  petal width (cm)\n",
              "145                6.7               3.0                5.2               2.3\n",
              "146                6.3               2.5                5.0               1.9\n",
              "147                6.5               3.0                5.2               2.0\n",
              "148                6.2               3.4                5.4               2.3\n",
              "149                5.9               3.0                5.1               1.8"
            ]
          },
          "metadata": {
            "tags": []
          },
          "execution_count": 26
        }
      ]
    },
    {
      "cell_type": "code",
      "metadata": {
        "colab": {
          "base_uri": "https://localhost:8080/",
          "height": 295
        },
        "id": "J-E6xRYm0KNP",
        "outputId": "4e32e8e1-4450-4622-c743-f9930908127b"
      },
      "source": [
        "irisdf[\"sepal length (cm)\"][:20].plot(kind='bar', rot=0)\n",
        "plt.title(\"sepal length visualization\")\n",
        "plt.xlabel(\"Data\")\n",
        "plt.ylabel(\"sepal length\")\n",
        "plt.show()"
      ],
      "execution_count": 28,
      "outputs": [
        {
          "output_type": "display_data",
          "data": {
            "image/png": "[encoded data removed]",
            "text/plain": [
              "<Figure size 432x288 with 1 Axes>"
            ]
          },
          "metadata": {
            "tags": [],
            "needs_background": "light"
          }
        }
      ]
    },
    {
      "cell_type": "code",
      "metadata": {
        "colab": {
          "base_uri": "https://localhost:8080/",
          "height": 295
        },
        "id": "zPFJ5R500cfN",
        "outputId": "c68c2211-c4ad-4af5-df30-6f0648d192d1"
      },
      "source": [
        "irisdf[:5].plot.bar(rot=0)\n",
        "plt.title(\"Iris data bar blot\")\n",
        "plt.xlabel(\"Data\")\n",
        "plt.ylabel(\"Features\")\n",
        "plt.ylim(0,7)\n",
        "plt.show()"
      ],
      "execution_count": 29,
      "outputs": [
        {
          "output_type": "display_data",
          "data": {
            "image/png": "[encoded data removed]",
            "text/plain": [
              "<Figure size 432x288 with 1 Axes>"
            ]
          },
          "metadata": {
            "tags": [],
            "needs_background": "light"
          }
        }
      ]
    },
    {
      "cell_type": "code",
      "metadata": {
        "colab": {
          "base_uri": "https://localhost:8080/"
        },
        "id": "yTNqn5xc2ojl",
        "outputId": "c5413cac-2115-4245-a683-11e997bdec90"
      },
      "source": [
        "iris"
      ],
      "execution_count": 30,
      "outputs": [
        {
          "output_type": "execute_result",
          "data": {
            "text/plain": [
              "{'DESCR': '.. _iris_dataset:\\n\\nIris plants dataset\\n--------------------\\n\\n**Data Set Characteristics:**\\n\\n    :Number of Instances: 150 (50 in each of three classes)\\n    :Number of Attributes: 4 numeric, predictive attributes and the class\\n    :Attribute Information:\\n        - sepal length in cm\\n        - sepal width in cm\\n        - petal length in cm\\n        - petal width in cm\\n        - class:\\n                - Iris-Setosa\\n                - Iris-Versicolour\\n                - Iris-Virginica\\n                \\n    :Summary Statistics:\\n\\n    ============== ==== ==== ======= ===== ====================\\n                    Min  Max   Mean    SD   Class Correlation\\n    ============== ==== ==== ======= ===== ====================\\n    sepal length:   4.3  7.9   5.84   0.83    0.7826\\n    sepal width:    2.0  4.4   3.05   0.43   -0.4194\\n    petal length:   1.0  6.9   3.76   1.76    0.9490  (high!)\\n    petal width:    0.1  2.5   1.20   0.76    0.9565  (high!)\\n    ============== ==== ==== ======= ===== ====================\\n\\n    :Missing Attribute Values: None\\n    :Class Distribution: 33.3% for each of 3 classes.\\n    :Creator: R.A. Fisher\\n    :Donor: Michael Marshall (MARSHALL%PLU@io.arc.nasa.gov)\\n    :Date: July, 1988\\n\\nThe famous Iris database, first used by Sir R.A. Fisher. The dataset is taken\\nfrom Fisher\\'s paper. Note that it\\'s the same as in R, but not as in the UCI\\nMachine Learning Repository, which has two wrong data points.\\n\\nThis is perhaps the best known database to be found in the\\npattern recognition literature.  Fisher\\'s paper is a classic in the field and\\nis referenced frequently to this day.  (See Duda & Hart, for example.)  The\\ndata set contains 3 classes of 50 instances each, where each class refers to a\\ntype of iris plant.  One class is linearly separable from the other 2; the\\nlatter are NOT linearly separable from each other.\\n\\n.. topic:: References\\n\\n   - Fisher, R.A. \"The use of multiple measurements in taxonomic problems\"\\n     Annual Eugenics, 7, Part II, 179-188 (1936); also in \"Contributions to\\n     Mathematical Statistics\" (John Wiley, NY, 1950).\\n   - Duda, R.O., & Hart, P.E. (1973) Pattern Classification and Scene Analysis.\\n     (Q327.D83) John Wiley & Sons.  ISBN 0-471-22361-1.  See page 218.\\n   - Dasarathy, B.V. (1980) \"Nosing Around the Neighborhood: A New System\\n     Structure and Classification Rule for Recognition in Partially Exposed\\n     Environments\".  IEEE Transactions on Pattern Analysis and Machine\\n     Intelligence, Vol. PAMI-2, No. 1, 67-71.\\n   - Gates, G.W. (1972) \"The Reduced Nearest Neighbor Rule\".  IEEE Transactions\\n     on Information Theory, May 1972, 431-433.\\n   - See also: 1988 MLC Proceedings, 54-64.  Cheeseman et al\"s AUTOCLASS II\\n     conceptual clustering system finds 3 classes in the data.\\n   - Many, many more ...',\n",
              " 'data': array([[5.1, 3.5, 1.4, 0.2],\n",
              "        [4.9, 3. , 1.4, 0.2],\n",
              "        [4.7, 3.2, 1.3, 0.2],\n",
              "        [4.6, 3.1, 1.5, 0.2],\n",
              "        [5. , 3.6, 1.4, 0.2],\n",
              "        [5.4, 3.9, 1.7, 0.4],\n",
              "        [4.6, 3.4, 1.4, 0.3],\n",
              "        [5. , 3.4, 1.5, 0.2],\n",
              "        [4.4, 2.9, 1.4, 0.2],\n",
              "        [4.9, 3.1, 1.5, 0.1],\n",
              "        [5.4, 3.7, 1.5, 0.2],\n",
              "        [4.8, 3.4, 1.6, 0.2],\n",
              "        [4.8, 3. , 1.4, 0.1],\n",
              "        [4.3, 3. , 1.1, 0.1],\n",
              "        [5.8, 4. , 1.2, 0.2],\n",
              "        [5.7, 4.4, 1.5, 0.4],\n",
              "        [5.4, 3.9, 1.3, 0.4],\n",
              "        [5.1, 3.5, 1.4, 0.3],\n",
              "        [5.7, 3.8, 1.7, 0.3],\n",
              "        [5.1, 3.8, 1.5, 0.3],\n",
              "        [5.4, 3.4, 1.7, 0.2],\n",
              "        [5.1, 3.7, 1.5, 0.4],\n",
              "        [4.6, 3.6, 1. , 0.2],\n",
              "        [5.1, 3.3, 1.7, 0.5],\n",
              "        [4.8, 3.4, 1.9, 0.2],\n",
              "        [5. , 3. , 1.6, 0.2],\n",
              "        [5. , 3.4, 1.6, 0.4],\n",
              "        [5.2, 3.5, 1.5, 0.2],\n",
              "        [5.2, 3.4, 1.4, 0.2],\n",
              "        [4.7, 3.2, 1.6, 0.2],\n",
              "        [4.8, 3.1, 1.6, 0.2],\n",
              "        [5.4, 3.4, 1.5, 0.4],\n",
              "        [5.2, 4.1, 1.5, 0.1],\n",
              "        [5.5, 4.2, 1.4, 0.2],\n",
              "        [4.9, 3.1, 1.5, 0.2],\n",
              "        [5. , 3.2, 1.2, 0.2],\n",
              "        [5.5, 3.5, 1.3, 0.2],\n",
              "        [4.9, 3.6, 1.4, 0.1],\n",
              "        [4.4, 3. , 1.3, 0.2],\n",
              "        [5.1, 3.4, 1.5, 0.2],\n",
              "        [5. , 3.5, 1.3, 0.3],\n",
              "        [4.5, 2.3, 1.3, 0.3],\n",
              "        [4.4, 3.2, 1.3, 0.2],\n",
              "        [5. , 3.5, 1.6, 0.6],\n",
              "        [5.1, 3.8, 1.9, 0.4],\n",
              "        [4.8, 3. , 1.4, 0.3],\n",
              "        [5.1, 3.8, 1.6, 0.2],\n",
              "        [4.6, 3.2, 1.4, 0.2],\n",
              "        [5.3, 3.7, 1.5, 0.2],\n",
              "        [5. , 3.3, 1.4, 0.2],\n",
              "        [7. , 3.2, 4.7, 1.4],\n",
              "        [6.4, 3.2, 4.5, 1.5],\n",
              "        [6.9, 3.1, 4.9, 1.5],\n",
              "        [5.5, 2.3, 4. , 1.3],\n",
              "        [6.5, 2.8, 4.6, 1.5],\n",
              "        [5.7, 2.8, 4.5, 1.3],\n",
              "        [6.3, 3.3, 4.7, 1.6],\n",
              "        [4.9, 2.4, 3.3, 1. ],\n",
              "        [6.6, 2.9, 4.6, 1.3],\n",
              "        [5.2, 2.7, 3.9, 1.4],\n",
              "        [5. , 2. , 3.5, 1. ],\n",
              "        [5.9, 3. , 4.2, 1.5],\n",
              "        [6. , 2.2, 4. , 1. ],\n",
              "        [6.1, 2.9, 4.7, 1.4],\n",
              "        [5.6, 2.9, 3.6, 1.3],\n",
              "        [6.7, 3.1, 4.4, 1.4],\n",
              "        [5.6, 3. , 4.5, 1.5],\n",
              "        [5.8, 2.7, 4.1, 1. ],\n",
              "        [6.2, 2.2, 4.5, 1.5],\n",
              "        [5.6, 2.5, 3.9, 1.1],\n",
              "        [5.9, 3.2, 4.8, 1.8],\n",
              "        [6.1, 2.8, 4. , 1.3],\n",
              "        [6.3, 2.5, 4.9, 1.5],\n",
              "        [6.1, 2.8, 4.7, 1.2],\n",
              "        [6.4, 2.9, 4.3, 1.3],\n",
              "        [6.6, 3. , 4.4, 1.4],\n",
              "        [6.8, 2.8, 4.8, 1.4],\n",
              "        [6.7, 3. , 5. , 1.7],\n",
              "        [6. , 2.9, 4.5, 1.5],\n",
              "        [5.7, 2.6, 3.5, 1. ],\n",
              "        [5.5, 2.4, 3.8, 1.1],\n",
              "        [5.5, 2.4, 3.7, 1. ],\n",
              "        [5.8, 2.7, 3.9, 1.2],\n",
              "        [6. , 2.7, 5.1, 1.6],\n",
              "        [5.4, 3. , 4.5, 1.5],\n",
              "        [6. , 3.4, 4.5, 1.6],\n",
              "        [6.7, 3.1, 4.7, 1.5],\n",
              "        [6.3, 2.3, 4.4, 1.3],\n",
              "        [5.6, 3. , 4.1, 1.3],\n",
              "        [5.5, 2.5, 4. , 1.3],\n",
              "        [5.5, 2.6, 4.4, 1.2],\n",
              "        [6.1, 3. , 4.6, 1.4],\n",
              "        [5.8, 2.6, 4. , 1.2],\n",
              "        [5. , 2.3, 3.3, 1. ],\n",
              "        [5.6, 2.7, 4.2, 1.3],\n",
              "        [5.7, 3. , 4.2, 1.2],\n",
              "        [5.7, 2.9, 4.2, 1.3],\n",
              "        [6.2, 2.9, 4.3, 1.3],\n",
              "        [5.1, 2.5, 3. , 1.1],\n",
              "        [5.7, 2.8, 4.1, 1.3],\n",
              "        [6.3, 3.3, 6. , 2.5],\n",
              "        [5.8, 2.7, 5.1, 1.9],\n",
              "        [7.1, 3. , 5.9, 2.1],\n",
              "        [6.3, 2.9, 5.6, 1.8],\n",
              "        [6.5, 3. , 5.8, 2.2],\n",
              "        [7.6, 3. , 6.6, 2.1],\n",
              "        [4.9, 2.5, 4.5, 1.7],\n",
              "        [7.3, 2.9, 6.3, 1.8],\n",
              "        [6.7, 2.5, 5.8, 1.8],\n",
              "        [7.2, 3.6, 6.1, 2.5],\n",
              "        [6.5, 3.2, 5.1, 2. ],\n",
              "        [6.4, 2.7, 5.3, 1.9],\n",
              "        [6.8, 3. , 5.5, 2.1],\n",
              "        [5.7, 2.5, 5. , 2. ],\n",
              "        [5.8, 2.8, 5.1, 2.4],\n",
              "        [6.4, 3.2, 5.3, 2.3],\n",
              "        [6.5, 3. , 5.5, 1.8],\n",
              "        [7.7, 3.8, 6.7, 2.2],\n",
              "        [7.7, 2.6, 6.9, 2.3],\n",
              "        [6. , 2.2, 5. , 1.5],\n",
              "        [6.9, 3.2, 5.7, 2.3],\n",
              "        [5.6, 2.8, 4.9, 2. ],\n",
              "        [7.7, 2.8, 6.7, 2. ],\n",
              "        [6.3, 2.7, 4.9, 1.8],\n",
              "        [6.7, 3.3, 5.7, 2.1],\n",
              "        [7.2, 3.2, 6. , 1.8],\n",
              "        [6.2, 2.8, 4.8, 1.8],\n",
              "        [6.1, 3. , 4.9, 1.8],\n",
              "        [6.4, 2.8, 5.6, 2.1],\n",
              "        [7.2, 3. , 5.8, 1.6],\n",
              "        [7.4, 2.8, 6.1, 1.9],\n",
              "        [7.9, 3.8, 6.4, 2. ],\n",
              "        [6.4, 2.8, 5.6, 2.2],\n",
              "        [6.3, 2.8, 5.1, 1.5],\n",
              "        [6.1, 2.6, 5.6, 1.4],\n",
              "        [7.7, 3. , 6.1, 2.3],\n",
              "        [6.3, 3.4, 5.6, 2.4],\n",
              "        [6.4, 3.1, 5.5, 1.8],\n",
              "        [6. , 3. , 4.8, 1.8],\n",
              "        [6.9, 3.1, 5.4, 2.1],\n",
              "        [6.7, 3.1, 5.6, 2.4],\n",
              "        [6.9, 3.1, 5.1, 2.3],\n",
              "        [5.8, 2.7, 5.1, 1.9],\n",
              "        [6.8, 3.2, 5.9, 2.3],\n",
              "        [6.7, 3.3, 5.7, 2.5],\n",
              "        [6.7, 3. , 5.2, 2.3],\n",
              "        [6.3, 2.5, 5. , 1.9],\n",
              "        [6.5, 3. , 5.2, 2. ],\n",
              "        [6.2, 3.4, 5.4, 2.3],\n",
              "        [5.9, 3. , 5.1, 1.8]]),\n",
              " 'feature_names': ['sepal length (cm)',\n",
              "  'sepal width (cm)',\n",
              "  'petal length (cm)',\n",
              "  'petal width (cm)'],\n",
              " 'filename': '/usr/local/lib/python3.7/dist-packages/sklearn/datasets/data/iris.csv',\n",
              " 'target': array([0, 0, 0, 0, 0, 0, 0, 0, 0, 0, 0, 0, 0, 0, 0, 0, 0, 0, 0, 0, 0, 0,\n",
              "        0, 0, 0, 0, 0, 0, 0, 0, 0, 0, 0, 0, 0, 0, 0, 0, 0, 0, 0, 0, 0, 0,\n",
              "        0, 0, 0, 0, 0, 0, 1, 1, 1, 1, 1, 1, 1, 1, 1, 1, 1, 1, 1, 1, 1, 1,\n",
              "        1, 1, 1, 1, 1, 1, 1, 1, 1, 1, 1, 1, 1, 1, 1, 1, 1, 1, 1, 1, 1, 1,\n",
              "        1, 1, 1, 1, 1, 1, 1, 1, 1, 1, 1, 1, 2, 2, 2, 2, 2, 2, 2, 2, 2, 2,\n",
              "        2, 2, 2, 2, 2, 2, 2, 2, 2, 2, 2, 2, 2, 2, 2, 2, 2, 2, 2, 2, 2, 2,\n",
              "        2, 2, 2, 2, 2, 2, 2, 2, 2, 2, 2, 2, 2, 2, 2, 2, 2, 2]),\n",
              " 'target_names': array(['setosa', 'versicolor', 'virginica'], dtype='<U10')}"
            ]
          },
          "metadata": {
            "tags": []
          },
          "execution_count": 30
        }
      ]
    },
    {
      "cell_type": "code",
      "metadata": {
        "colab": {
          "base_uri": "https://localhost:8080/"
        },
        "id": "uocYELH_2rQp",
        "outputId": "de3abfe1-17b7-4eb3-d29d-8b7b89d63a9a"
      },
      "source": [
        "iris['target_names']"
      ],
      "execution_count": 31,
      "outputs": [
        {
          "output_type": "execute_result",
          "data": {
            "text/plain": [
              "array(['setosa', 'versicolor', 'virginica'], dtype='<U10')"
            ]
          },
          "metadata": {
            "tags": []
          },
          "execution_count": 31
        }
      ]
    },
    {
      "cell_type": "code",
      "metadata": {
        "colab": {
          "base_uri": "https://localhost:8080/",
          "height": 297
        },
        "id": "Eu3FzYKb2t-N",
        "outputId": "77d389ac-f371-4c47-df0d-ae19580ecb20"
      },
      "source": [
        "species = iris['target']\n",
        "\n",
        "irisdf['species'] = species\n",
        "irisdf[::20]"
      ],
      "execution_count": 33,
      "outputs": [
        {
          "output_type": "execute_result",
          "data": {
            "text/html": [
              "<div>\n",
              "<style scoped>\n",
              "    .dataframe tbody tr th:only-of-type {\n",
              "        vertical-align: middle;\n",
              "    }\n",
              "\n",
              "    .dataframe tbody tr th {\n",
              "        vertical-align: top;\n",
              "    }\n",
              "\n",
              "    .dataframe thead th {\n",
              "        text-align: right;\n",
              "    }\n",
              "</style>\n",
              "<table border=\"1\" class=\"dataframe\">\n",
              "  <thead>\n",
              "    <tr style=\"text-align: right;\">\n",
              "      <th></th>\n",
              "      <th>sepal length (cm)</th>\n",
              "      <th>sepal width (cm)</th>\n",
              "      <th>petal length (cm)</th>\n",
              "      <th>petal width (cm)</th>\n",
              "      <th>species</th>\n",
              "    </tr>\n",
              "  </thead>\n",
              "  <tbody>\n",
              "    <tr>\n",
              "      <th>0</th>\n",
              "      <td>5.1</td>\n",
              "      <td>3.5</td>\n",
              "      <td>1.4</td>\n",
              "      <td>0.2</td>\n",
              "      <td>0</td>\n",
              "    </tr>\n",
              "    <tr>\n",
              "      <th>20</th>\n",
              "      <td>5.4</td>\n",
              "      <td>3.4</td>\n",
              "      <td>1.7</td>\n",
              "      <td>0.2</td>\n",
              "      <td>0</td>\n",
              "    </tr>\n",
              "    <tr>\n",
              "      <th>40</th>\n",
              "      <td>5.0</td>\n",
              "      <td>3.5</td>\n",
              "      <td>1.3</td>\n",
              "      <td>0.3</td>\n",
              "      <td>0</td>\n",
              "    </tr>\n",
              "    <tr>\n",
              "      <th>60</th>\n",
              "      <td>5.0</td>\n",
              "      <td>2.0</td>\n",
              "      <td>3.5</td>\n",
              "      <td>1.0</td>\n",
              "      <td>1</td>\n",
              "    </tr>\n",
              "    <tr>\n",
              "      <th>80</th>\n",
              "      <td>5.5</td>\n",
              "      <td>2.4</td>\n",
              "      <td>3.8</td>\n",
              "      <td>1.1</td>\n",
              "      <td>1</td>\n",
              "    </tr>\n",
              "    <tr>\n",
              "      <th>100</th>\n",
              "      <td>6.3</td>\n",
              "      <td>3.3</td>\n",
              "      <td>6.0</td>\n",
              "      <td>2.5</td>\n",
              "      <td>2</td>\n",
              "    </tr>\n",
              "    <tr>\n",
              "      <th>120</th>\n",
              "      <td>6.9</td>\n",
              "      <td>3.2</td>\n",
              "      <td>5.7</td>\n",
              "      <td>2.3</td>\n",
              "      <td>2</td>\n",
              "    </tr>\n",
              "    <tr>\n",
              "      <th>140</th>\n",
              "      <td>6.7</td>\n",
              "      <td>3.1</td>\n",
              "      <td>5.6</td>\n",
              "      <td>2.4</td>\n",
              "      <td>2</td>\n",
              "    </tr>\n",
              "  </tbody>\n",
              "</table>\n",
              "</div>"
            ],
            "text/plain": [
              "     sepal length (cm)  sepal width (cm)  ...  petal width (cm)  species\n",
              "0                  5.1               3.5  ...               0.2        0\n",
              "20                 5.4               3.4  ...               0.2        0\n",
              "40                 5.0               3.5  ...               0.3        0\n",
              "60                 5.0               2.0  ...               1.0        1\n",
              "80                 5.5               2.4  ...               1.1        1\n",
              "100                6.3               3.3  ...               2.5        2\n",
              "120                6.9               3.2  ...               2.3        2\n",
              "140                6.7               3.1  ...               2.4        2\n",
              "\n",
              "[8 rows x 5 columns]"
            ]
          },
          "metadata": {
            "tags": []
          },
          "execution_count": 33
        }
      ]
    },
    {
      "cell_type": "code",
      "metadata": {
        "colab": {
          "base_uri": "https://localhost:8080/",
          "height": 142
        },
        "id": "IZxRr3LI2-Ke",
        "outputId": "6e2f03dc-3298-4552-a33f-1e40087647db"
      },
      "source": [
        "df2 = irisdf.groupby(species).mean()\n",
        "df2.columns.name = \"feature\"\n",
        "df2"
      ],
      "execution_count": 34,
      "outputs": [
        {
          "output_type": "execute_result",
          "data": {
            "text/html": [
              "<div>\n",
              "<style scoped>\n",
              "    .dataframe tbody tr th:only-of-type {\n",
              "        vertical-align: middle;\n",
              "    }\n",
              "\n",
              "    .dataframe tbody tr th {\n",
              "        vertical-align: top;\n",
              "    }\n",
              "\n",
              "    .dataframe thead th {\n",
              "        text-align: right;\n",
              "    }\n",
              "</style>\n",
              "<table border=\"1\" class=\"dataframe\">\n",
              "  <thead>\n",
              "    <tr style=\"text-align: right;\">\n",
              "      <th>feature</th>\n",
              "      <th>sepal length (cm)</th>\n",
              "      <th>sepal width (cm)</th>\n",
              "      <th>petal length (cm)</th>\n",
              "      <th>petal width (cm)</th>\n",
              "      <th>species</th>\n",
              "    </tr>\n",
              "  </thead>\n",
              "  <tbody>\n",
              "    <tr>\n",
              "      <th>0</th>\n",
              "      <td>5.006</td>\n",
              "      <td>3.428</td>\n",
              "      <td>1.462</td>\n",
              "      <td>0.246</td>\n",
              "      <td>0</td>\n",
              "    </tr>\n",
              "    <tr>\n",
              "      <th>1</th>\n",
              "      <td>5.936</td>\n",
              "      <td>2.770</td>\n",
              "      <td>4.260</td>\n",
              "      <td>1.326</td>\n",
              "      <td>1</td>\n",
              "    </tr>\n",
              "    <tr>\n",
              "      <th>2</th>\n",
              "      <td>6.588</td>\n",
              "      <td>2.974</td>\n",
              "      <td>5.552</td>\n",
              "      <td>2.026</td>\n",
              "      <td>2</td>\n",
              "    </tr>\n",
              "  </tbody>\n",
              "</table>\n",
              "</div>"
            ],
            "text/plain": [
              "feature  sepal length (cm)  sepal width (cm)  ...  petal width (cm)  species\n",
              "0                    5.006             3.428  ...             0.246        0\n",
              "1                    5.936             2.770  ...             1.326        1\n",
              "2                    6.588             2.974  ...             2.026        2\n",
              "\n",
              "[3 rows x 5 columns]"
            ]
          },
          "metadata": {
            "tags": []
          },
          "execution_count": 34
        }
      ]
    },
    {
      "cell_type": "code",
      "metadata": {
        "colab": {
          "base_uri": "https://localhost:8080/",
          "height": 173
        },
        "id": "tl2EpZk03NGi",
        "outputId": "9b092649-a0c3-4f7f-f99d-1beb969c4130"
      },
      "source": [
        "df2.index = df2['species']\n",
        "del df2['species']\n",
        "df2"
      ],
      "execution_count": 35,
      "outputs": [
        {
          "output_type": "execute_result",
          "data": {
            "text/html": [
              "<div>\n",
              "<style scoped>\n",
              "    .dataframe tbody tr th:only-of-type {\n",
              "        vertical-align: middle;\n",
              "    }\n",
              "\n",
              "    .dataframe tbody tr th {\n",
              "        vertical-align: top;\n",
              "    }\n",
              "\n",
              "    .dataframe thead th {\n",
              "        text-align: right;\n",
              "    }\n",
              "</style>\n",
              "<table border=\"1\" class=\"dataframe\">\n",
              "  <thead>\n",
              "    <tr style=\"text-align: right;\">\n",
              "      <th>feature</th>\n",
              "      <th>sepal length (cm)</th>\n",
              "      <th>sepal width (cm)</th>\n",
              "      <th>petal length (cm)</th>\n",
              "      <th>petal width (cm)</th>\n",
              "    </tr>\n",
              "    <tr>\n",
              "      <th>species</th>\n",
              "      <th></th>\n",
              "      <th></th>\n",
              "      <th></th>\n",
              "      <th></th>\n",
              "    </tr>\n",
              "  </thead>\n",
              "  <tbody>\n",
              "    <tr>\n",
              "      <th>0</th>\n",
              "      <td>5.006</td>\n",
              "      <td>3.428</td>\n",
              "      <td>1.462</td>\n",
              "      <td>0.246</td>\n",
              "    </tr>\n",
              "    <tr>\n",
              "      <th>1</th>\n",
              "      <td>5.936</td>\n",
              "      <td>2.770</td>\n",
              "      <td>4.260</td>\n",
              "      <td>1.326</td>\n",
              "    </tr>\n",
              "    <tr>\n",
              "      <th>2</th>\n",
              "      <td>6.588</td>\n",
              "      <td>2.974</td>\n",
              "      <td>5.552</td>\n",
              "      <td>2.026</td>\n",
              "    </tr>\n",
              "  </tbody>\n",
              "</table>\n",
              "</div>"
            ],
            "text/plain": [
              "feature  sepal length (cm)  ...  petal width (cm)\n",
              "species                     ...                  \n",
              "0                    5.006  ...             0.246\n",
              "1                    5.936  ...             1.326\n",
              "2                    6.588  ...             2.026\n",
              "\n",
              "[3 rows x 4 columns]"
            ]
          },
          "metadata": {
            "tags": []
          },
          "execution_count": 35
        }
      ]
    },
    {
      "cell_type": "code",
      "metadata": {
        "colab": {
          "base_uri": "https://localhost:8080/",
          "height": 142
        },
        "id": "iKz55LTr4D0x",
        "outputId": "9037d454-2301-4d76-85d2-d384c41e7698"
      },
      "source": [
        "df2.index = iris['target_names']\n",
        "df2"
      ],
      "execution_count": 36,
      "outputs": [
        {
          "output_type": "execute_result",
          "data": {
            "text/html": [
              "<div>\n",
              "<style scoped>\n",
              "    .dataframe tbody tr th:only-of-type {\n",
              "        vertical-align: middle;\n",
              "    }\n",
              "\n",
              "    .dataframe tbody tr th {\n",
              "        vertical-align: top;\n",
              "    }\n",
              "\n",
              "    .dataframe thead th {\n",
              "        text-align: right;\n",
              "    }\n",
              "</style>\n",
              "<table border=\"1\" class=\"dataframe\">\n",
              "  <thead>\n",
              "    <tr style=\"text-align: right;\">\n",
              "      <th>feature</th>\n",
              "      <th>sepal length (cm)</th>\n",
              "      <th>sepal width (cm)</th>\n",
              "      <th>petal length (cm)</th>\n",
              "      <th>petal width (cm)</th>\n",
              "    </tr>\n",
              "  </thead>\n",
              "  <tbody>\n",
              "    <tr>\n",
              "      <th>setosa</th>\n",
              "      <td>5.006</td>\n",
              "      <td>3.428</td>\n",
              "      <td>1.462</td>\n",
              "      <td>0.246</td>\n",
              "    </tr>\n",
              "    <tr>\n",
              "      <th>versicolor</th>\n",
              "      <td>5.936</td>\n",
              "      <td>2.770</td>\n",
              "      <td>4.260</td>\n",
              "      <td>1.326</td>\n",
              "    </tr>\n",
              "    <tr>\n",
              "      <th>virginica</th>\n",
              "      <td>6.588</td>\n",
              "      <td>2.974</td>\n",
              "      <td>5.552</td>\n",
              "      <td>2.026</td>\n",
              "    </tr>\n",
              "  </tbody>\n",
              "</table>\n",
              "</div>"
            ],
            "text/plain": [
              "feature     sepal length (cm)  ...  petal width (cm)\n",
              "setosa                  5.006  ...             0.246\n",
              "versicolor              5.936  ...             1.326\n",
              "virginica               6.588  ...             2.026\n",
              "\n",
              "[3 rows x 4 columns]"
            ]
          },
          "metadata": {
            "tags": []
          },
          "execution_count": 36
        }
      ]
    },
    {
      "cell_type": "code",
      "metadata": {
        "colab": {
          "base_uri": "https://localhost:8080/",
          "height": 295
        },
        "id": "T2_1r5yX4UTl",
        "outputId": "7155f08f-7153-4a6c-fcad-bd6da3393a0b"
      },
      "source": [
        "df2.plot.bar(rot=0)\n",
        "plt.title(\"mean species per feature\")\n",
        "plt.xlabel(\"mean\")\n",
        "plt.ylabel(\"species\")\n",
        "plt.ylim(0,8)\n",
        "plt.show()"
      ],
      "execution_count": 41,
      "outputs": [
        {
          "output_type": "display_data",
          "data": {
            "image/png": "[encoded data removed]",
            "text/plain": [
              "<Figure size 432x288 with 1 Axes>"
            ]
          },
          "metadata": {
            "tags": [],
            "needs_background": "light"
          }
        }
      ]
    },
    {
      "cell_type": "code",
      "metadata": {
        "colab": {
          "base_uri": "https://localhost:8080/",
          "height": 295
        },
        "id": "IBe4V3mp4ob2",
        "outputId": "f43262fe-d24e-4bab-cf94-70c09b3553dd"
      },
      "source": [
        "df2.T.plot.bar(rot=0)\n",
        "plt.title(\"mean feature per species\")\n",
        "plt.xlabel(\"species\")\n",
        "plt.ylabel(\"mean\")\n",
        "plt.show()"
      ],
      "execution_count": 40,
      "outputs": [
        {
          "output_type": "display_data",
          "data": {
            "image/png": "[encoded data removed]",
            "text/plain": [
              "<Figure size 432x288 with 1 Axes>"
            ]
          },
          "metadata": {
            "tags": [],
            "needs_background": "light"
          }
        }
      ]
    },
    {
      "cell_type": "code",
      "metadata": {
        "colab": {
          "base_uri": "https://localhost:8080/",
          "height": 514
        },
        "id": "npMfGtVC4u52",
        "outputId": "63ddca7f-b512-439c-dd0a-45f8c4da26a6"
      },
      "source": [
        "del irisdf['species']\n",
        "irisdf[::10]"
      ],
      "execution_count": 42,
      "outputs": [
        {
          "output_type": "execute_result",
          "data": {
            "text/html": [
              "<div>\n",
              "<style scoped>\n",
              "    .dataframe tbody tr th:only-of-type {\n",
              "        vertical-align: middle;\n",
              "    }\n",
              "\n",
              "    .dataframe tbody tr th {\n",
              "        vertical-align: top;\n",
              "    }\n",
              "\n",
              "    .dataframe thead th {\n",
              "        text-align: right;\n",
              "    }\n",
              "</style>\n",
              "<table border=\"1\" class=\"dataframe\">\n",
              "  <thead>\n",
              "    <tr style=\"text-align: right;\">\n",
              "      <th></th>\n",
              "      <th>sepal length (cm)</th>\n",
              "      <th>sepal width (cm)</th>\n",
              "      <th>petal length (cm)</th>\n",
              "      <th>petal width (cm)</th>\n",
              "    </tr>\n",
              "  </thead>\n",
              "  <tbody>\n",
              "    <tr>\n",
              "      <th>0</th>\n",
              "      <td>5.1</td>\n",
              "      <td>3.5</td>\n",
              "      <td>1.4</td>\n",
              "      <td>0.2</td>\n",
              "    </tr>\n",
              "    <tr>\n",
              "      <th>10</th>\n",
              "      <td>5.4</td>\n",
              "      <td>3.7</td>\n",
              "      <td>1.5</td>\n",
              "      <td>0.2</td>\n",
              "    </tr>\n",
              "    <tr>\n",
              "      <th>20</th>\n",
              "      <td>5.4</td>\n",
              "      <td>3.4</td>\n",
              "      <td>1.7</td>\n",
              "      <td>0.2</td>\n",
              "    </tr>\n",
              "    <tr>\n",
              "      <th>30</th>\n",
              "      <td>4.8</td>\n",
              "      <td>3.1</td>\n",
              "      <td>1.6</td>\n",
              "      <td>0.2</td>\n",
              "    </tr>\n",
              "    <tr>\n",
              "      <th>40</th>\n",
              "      <td>5.0</td>\n",
              "      <td>3.5</td>\n",
              "      <td>1.3</td>\n",
              "      <td>0.3</td>\n",
              "    </tr>\n",
              "    <tr>\n",
              "      <th>50</th>\n",
              "      <td>7.0</td>\n",
              "      <td>3.2</td>\n",
              "      <td>4.7</td>\n",
              "      <td>1.4</td>\n",
              "    </tr>\n",
              "    <tr>\n",
              "      <th>60</th>\n",
              "      <td>5.0</td>\n",
              "      <td>2.0</td>\n",
              "      <td>3.5</td>\n",
              "      <td>1.0</td>\n",
              "    </tr>\n",
              "    <tr>\n",
              "      <th>70</th>\n",
              "      <td>5.9</td>\n",
              "      <td>3.2</td>\n",
              "      <td>4.8</td>\n",
              "      <td>1.8</td>\n",
              "    </tr>\n",
              "    <tr>\n",
              "      <th>80</th>\n",
              "      <td>5.5</td>\n",
              "      <td>2.4</td>\n",
              "      <td>3.8</td>\n",
              "      <td>1.1</td>\n",
              "    </tr>\n",
              "    <tr>\n",
              "      <th>90</th>\n",
              "      <td>5.5</td>\n",
              "      <td>2.6</td>\n",
              "      <td>4.4</td>\n",
              "      <td>1.2</td>\n",
              "    </tr>\n",
              "    <tr>\n",
              "      <th>100</th>\n",
              "      <td>6.3</td>\n",
              "      <td>3.3</td>\n",
              "      <td>6.0</td>\n",
              "      <td>2.5</td>\n",
              "    </tr>\n",
              "    <tr>\n",
              "      <th>110</th>\n",
              "      <td>6.5</td>\n",
              "      <td>3.2</td>\n",
              "      <td>5.1</td>\n",
              "      <td>2.0</td>\n",
              "    </tr>\n",
              "    <tr>\n",
              "      <th>120</th>\n",
              "      <td>6.9</td>\n",
              "      <td>3.2</td>\n",
              "      <td>5.7</td>\n",
              "      <td>2.3</td>\n",
              "    </tr>\n",
              "    <tr>\n",
              "      <th>130</th>\n",
              "      <td>7.4</td>\n",
              "      <td>2.8</td>\n",
              "      <td>6.1</td>\n",
              "      <td>1.9</td>\n",
              "    </tr>\n",
              "    <tr>\n",
              "      <th>140</th>\n",
              "      <td>6.7</td>\n",
              "      <td>3.1</td>\n",
              "      <td>5.6</td>\n",
              "      <td>2.4</td>\n",
              "    </tr>\n",
              "  </tbody>\n",
              "</table>\n",
              "</div>"
            ],
            "text/plain": [
              "     sepal length (cm)  sepal width (cm)  petal length (cm)  petal width (cm)\n",
              "0                  5.1               3.5                1.4               0.2\n",
              "10                 5.4               3.7                1.5               0.2\n",
              "20                 5.4               3.4                1.7               0.2\n",
              "30                 4.8               3.1                1.6               0.2\n",
              "40                 5.0               3.5                1.3               0.3\n",
              "50                 7.0               3.2                4.7               1.4\n",
              "60                 5.0               2.0                3.5               1.0\n",
              "70                 5.9               3.2                4.8               1.8\n",
              "80                 5.5               2.4                3.8               1.1\n",
              "90                 5.5               2.6                4.4               1.2\n",
              "100                6.3               3.3                6.0               2.5\n",
              "110                6.5               3.2                5.1               2.0\n",
              "120                6.9               3.2                5.7               2.3\n",
              "130                7.4               2.8                6.1               1.9\n",
              "140                6.7               3.1                5.6               2.4"
            ]
          },
          "metadata": {
            "tags": []
          },
          "execution_count": 42
        }
      ]
    },
    {
      "cell_type": "code",
      "metadata": {
        "colab": {
          "base_uri": "https://localhost:8080/",
          "height": 295
        },
        "id": "HbInQMnr5KeQ",
        "outputId": "24b5d237-ddf2-473c-deac-47f1fccd6125"
      },
      "source": [
        "irisdf.plot.hist()\n",
        "plt.title(\"frequency per feature\")\n",
        "plt.xlabel(\"data value\")\n",
        "plt.show()"
      ],
      "execution_count": 43,
      "outputs": [
        {
          "output_type": "display_data",
          "data": {
            "image/png": "[encoded data removed]",
            "text/plain": [
              "<Figure size 432x288 with 1 Axes>"
            ]
          },
          "metadata": {
            "tags": [],
            "needs_background": "light"
          }
        }
      ]
    },
    {
      "cell_type": "code",
      "metadata": {
        "colab": {
          "base_uri": "https://localhost:8080/",
          "height": 279
        },
        "id": "rOjYkycW5bUC",
        "outputId": "49bdca35-670b-44b9-dd30-abb7575e9b35"
      },
      "source": [
        "irisdf.plot.kde()\n",
        "plt.xlabel(\"data value\")\n",
        "plt.show()"
      ],
      "execution_count": 45,
      "outputs": [
        {
          "output_type": "display_data",
          "data": {
            "image/png": "[encoded data removed]",
            "text/plain": [
              "<Figure size 432x288 with 1 Axes>"
            ]
          },
          "metadata": {
            "tags": [],
            "needs_background": "light"
          }
        }
      ]
    },
    {
      "cell_type": "code",
      "metadata": {
        "colab": {
          "base_uri": "https://localhost:8080/",
          "height": 265
        },
        "id": "Ht8c93lJ5jOJ",
        "outputId": "59144195-b139-4658-bb85-775f9eea6648"
      },
      "source": [
        "irisdf.plot.box()\n",
        "plt.show()"
      ],
      "execution_count": 47,
      "outputs": [
        {
          "output_type": "display_data",
          "data": {
            "image/png": "[encoded data removed]",
            "text/plain": [
              "<Figure size 432x288 with 1 Axes>"
            ]
          },
          "metadata": {
            "tags": [],
            "needs_background": "light"
          }
        }
      ]
    },
    {
      "cell_type": "markdown",
      "metadata": {
        "id": "kDhSjgRA6-xo"
      },
      "source": [
        "### TITANIC"
      ]
    },
    {
      "cell_type": "code",
      "metadata": {
        "colab": {
          "base_uri": "https://localhost:8080/"
        },
        "id": "kZBciPBd68Z6",
        "outputId": "27195e4a-49d8-4c12-912d-521ddac0138b"
      },
      "source": [
        "from google.colab import drive\n",
        "drive.mount('/content/gdrive')"
      ],
      "execution_count": 50,
      "outputs": [
        {
          "output_type": "stream",
          "text": [
            "Mounted at /content/gdrive\n"
          ],
          "name": "stdout"
        }
      ]
    },
    {
      "cell_type": "code",
      "metadata": {
        "colab": {
          "base_uri": "https://localhost:8080/"
        },
        "id": "Nyz0eEP-7Eo4",
        "outputId": "421fdff9-f925-49b6-ca2c-5080031b9def"
      },
      "source": [
        "titanic = pd.read_csv('/content/gdrive/My Drive/handson/datasets/titanic/titanic.csv')\n",
        "titanic.shape"
      ],
      "execution_count": 51,
      "outputs": [
        {
          "output_type": "execute_result",
          "data": {
            "text/plain": [
              "(891, 12)"
            ]
          },
          "metadata": {
            "tags": []
          },
          "execution_count": 51
        }
      ]
    },
    {
      "cell_type": "code",
      "metadata": {
        "colab": {
          "base_uri": "https://localhost:8080/",
          "height": 204
        },
        "id": "J4mgOmD68hR9",
        "outputId": "c7dd2aa6-d888-423c-a000-f3a7e930bf7a"
      },
      "source": [
        "titanic.tail()"
      ],
      "execution_count": 52,
      "outputs": [
        {
          "output_type": "execute_result",
          "data": {
            "text/html": [
              "<div>\n",
              "<style scoped>\n",
              "    .dataframe tbody tr th:only-of-type {\n",
              "        vertical-align: middle;\n",
              "    }\n",
              "\n",
              "    .dataframe tbody tr th {\n",
              "        vertical-align: top;\n",
              "    }\n",
              "\n",
              "    .dataframe thead th {\n",
              "        text-align: right;\n",
              "    }\n",
              "</style>\n",
              "<table border=\"1\" class=\"dataframe\">\n",
              "  <thead>\n",
              "    <tr style=\"text-align: right;\">\n",
              "      <th></th>\n",
              "      <th>PassengerId</th>\n",
              "      <th>Survived</th>\n",
              "      <th>Pclass</th>\n",
              "      <th>Name</th>\n",
              "      <th>Sex</th>\n",
              "      <th>Age</th>\n",
              "      <th>SibSp</th>\n",
              "      <th>Parch</th>\n",
              "      <th>Ticket</th>\n",
              "      <th>Fare</th>\n",
              "      <th>Cabin</th>\n",
              "      <th>Embarked</th>\n",
              "    </tr>\n",
              "  </thead>\n",
              "  <tbody>\n",
              "    <tr>\n",
              "      <th>886</th>\n",
              "      <td>887</td>\n",
              "      <td>0</td>\n",
              "      <td>2</td>\n",
              "      <td>Montvila, Rev. Juozas</td>\n",
              "      <td>male</td>\n",
              "      <td>27.0</td>\n",
              "      <td>0</td>\n",
              "      <td>0</td>\n",
              "      <td>211536</td>\n",
              "      <td>13.00</td>\n",
              "      <td>NaN</td>\n",
              "      <td>S</td>\n",
              "    </tr>\n",
              "    <tr>\n",
              "      <th>887</th>\n",
              "      <td>888</td>\n",
              "      <td>1</td>\n",
              "      <td>1</td>\n",
              "      <td>Graham, Miss. Margaret Edith</td>\n",
              "      <td>female</td>\n",
              "      <td>19.0</td>\n",
              "      <td>0</td>\n",
              "      <td>0</td>\n",
              "      <td>112053</td>\n",
              "      <td>30.00</td>\n",
              "      <td>B42</td>\n",
              "      <td>S</td>\n",
              "    </tr>\n",
              "    <tr>\n",
              "      <th>888</th>\n",
              "      <td>889</td>\n",
              "      <td>0</td>\n",
              "      <td>3</td>\n",
              "      <td>Johnston, Miss. Catherine Helen \"Carrie\"</td>\n",
              "      <td>female</td>\n",
              "      <td>NaN</td>\n",
              "      <td>1</td>\n",
              "      <td>2</td>\n",
              "      <td>W./C. 6607</td>\n",
              "      <td>23.45</td>\n",
              "      <td>NaN</td>\n",
              "      <td>S</td>\n",
              "    </tr>\n",
              "    <tr>\n",
              "      <th>889</th>\n",
              "      <td>890</td>\n",
              "      <td>1</td>\n",
              "      <td>1</td>\n",
              "      <td>Behr, Mr. Karl Howell</td>\n",
              "      <td>male</td>\n",
              "      <td>26.0</td>\n",
              "      <td>0</td>\n",
              "      <td>0</td>\n",
              "      <td>111369</td>\n",
              "      <td>30.00</td>\n",
              "      <td>C148</td>\n",
              "      <td>C</td>\n",
              "    </tr>\n",
              "    <tr>\n",
              "      <th>890</th>\n",
              "      <td>891</td>\n",
              "      <td>0</td>\n",
              "      <td>3</td>\n",
              "      <td>Dooley, Mr. Patrick</td>\n",
              "      <td>male</td>\n",
              "      <td>32.0</td>\n",
              "      <td>0</td>\n",
              "      <td>0</td>\n",
              "      <td>370376</td>\n",
              "      <td>7.75</td>\n",
              "      <td>NaN</td>\n",
              "      <td>Q</td>\n",
              "    </tr>\n",
              "  </tbody>\n",
              "</table>\n",
              "</div>"
            ],
            "text/plain": [
              "     PassengerId  Survived  Pclass  ...   Fare Cabin  Embarked\n",
              "886          887         0       2  ...  13.00   NaN         S\n",
              "887          888         1       1  ...  30.00   B42         S\n",
              "888          889         0       3  ...  23.45   NaN         S\n",
              "889          890         1       1  ...  30.00  C148         C\n",
              "890          891         0       3  ...   7.75   NaN         Q\n",
              "\n",
              "[5 rows x 12 columns]"
            ]
          },
          "metadata": {
            "tags": []
          },
          "execution_count": 52
        }
      ]
    },
    {
      "cell_type": "code",
      "metadata": {
        "colab": {
          "base_uri": "https://localhost:8080/"
        },
        "id": "TBIR1lv_8jdg",
        "outputId": "35205810-4883-44a1-ade1-c6109ef41316"
      },
      "source": [
        "titanic.xs(886, axis=0)"
      ],
      "execution_count": 53,
      "outputs": [
        {
          "output_type": "execute_result",
          "data": {
            "text/plain": [
              "PassengerId                      887\n",
              "Survived                           0\n",
              "Pclass                             2\n",
              "Name           Montvila, Rev. Juozas\n",
              "Sex                             male\n",
              "Age                               27\n",
              "SibSp                              0\n",
              "Parch                              0\n",
              "Ticket                        211536\n",
              "Fare                              13\n",
              "Cabin                            NaN\n",
              "Embarked                           S\n",
              "Name: 886, dtype: object"
            ]
          },
          "metadata": {
            "tags": []
          },
          "execution_count": 53
        }
      ]
    },
    {
      "cell_type": "code",
      "metadata": {
        "colab": {
          "base_uri": "https://localhost:8080/"
        },
        "id": "WZXFv7tu8mWX",
        "outputId": "bd2e64d1-681d-4fa9-d0b8-beff78748e48"
      },
      "source": [
        "titanic.xs('Pclass', axis=1)"
      ],
      "execution_count": 54,
      "outputs": [
        {
          "output_type": "execute_result",
          "data": {
            "text/plain": [
              "0      3\n",
              "1      1\n",
              "2      3\n",
              "3      1\n",
              "4      3\n",
              "      ..\n",
              "886    2\n",
              "887    1\n",
              "888    3\n",
              "889    1\n",
              "890    3\n",
              "Name: Pclass, Length: 891, dtype: int64"
            ]
          },
          "metadata": {
            "tags": []
          },
          "execution_count": 54
        }
      ]
    },
    {
      "cell_type": "code",
      "metadata": {
        "colab": {
          "base_uri": "https://localhost:8080/",
          "height": 297
        },
        "id": "HNqFVKHp9Yte",
        "outputId": "257f28cd-181e-494c-b006-8a59e9dc2f91"
      },
      "source": [
        "titanic.describe()"
      ],
      "execution_count": 55,
      "outputs": [
        {
          "output_type": "execute_result",
          "data": {
            "text/html": [
              "<div>\n",
              "<style scoped>\n",
              "    .dataframe tbody tr th:only-of-type {\n",
              "        vertical-align: middle;\n",
              "    }\n",
              "\n",
              "    .dataframe tbody tr th {\n",
              "        vertical-align: top;\n",
              "    }\n",
              "\n",
              "    .dataframe thead th {\n",
              "        text-align: right;\n",
              "    }\n",
              "</style>\n",
              "<table border=\"1\" class=\"dataframe\">\n",
              "  <thead>\n",
              "    <tr style=\"text-align: right;\">\n",
              "      <th></th>\n",
              "      <th>PassengerId</th>\n",
              "      <th>Survived</th>\n",
              "      <th>Pclass</th>\n",
              "      <th>Age</th>\n",
              "      <th>SibSp</th>\n",
              "      <th>Parch</th>\n",
              "      <th>Fare</th>\n",
              "    </tr>\n",
              "  </thead>\n",
              "  <tbody>\n",
              "    <tr>\n",
              "      <th>count</th>\n",
              "      <td>891.000000</td>\n",
              "      <td>891.000000</td>\n",
              "      <td>891.000000</td>\n",
              "      <td>714.000000</td>\n",
              "      <td>891.000000</td>\n",
              "      <td>891.000000</td>\n",
              "      <td>891.000000</td>\n",
              "    </tr>\n",
              "    <tr>\n",
              "      <th>mean</th>\n",
              "      <td>446.000000</td>\n",
              "      <td>0.383838</td>\n",
              "      <td>2.308642</td>\n",
              "      <td>29.699118</td>\n",
              "      <td>0.523008</td>\n",
              "      <td>0.381594</td>\n",
              "      <td>32.204208</td>\n",
              "    </tr>\n",
              "    <tr>\n",
              "      <th>std</th>\n",
              "      <td>257.353842</td>\n",
              "      <td>0.486592</td>\n",
              "      <td>0.836071</td>\n",
              "      <td>14.526497</td>\n",
              "      <td>1.102743</td>\n",
              "      <td>0.806057</td>\n",
              "      <td>49.693429</td>\n",
              "    </tr>\n",
              "    <tr>\n",
              "      <th>min</th>\n",
              "      <td>1.000000</td>\n",
              "      <td>0.000000</td>\n",
              "      <td>1.000000</td>\n",
              "      <td>0.420000</td>\n",
              "      <td>0.000000</td>\n",
              "      <td>0.000000</td>\n",
              "      <td>0.000000</td>\n",
              "    </tr>\n",
              "    <tr>\n",
              "      <th>25%</th>\n",
              "      <td>223.500000</td>\n",
              "      <td>0.000000</td>\n",
              "      <td>2.000000</td>\n",
              "      <td>20.125000</td>\n",
              "      <td>0.000000</td>\n",
              "      <td>0.000000</td>\n",
              "      <td>7.910400</td>\n",
              "    </tr>\n",
              "    <tr>\n",
              "      <th>50%</th>\n",
              "      <td>446.000000</td>\n",
              "      <td>0.000000</td>\n",
              "      <td>3.000000</td>\n",
              "      <td>28.000000</td>\n",
              "      <td>0.000000</td>\n",
              "      <td>0.000000</td>\n",
              "      <td>14.454200</td>\n",
              "    </tr>\n",
              "    <tr>\n",
              "      <th>75%</th>\n",
              "      <td>668.500000</td>\n",
              "      <td>1.000000</td>\n",
              "      <td>3.000000</td>\n",
              "      <td>38.000000</td>\n",
              "      <td>1.000000</td>\n",
              "      <td>0.000000</td>\n",
              "      <td>31.000000</td>\n",
              "    </tr>\n",
              "    <tr>\n",
              "      <th>max</th>\n",
              "      <td>891.000000</td>\n",
              "      <td>1.000000</td>\n",
              "      <td>3.000000</td>\n",
              "      <td>80.000000</td>\n",
              "      <td>8.000000</td>\n",
              "      <td>6.000000</td>\n",
              "      <td>512.329200</td>\n",
              "    </tr>\n",
              "  </tbody>\n",
              "</table>\n",
              "</div>"
            ],
            "text/plain": [
              "       PassengerId    Survived      Pclass  ...       SibSp       Parch        Fare\n",
              "count   891.000000  891.000000  891.000000  ...  891.000000  891.000000  891.000000\n",
              "mean    446.000000    0.383838    2.308642  ...    0.523008    0.381594   32.204208\n",
              "std     257.353842    0.486592    0.836071  ...    1.102743    0.806057   49.693429\n",
              "min       1.000000    0.000000    1.000000  ...    0.000000    0.000000    0.000000\n",
              "25%     223.500000    0.000000    2.000000  ...    0.000000    0.000000    7.910400\n",
              "50%     446.000000    0.000000    3.000000  ...    0.000000    0.000000   14.454200\n",
              "75%     668.500000    1.000000    3.000000  ...    1.000000    0.000000   31.000000\n",
              "max     891.000000    1.000000    3.000000  ...    8.000000    6.000000  512.329200\n",
              "\n",
              "[8 rows x 7 columns]"
            ]
          },
          "metadata": {
            "tags": []
          },
          "execution_count": 55
        }
      ]
    },
    {
      "cell_type": "code",
      "metadata": {
        "colab": {
          "base_uri": "https://localhost:8080/"
        },
        "id": "owhrVE8Y9aIV",
        "outputId": "6dd2d954-a41c-4349-d56a-52c24dc5ba8c"
      },
      "source": [
        "titanic.info()"
      ],
      "execution_count": 56,
      "outputs": [
        {
          "output_type": "stream",
          "text": [
            "<class 'pandas.core.frame.DataFrame'>\n",
            "RangeIndex: 891 entries, 0 to 890\n",
            "Data columns (total 12 columns):\n",
            " #   Column       Non-Null Count  Dtype  \n",
            "---  ------       --------------  -----  \n",
            " 0   PassengerId  891 non-null    int64  \n",
            " 1   Survived     891 non-null    int64  \n",
            " 2   Pclass       891 non-null    int64  \n",
            " 3   Name         891 non-null    object \n",
            " 4   Sex          891 non-null    object \n",
            " 5   Age          714 non-null    float64\n",
            " 6   SibSp        891 non-null    int64  \n",
            " 7   Parch        891 non-null    int64  \n",
            " 8   Ticket       891 non-null    object \n",
            " 9   Fare         891 non-null    float64\n",
            " 10  Cabin        204 non-null    object \n",
            " 11  Embarked     889 non-null    object \n",
            "dtypes: float64(2), int64(5), object(5)\n",
            "memory usage: 83.7+ KB\n"
          ],
          "name": "stdout"
        }
      ]
    },
    {
      "cell_type": "code",
      "metadata": {
        "colab": {
          "base_uri": "https://localhost:8080/",
          "height": 173
        },
        "id": "m5ShZxop9cEm",
        "outputId": "6a7a719e-ff6b-45f5-fe3f-85716179bf0a"
      },
      "source": [
        "df3 = titanic[['Pclass', 'Survived']].groupby('Pclass').count()\n",
        "df3"
      ],
      "execution_count": 57,
      "outputs": [
        {
          "output_type": "execute_result",
          "data": {
            "text/html": [
              "<div>\n",
              "<style scoped>\n",
              "    .dataframe tbody tr th:only-of-type {\n",
              "        vertical-align: middle;\n",
              "    }\n",
              "\n",
              "    .dataframe tbody tr th {\n",
              "        vertical-align: top;\n",
              "    }\n",
              "\n",
              "    .dataframe thead th {\n",
              "        text-align: right;\n",
              "    }\n",
              "</style>\n",
              "<table border=\"1\" class=\"dataframe\">\n",
              "  <thead>\n",
              "    <tr style=\"text-align: right;\">\n",
              "      <th></th>\n",
              "      <th>Survived</th>\n",
              "    </tr>\n",
              "    <tr>\n",
              "      <th>Pclass</th>\n",
              "      <th></th>\n",
              "    </tr>\n",
              "  </thead>\n",
              "  <tbody>\n",
              "    <tr>\n",
              "      <th>1</th>\n",
              "      <td>216</td>\n",
              "    </tr>\n",
              "    <tr>\n",
              "      <th>2</th>\n",
              "      <td>184</td>\n",
              "    </tr>\n",
              "    <tr>\n",
              "      <th>3</th>\n",
              "      <td>491</td>\n",
              "    </tr>\n",
              "  </tbody>\n",
              "</table>\n",
              "</div>"
            ],
            "text/plain": [
              "        Survived\n",
              "Pclass          \n",
              "1            216\n",
              "2            184\n",
              "3            491"
            ]
          },
          "metadata": {
            "tags": []
          },
          "execution_count": 57
        }
      ]
    },
    {
      "cell_type": "code",
      "metadata": {
        "colab": {
          "base_uri": "https://localhost:8080/",
          "height": 267
        },
        "id": "lqcA3_yW9kOR",
        "outputId": "be2f9911-0d61-41c2-c32f-697a74dcffe2"
      },
      "source": [
        "df3['Survived'].plot.pie(autopct='%.2f%%')\n",
        "plt.title(\"survivers per pclass\")\n",
        "plt.axis('equal')\n",
        "plt.show()"
      ],
      "execution_count": 62,
      "outputs": [
        {
          "output_type": "display_data",
          "data": {
            "image/png": "[encoded data removed]",
            "text/plain": [
              "<Figure size 432x288 with 1 Axes>"
            ]
          },
          "metadata": {
            "tags": []
          }
        }
      ]
    },
    {
      "cell_type": "code",
      "metadata": {
        "colab": {
          "base_uri": "https://localhost:8080/",
          "height": 173
        },
        "id": "bI87F1Sg9yd-",
        "outputId": "e418d8ab-480f-4895-a20e-ff5798e7efa5"
      },
      "source": [
        "df4 = titanic[['Pclass', 'Survived']].groupby('Pclass').mean()\n",
        "df4"
      ],
      "execution_count": 63,
      "outputs": [
        {
          "output_type": "execute_result",
          "data": {
            "text/html": [
              "<div>\n",
              "<style scoped>\n",
              "    .dataframe tbody tr th:only-of-type {\n",
              "        vertical-align: middle;\n",
              "    }\n",
              "\n",
              "    .dataframe tbody tr th {\n",
              "        vertical-align: top;\n",
              "    }\n",
              "\n",
              "    .dataframe thead th {\n",
              "        text-align: right;\n",
              "    }\n",
              "</style>\n",
              "<table border=\"1\" class=\"dataframe\">\n",
              "  <thead>\n",
              "    <tr style=\"text-align: right;\">\n",
              "      <th></th>\n",
              "      <th>Survived</th>\n",
              "    </tr>\n",
              "    <tr>\n",
              "      <th>Pclass</th>\n",
              "      <th></th>\n",
              "    </tr>\n",
              "  </thead>\n",
              "  <tbody>\n",
              "    <tr>\n",
              "      <th>1</th>\n",
              "      <td>0.629630</td>\n",
              "    </tr>\n",
              "    <tr>\n",
              "      <th>2</th>\n",
              "      <td>0.472826</td>\n",
              "    </tr>\n",
              "    <tr>\n",
              "      <th>3</th>\n",
              "      <td>0.242363</td>\n",
              "    </tr>\n",
              "  </tbody>\n",
              "</table>\n",
              "</div>"
            ],
            "text/plain": [
              "        Survived\n",
              "Pclass          \n",
              "1       0.629630\n",
              "2       0.472826\n",
              "3       0.242363"
            ]
          },
          "metadata": {
            "tags": []
          },
          "execution_count": 63
        }
      ]
    },
    {
      "cell_type": "code",
      "metadata": {
        "colab": {
          "base_uri": "https://localhost:8080/",
          "height": 264
        },
        "id": "2OYO5FbsBPla",
        "outputId": "ed15557e-dd11-426a-84d5-9cfaadb61b71"
      },
      "source": [
        "df4['Survived'].plot.pie(autopct='%.2f%%')\n",
        "plt.title(\"surviver rate per class\")\n",
        "plt.axis('equal')\n",
        "plt.show()"
      ],
      "execution_count": 65,
      "outputs": [
        {
          "output_type": "display_data",
          "data": {
            "image/png": "[encoded data removed]",
            "text/plain": [
              "<Figure size 432x288 with 1 Axes>"
            ]
          },
          "metadata": {
            "tags": []
          }
        }
      ]
    },
    {
      "cell_type": "markdown",
      "metadata": {
        "id": "PNlet7pSPdwW"
      },
      "source": [
        "### 시계열"
      ]
    },
    {
      "cell_type": "code",
      "metadata": {
        "colab": {
          "base_uri": "https://localhost:8080/"
        },
        "id": "ASTP9OR-BTXM",
        "outputId": "a992d7f5-d8a9-4238-a626-38c3036b4280"
      },
      "source": [
        "from datetime import datetime\n",
        "\n",
        "dates = [datetime(2017,1,1), datetime(2017,1,8), datetime(2017,1,15),\n",
        "         datetime(2017,1,22), datetime(2017,1,29), datetime(2017,2,12),\n",
        "         datetime(2017,2,19), datetime(2017,2,26), datetime(2017,3,1),\n",
        "         datetime(2017,3,1), datetime(2017,3,8), datetime(2017,3,15)]\n",
        "\n",
        "se = pd.Series(np.random.randn(len(dates)), index=dates)\n",
        "se"
      ],
      "execution_count": 66,
      "outputs": [
        {
          "output_type": "execute_result",
          "data": {
            "text/plain": [
              "2017-01-01    0.744490\n",
              "2017-01-08   -1.121033\n",
              "2017-01-15    0.003919\n",
              "2017-01-22    0.204559\n",
              "2017-01-29    1.511736\n",
              "2017-02-12    0.699642\n",
              "2017-02-19    0.365313\n",
              "2017-02-26    0.166094\n",
              "2017-03-01   -0.048011\n",
              "2017-03-01    1.204554\n",
              "2017-03-08    0.142099\n",
              "2017-03-15    0.180835\n",
              "dtype: float64"
            ]
          },
          "metadata": {
            "tags": []
          },
          "execution_count": 66
        }
      ]
    },
    {
      "cell_type": "code",
      "metadata": {
        "colab": {
          "base_uri": "https://localhost:8080/"
        },
        "id": "wFl7uB10DaeS",
        "outputId": "d3d4ec47-d52d-4707-a2c5-cdb382ebe5ef"
      },
      "source": [
        "se.index"
      ],
      "execution_count": 67,
      "outputs": [
        {
          "output_type": "execute_result",
          "data": {
            "text/plain": [
              "DatetimeIndex(['2017-01-01', '2017-01-08', '2017-01-15', '2017-01-22',\n",
              "               '2017-01-29', '2017-02-12', '2017-02-19', '2017-02-26',\n",
              "               '2017-03-01', '2017-03-01', '2017-03-08', '2017-03-15'],\n",
              "              dtype='datetime64[ns]', freq=None)"
            ]
          },
          "metadata": {
            "tags": []
          },
          "execution_count": 67
        }
      ]
    },
    {
      "cell_type": "code",
      "metadata": {
        "colab": {
          "base_uri": "https://localhost:8080/",
          "height": 271
        },
        "id": "kaXBB4xKDhaM",
        "outputId": "aca09935-b366-41cb-c118-0dc4453e2555"
      },
      "source": [
        "se.plot()\n",
        "plt.show()"
      ],
      "execution_count": 68,
      "outputs": [
        {
          "output_type": "display_data",
          "data": {
            "image/png": "[encoded data removed]",
            "text/plain": [
              "<Figure size 432x288 with 1 Axes>"
            ]
          },
          "metadata": {
            "tags": [],
            "needs_background": "light"
          }
        }
      ]
    },
    {
      "cell_type": "code",
      "metadata": {
        "colab": {
          "base_uri": "https://localhost:8080/"
        },
        "id": "5zr_CxpcDmPy",
        "outputId": "b08ada90-c168-409a-8ec4-07bb9b0d1df3"
      },
      "source": [
        "se['2017-03-01']"
      ],
      "execution_count": 69,
      "outputs": [
        {
          "output_type": "execute_result",
          "data": {
            "text/plain": [
              "2017-03-01   -0.048011\n",
              "2017-03-01    1.204554\n",
              "dtype: float64"
            ]
          },
          "metadata": {
            "tags": []
          },
          "execution_count": 69
        }
      ]
    },
    {
      "cell_type": "code",
      "metadata": {
        "colab": {
          "base_uri": "https://localhost:8080/"
        },
        "id": "DobZbxyvDpsU",
        "outputId": "8edc935b-01a6-4fd9-b223-a5907dbd735b"
      },
      "source": [
        "se['2017-01-01':'2017-02-01']"
      ],
      "execution_count": 70,
      "outputs": [
        {
          "output_type": "execute_result",
          "data": {
            "text/plain": [
              "2017-01-01    0.744490\n",
              "2017-01-08   -1.121033\n",
              "2017-01-15    0.003919\n",
              "2017-01-22    0.204559\n",
              "2017-01-29    1.511736\n",
              "dtype: float64"
            ]
          },
          "metadata": {
            "tags": []
          },
          "execution_count": 70
        }
      ]
    },
    {
      "cell_type": "code",
      "metadata": {
        "colab": {
          "base_uri": "https://localhost:8080/"
        },
        "id": "op0bmZwQDvY-",
        "outputId": "91a22969-c047-4b5e-e8e6-89aa3a0a269f"
      },
      "source": [
        "se['2017/03/01':]"
      ],
      "execution_count": 71,
      "outputs": [
        {
          "output_type": "execute_result",
          "data": {
            "text/plain": [
              "2017-03-01   -0.048011\n",
              "2017-03-01    1.204554\n",
              "2017-03-08    0.142099\n",
              "2017-03-15    0.180835\n",
              "dtype: float64"
            ]
          },
          "metadata": {
            "tags": []
          },
          "execution_count": 71
        }
      ]
    },
    {
      "cell_type": "code",
      "metadata": {
        "colab": {
          "base_uri": "https://localhost:8080/",
          "height": 316
        },
        "id": "N8QEoMmiD0sK",
        "outputId": "aee4d66b-2a9e-4047-b5d8-00f5579443be"
      },
      "source": [
        "se['2017-01-01':'2017-02-01'].plot()\n",
        "plt.title('2017-01-01 ~ 2017-02-01')\n",
        "plt.show()"
      ],
      "execution_count": 72,
      "outputs": [
        {
          "output_type": "display_data",
          "data": {
            "image/png": "[encoded data removed]",
            "text/plain": [
              "<Figure size 432x288 with 1 Axes>"
            ]
          },
          "metadata": {
            "tags": [],
            "needs_background": "light"
          }
        }
      ]
    },
    {
      "cell_type": "code",
      "metadata": {
        "colab": {
          "base_uri": "https://localhost:8080/",
          "height": 419
        },
        "id": "IpXJDC_qD8Nf",
        "outputId": "fd174503-b2ae-4ae2-c88d-5a9421c3a1ab"
      },
      "source": [
        "dt = pd.date_range('2017-1-1', periods=365, freq='D')\n",
        "arr1 = np.random.randn(365).cumsum()\n",
        "arr2 = np.random.randn(365).cumsum()\n",
        "arr3 = np.random.randn(365).cumsum()\n",
        "\n",
        "df = pd.DataFrame(arr1, index=dt, columns=[\"arr1\"])\n",
        "df[\"arr2\"] = arr2\n",
        "df[\"arr3\"] = arr3\n",
        "df"
      ],
      "execution_count": 73,
      "outputs": [
        {
          "output_type": "execute_result",
          "data": {
            "text/html": [
              "<div>\n",
              "<style scoped>\n",
              "    .dataframe tbody tr th:only-of-type {\n",
              "        vertical-align: middle;\n",
              "    }\n",
              "\n",
              "    .dataframe tbody tr th {\n",
              "        vertical-align: top;\n",
              "    }\n",
              "\n",
              "    .dataframe thead th {\n",
              "        text-align: right;\n",
              "    }\n",
              "</style>\n",
              "<table border=\"1\" class=\"dataframe\">\n",
              "  <thead>\n",
              "    <tr style=\"text-align: right;\">\n",
              "      <th></th>\n",
              "      <th>arr1</th>\n",
              "      <th>arr2</th>\n",
              "      <th>arr3</th>\n",
              "    </tr>\n",
              "  </thead>\n",
              "  <tbody>\n",
              "    <tr>\n",
              "      <th>2017-01-01</th>\n",
              "      <td>2.905389</td>\n",
              "      <td>1.246951</td>\n",
              "      <td>0.079263</td>\n",
              "    </tr>\n",
              "    <tr>\n",
              "      <th>2017-01-02</th>\n",
              "      <td>4.849539</td>\n",
              "      <td>0.120302</td>\n",
              "      <td>0.115857</td>\n",
              "    </tr>\n",
              "    <tr>\n",
              "      <th>2017-01-03</th>\n",
              "      <td>5.651928</td>\n",
              "      <td>0.818995</td>\n",
              "      <td>-1.908108</td>\n",
              "    </tr>\n",
              "    <tr>\n",
              "      <th>2017-01-04</th>\n",
              "      <td>5.193855</td>\n",
              "      <td>1.348485</td>\n",
              "      <td>-0.802109</td>\n",
              "    </tr>\n",
              "    <tr>\n",
              "      <th>2017-01-05</th>\n",
              "      <td>3.867850</td>\n",
              "      <td>2.536356</td>\n",
              "      <td>0.277559</td>\n",
              "    </tr>\n",
              "    <tr>\n",
              "      <th>...</th>\n",
              "      <td>...</td>\n",
              "      <td>...</td>\n",
              "      <td>...</td>\n",
              "    </tr>\n",
              "    <tr>\n",
              "      <th>2017-12-27</th>\n",
              "      <td>-10.807992</td>\n",
              "      <td>-23.461018</td>\n",
              "      <td>-0.852511</td>\n",
              "    </tr>\n",
              "    <tr>\n",
              "      <th>2017-12-28</th>\n",
              "      <td>-10.026405</td>\n",
              "      <td>-24.000088</td>\n",
              "      <td>0.160997</td>\n",
              "    </tr>\n",
              "    <tr>\n",
              "      <th>2017-12-29</th>\n",
              "      <td>-8.498744</td>\n",
              "      <td>-24.082842</td>\n",
              "      <td>-0.516272</td>\n",
              "    </tr>\n",
              "    <tr>\n",
              "      <th>2017-12-30</th>\n",
              "      <td>-9.375508</td>\n",
              "      <td>-26.705213</td>\n",
              "      <td>-1.056888</td>\n",
              "    </tr>\n",
              "    <tr>\n",
              "      <th>2017-12-31</th>\n",
              "      <td>-11.098762</td>\n",
              "      <td>-26.456668</td>\n",
              "      <td>-2.115135</td>\n",
              "    </tr>\n",
              "  </tbody>\n",
              "</table>\n",
              "<p>365 rows × 3 columns</p>\n",
              "</div>"
            ],
            "text/plain": [
              "                 arr1       arr2      arr3\n",
              "2017-01-01   2.905389   1.246951  0.079263\n",
              "2017-01-02   4.849539   0.120302  0.115857\n",
              "2017-01-03   5.651928   0.818995 -1.908108\n",
              "2017-01-04   5.193855   1.348485 -0.802109\n",
              "2017-01-05   3.867850   2.536356  0.277559\n",
              "...               ...        ...       ...\n",
              "2017-12-27 -10.807992 -23.461018 -0.852511\n",
              "2017-12-28 -10.026405 -24.000088  0.160997\n",
              "2017-12-29  -8.498744 -24.082842 -0.516272\n",
              "2017-12-30  -9.375508 -26.705213 -1.056888\n",
              "2017-12-31 -11.098762 -26.456668 -2.115135\n",
              "\n",
              "[365 rows x 3 columns]"
            ]
          },
          "metadata": {
            "tags": []
          },
          "execution_count": 73
        }
      ]
    },
    {
      "cell_type": "code",
      "metadata": {
        "colab": {
          "base_uri": "https://localhost:8080/",
          "height": 293
        },
        "id": "IDZl9WcmEyA_",
        "outputId": "3dd84d8d-66dd-4f2b-e4ad-e9252a45c56b"
      },
      "source": [
        "df.plot()\n",
        "plt.title(\"2017 graph\")\n",
        "plt.show()"
      ],
      "execution_count": 75,
      "outputs": [
        {
          "output_type": "display_data",
          "data": {
            "image/png": "[encoded data removed]",
            "text/plain": [
              "<Figure size 432x288 with 1 Axes>"
            ]
          },
          "metadata": {
            "tags": [],
            "needs_background": "light"
          }
        }
      ]
    },
    {
      "cell_type": "code",
      "metadata": {
        "colab": {
          "base_uri": "https://localhost:8080/",
          "height": 316
        },
        "id": "fRtKy9SOFvBv",
        "outputId": "6b1ee1e4-9354-446a-9777-3935693332c5"
      },
      "source": [
        "df['2017-01'].plot()\n",
        "plt.title(\"January 2017 graph\")\n",
        "plt.show()"
      ],
      "execution_count": 76,
      "outputs": [
        {
          "output_type": "display_data",
          "data": {
            "image/png": "[encoded data removed]",
            "text/plain": [
              "<Figure size 432x288 with 1 Axes>"
            ]
          },
          "metadata": {
            "tags": [],
            "needs_background": "light"
          }
        }
      ]
    },
    {
      "cell_type": "code",
      "metadata": {
        "colab": {
          "base_uri": "https://localhost:8080/",
          "height": 204
        },
        "id": "tUTLIClDF64U",
        "outputId": "44f98ae1-3dfd-4680-e580-bd6a596988cd"
      },
      "source": [
        "np.random.seed(2020060101)\n",
        "df1 = pd.DataFrame(np.random.randn(100,3),\n",
        "                   index=pd.date_range('1/1/2020', periods=100),\n",
        "                   columns=['A','B','C']).cumsum()\n",
        "df1.tail()"
      ],
      "execution_count": 80,
      "outputs": [
        {
          "output_type": "execute_result",
          "data": {
            "text/html": [
              "<div>\n",
              "<style scoped>\n",
              "    .dataframe tbody tr th:only-of-type {\n",
              "        vertical-align: middle;\n",
              "    }\n",
              "\n",
              "    .dataframe tbody tr th {\n",
              "        vertical-align: top;\n",
              "    }\n",
              "\n",
              "    .dataframe thead th {\n",
              "        text-align: right;\n",
              "    }\n",
              "</style>\n",
              "<table border=\"1\" class=\"dataframe\">\n",
              "  <thead>\n",
              "    <tr style=\"text-align: right;\">\n",
              "      <th></th>\n",
              "      <th>A</th>\n",
              "      <th>B</th>\n",
              "      <th>C</th>\n",
              "    </tr>\n",
              "  </thead>\n",
              "  <tbody>\n",
              "    <tr>\n",
              "      <th>2020-04-05</th>\n",
              "      <td>7.717880</td>\n",
              "      <td>21.572791</td>\n",
              "      <td>0.109572</td>\n",
              "    </tr>\n",
              "    <tr>\n",
              "      <th>2020-04-06</th>\n",
              "      <td>5.961337</td>\n",
              "      <td>19.609098</td>\n",
              "      <td>-0.472741</td>\n",
              "    </tr>\n",
              "    <tr>\n",
              "      <th>2020-04-07</th>\n",
              "      <td>4.159212</td>\n",
              "      <td>19.823681</td>\n",
              "      <td>0.611239</td>\n",
              "    </tr>\n",
              "    <tr>\n",
              "      <th>2020-04-08</th>\n",
              "      <td>4.672214</td>\n",
              "      <td>19.432206</td>\n",
              "      <td>2.301703</td>\n",
              "    </tr>\n",
              "    <tr>\n",
              "      <th>2020-04-09</th>\n",
              "      <td>3.665174</td>\n",
              "      <td>19.524126</td>\n",
              "      <td>2.756991</td>\n",
              "    </tr>\n",
              "  </tbody>\n",
              "</table>\n",
              "</div>"
            ],
            "text/plain": [
              "                   A          B         C\n",
              "2020-04-05  7.717880  21.572791  0.109572\n",
              "2020-04-06  5.961337  19.609098 -0.472741\n",
              "2020-04-07  4.159212  19.823681  0.611239\n",
              "2020-04-08  4.672214  19.432206  2.301703\n",
              "2020-04-09  3.665174  19.524126  2.756991"
            ]
          },
          "metadata": {
            "tags": []
          },
          "execution_count": 80
        }
      ]
    },
    {
      "cell_type": "code",
      "metadata": {
        "colab": {
          "base_uri": "https://localhost:8080/",
          "height": 307
        },
        "id": "PB3tmydkGSWm",
        "outputId": "50bdd2be-29dd-4030-dd1c-122ad5b30398"
      },
      "source": [
        "df1.plot()\n",
        "plt.title(\"2020 1quarter\")\n",
        "plt.xlabel(\"time\")\n",
        "plt.ylabel(\"Data\")\n",
        "plt.show()"
      ],
      "execution_count": 85,
      "outputs": [
        {
          "output_type": "display_data",
          "data": {
            "image/png": "[encoded data removed]",
            "text/plain": [
              "<Figure size 432x288 with 1 Axes>"
            ]
          },
          "metadata": {
            "tags": [],
            "needs_background": "light"
          }
        }
      ]
    },
    {
      "cell_type": "markdown",
      "metadata": {
        "id": "8WtZvx4aH1uv"
      },
      "source": [
        "리샘플링(resampling)\n",
        "\n",
        "- 리샘플링은 시계열의 빈도를 변환하는 과정\n",
        "- 다운샘플링 : 상위 빈도의 데이터를 하위 빈도로 변환(예 : 일 -> 월간)\n",
        "- 업샘플링 : 하위 빈도의 데이터를 상위 빈도로 변환(예 : 주간 -> 일)"
      ]
    },
    {
      "cell_type": "code",
      "metadata": {
        "colab": {
          "base_uri": "https://localhost:8080/"
        },
        "id": "A7EjSbq2HN0a",
        "outputId": "f4de39f0-3f0b-4402-e575-14ab94a2b540"
      },
      "source": [
        "dt = pd.date_range('2017-1-1', periods=365, freq='D')\n",
        "se = pd.Series(np.random.randn(365), index=dt)\n",
        "se"
      ],
      "execution_count": 86,
      "outputs": [
        {
          "output_type": "execute_result",
          "data": {
            "text/plain": [
              "2017-01-01   -0.554134\n",
              "2017-01-02    0.515185\n",
              "2017-01-03   -0.504917\n",
              "2017-01-04   -0.344744\n",
              "2017-01-05   -1.258649\n",
              "                ...   \n",
              "2017-12-27   -0.528574\n",
              "2017-12-28   -0.591424\n",
              "2017-12-29   -0.470028\n",
              "2017-12-30    1.857478\n",
              "2017-12-31   -0.324145\n",
              "Freq: D, Length: 365, dtype: float64"
            ]
          },
          "metadata": {
            "tags": []
          },
          "execution_count": 86
        }
      ]
    },
    {
      "cell_type": "code",
      "metadata": {
        "colab": {
          "base_uri": "https://localhost:8080/",
          "height": 280
        },
        "id": "veyaz-J7HrR_",
        "outputId": "a4aea4d5-8f26-40ce-d671-f130594b64c8"
      },
      "source": [
        "se.resample('D').mean().plot()\n",
        "plt.show()"
      ],
      "execution_count": 91,
      "outputs": [
        {
          "output_type": "display_data",
          "data": {
            "image/png": "[encoded data removed]",
            "text/plain": [
              "<Figure size 432x288 with 1 Axes>"
            ]
          },
          "metadata": {
            "tags": [],
            "needs_background": "light"
          }
        }
      ]
    },
    {
      "cell_type": "code",
      "metadata": {
        "colab": {
          "base_uri": "https://localhost:8080/",
          "height": 280
        },
        "id": "SdAIcbmtIJEv",
        "outputId": "932e51d9-5a18-441d-8aed-74f549ea258a"
      },
      "source": [
        "se.resample('D').sum().plot()\n",
        "plt.show()"
      ],
      "execution_count": 92,
      "outputs": [
        {
          "output_type": "display_data",
          "data": {
            "image/png": "[encoded data removed]",
            "text/plain": [
              "<Figure size 432x288 with 1 Axes>"
            ]
          },
          "metadata": {
            "tags": [],
            "needs_background": "light"
          }
        }
      ]
    },
    {
      "cell_type": "code",
      "metadata": {
        "colab": {
          "base_uri": "https://localhost:8080/",
          "height": 277
        },
        "id": "TA3O2FYVIKdS",
        "outputId": "572f3cd0-ad46-4b15-9418-cc3fb2f63a75"
      },
      "source": [
        "se.resample('M').mean().plot()\n",
        "plt.show()"
      ],
      "execution_count": 93,
      "outputs": [
        {
          "output_type": "display_data",
          "data": {
            "image/png": "[encoded data removed]",
            "text/plain": [
              "<Figure size 432x288 with 1 Axes>"
            ]
          },
          "metadata": {
            "tags": [],
            "needs_background": "light"
          }
        }
      ]
    },
    {
      "cell_type": "code",
      "metadata": {
        "colab": {
          "base_uri": "https://localhost:8080/",
          "height": 277
        },
        "id": "HVo3CMn7INAA",
        "outputId": "befbb8b9-6a0a-4de9-ec35-7e9a39db917e"
      },
      "source": [
        "se.resample('M').sum().plot()\n",
        "plt.show()"
      ],
      "execution_count": 94,
      "outputs": [
        {
          "output_type": "display_data",
          "data": {
            "image/png": "[encoded data removed]",
            "text/plain": [
              "<Figure size 432x288 with 1 Axes>"
            ]
          },
          "metadata": {
            "tags": [],
            "needs_background": "light"
          }
        }
      ]
    },
    {
      "cell_type": "code",
      "metadata": {
        "colab": {
          "base_uri": "https://localhost:8080/"
        },
        "id": "4qqHhVteINoG",
        "outputId": "ee0e04f7-e00a-497f-ba7d-ea834d03b96d"
      },
      "source": [
        "se_M_mean = se.resample('M').mean()\n",
        "se_M_mean"
      ],
      "execution_count": 95,
      "outputs": [
        {
          "output_type": "execute_result",
          "data": {
            "text/plain": [
              "2017-01-31   -0.302022\n",
              "2017-02-28    0.216004\n",
              "2017-03-31    0.140445\n",
              "2017-04-30   -0.062040\n",
              "2017-05-31    0.110249\n",
              "2017-06-30   -0.090991\n",
              "2017-07-31    0.011250\n",
              "2017-08-31   -0.175952\n",
              "2017-09-30   -0.158301\n",
              "2017-10-31   -0.023946\n",
              "2017-11-30   -0.056992\n",
              "2017-12-31    0.152448\n",
              "Freq: M, dtype: float64"
            ]
          },
          "metadata": {
            "tags": []
          },
          "execution_count": 95
        }
      ]
    },
    {
      "cell_type": "code",
      "metadata": {
        "colab": {
          "base_uri": "https://localhost:8080/",
          "height": 277
        },
        "id": "Y_DZ2h7XI68X",
        "outputId": "e42509e2-001e-4484-cd51-46e0ad14db1b"
      },
      "source": [
        "se_M_mean.plot()\n",
        "plt.show()"
      ],
      "execution_count": 96,
      "outputs": [
        {
          "output_type": "display_data",
          "data": {
            "image/png": "[encoded data removed]",
            "text/plain": [
              "<Figure size 432x288 with 1 Axes>"
            ]
          },
          "metadata": {
            "tags": [],
            "needs_background": "light"
          }
        }
      ]
    },
    {
      "cell_type": "code",
      "metadata": {
        "colab": {
          "base_uri": "https://localhost:8080/"
        },
        "id": "AReJEOl-I9Ma",
        "outputId": "208aabe7-1d54-44ca-d41a-786c9ee24852"
      },
      "source": [
        "se_M_sum = se.resample('M').sum()\n",
        "se_M_sum"
      ],
      "execution_count": 97,
      "outputs": [
        {
          "output_type": "execute_result",
          "data": {
            "text/plain": [
              "2017-01-31   -9.362673\n",
              "2017-02-28    6.048099\n",
              "2017-03-31    4.353802\n",
              "2017-04-30   -1.861186\n",
              "2017-05-31    3.417707\n",
              "2017-06-30   -2.729724\n",
              "2017-07-31    0.348761\n",
              "2017-08-31   -5.454507\n",
              "2017-09-30   -4.749026\n",
              "2017-10-31   -0.742324\n",
              "2017-11-30   -1.709754\n",
              "2017-12-31    4.725873\n",
              "Freq: M, dtype: float64"
            ]
          },
          "metadata": {
            "tags": []
          },
          "execution_count": 97
        }
      ]
    },
    {
      "cell_type": "code",
      "metadata": {
        "colab": {
          "base_uri": "https://localhost:8080/",
          "height": 277
        },
        "id": "b8d8w35QJQN8",
        "outputId": "939ad0d4-225c-404d-c180-d15bbd383e61"
      },
      "source": [
        "se_M_sum.plot()\n",
        "plt.show()"
      ],
      "execution_count": 98,
      "outputs": [
        {
          "output_type": "display_data",
          "data": {
            "image/png": "[encoded data removed]",
            "text/plain": [
              "<Figure size 432x288 with 1 Axes>"
            ]
          },
          "metadata": {
            "tags": [],
            "needs_background": "light"
          }
        }
      ]
    },
    {
      "cell_type": "code",
      "metadata": {
        "colab": {
          "base_uri": "https://localhost:8080/",
          "height": 419
        },
        "id": "plgOjF8JJTmT",
        "outputId": "c8eceba4-dfcd-4e61-b050-35fcab6d014b"
      },
      "source": [
        "dt = pd.date_range('2017-1-1', periods=365, freq='D')\n",
        "arr1 = np.random.randn(365).cumsum()\n",
        "arr2 = np.random.randn(365).cumsum()\n",
        "arr3 = np.random.randn(365).cumsum()\n",
        "\n",
        "arr123 = np.column_stack([arr1, arr2, arr3])\n",
        "df = pd.DataFrame(arr123, index=dt, columns=[\"arr1\", \"arr2\", 'arr3'])\n",
        "df"
      ],
      "execution_count": 100,
      "outputs": [
        {
          "output_type": "execute_result",
          "data": {
            "text/html": [
              "<div>\n",
              "<style scoped>\n",
              "    .dataframe tbody tr th:only-of-type {\n",
              "        vertical-align: middle;\n",
              "    }\n",
              "\n",
              "    .dataframe tbody tr th {\n",
              "        vertical-align: top;\n",
              "    }\n",
              "\n",
              "    .dataframe thead th {\n",
              "        text-align: right;\n",
              "    }\n",
              "</style>\n",
              "<table border=\"1\" class=\"dataframe\">\n",
              "  <thead>\n",
              "    <tr style=\"text-align: right;\">\n",
              "      <th></th>\n",
              "      <th>arr1</th>\n",
              "      <th>arr2</th>\n",
              "      <th>arr3</th>\n",
              "    </tr>\n",
              "  </thead>\n",
              "  <tbody>\n",
              "    <tr>\n",
              "      <th>2017-01-01</th>\n",
              "      <td>-0.443539</td>\n",
              "      <td>-1.168710</td>\n",
              "      <td>0.813329</td>\n",
              "    </tr>\n",
              "    <tr>\n",
              "      <th>2017-01-02</th>\n",
              "      <td>0.452500</td>\n",
              "      <td>-2.472529</td>\n",
              "      <td>0.228046</td>\n",
              "    </tr>\n",
              "    <tr>\n",
              "      <th>2017-01-03</th>\n",
              "      <td>0.651478</td>\n",
              "      <td>-3.050235</td>\n",
              "      <td>-0.700017</td>\n",
              "    </tr>\n",
              "    <tr>\n",
              "      <th>2017-01-04</th>\n",
              "      <td>0.708395</td>\n",
              "      <td>-2.606145</td>\n",
              "      <td>-0.874420</td>\n",
              "    </tr>\n",
              "    <tr>\n",
              "      <th>2017-01-05</th>\n",
              "      <td>2.212251</td>\n",
              "      <td>-2.550162</td>\n",
              "      <td>-0.318958</td>\n",
              "    </tr>\n",
              "    <tr>\n",
              "      <th>...</th>\n",
              "      <td>...</td>\n",
              "      <td>...</td>\n",
              "      <td>...</td>\n",
              "    </tr>\n",
              "    <tr>\n",
              "      <th>2017-12-27</th>\n",
              "      <td>-14.249900</td>\n",
              "      <td>15.379925</td>\n",
              "      <td>-28.552869</td>\n",
              "    </tr>\n",
              "    <tr>\n",
              "      <th>2017-12-28</th>\n",
              "      <td>-12.325084</td>\n",
              "      <td>15.747657</td>\n",
              "      <td>-28.196329</td>\n",
              "    </tr>\n",
              "    <tr>\n",
              "      <th>2017-12-29</th>\n",
              "      <td>-11.889483</td>\n",
              "      <td>17.090137</td>\n",
              "      <td>-27.883225</td>\n",
              "    </tr>\n",
              "    <tr>\n",
              "      <th>2017-12-30</th>\n",
              "      <td>-12.661652</td>\n",
              "      <td>16.080012</td>\n",
              "      <td>-27.511605</td>\n",
              "    </tr>\n",
              "    <tr>\n",
              "      <th>2017-12-31</th>\n",
              "      <td>-12.470193</td>\n",
              "      <td>15.374893</td>\n",
              "      <td>-27.490423</td>\n",
              "    </tr>\n",
              "  </tbody>\n",
              "</table>\n",
              "<p>365 rows × 3 columns</p>\n",
              "</div>"
            ],
            "text/plain": [
              "                 arr1       arr2       arr3\n",
              "2017-01-01  -0.443539  -1.168710   0.813329\n",
              "2017-01-02   0.452500  -2.472529   0.228046\n",
              "2017-01-03   0.651478  -3.050235  -0.700017\n",
              "2017-01-04   0.708395  -2.606145  -0.874420\n",
              "2017-01-05   2.212251  -2.550162  -0.318958\n",
              "...               ...        ...        ...\n",
              "2017-12-27 -14.249900  15.379925 -28.552869\n",
              "2017-12-28 -12.325084  15.747657 -28.196329\n",
              "2017-12-29 -11.889483  17.090137 -27.883225\n",
              "2017-12-30 -12.661652  16.080012 -27.511605\n",
              "2017-12-31 -12.470193  15.374893 -27.490423\n",
              "\n",
              "[365 rows x 3 columns]"
            ]
          },
          "metadata": {
            "tags": []
          },
          "execution_count": 100
        }
      ]
    },
    {
      "cell_type": "code",
      "metadata": {
        "colab": {
          "base_uri": "https://localhost:8080/",
          "height": 421
        },
        "id": "BFVSmeeCKDCH",
        "outputId": "fb40ccd6-69ef-419c-ebac-896ebce68a21"
      },
      "source": [
        "df_M_mean = df.resample('M', kind='period').mean()\n",
        "df_M_mean"
      ],
      "execution_count": 104,
      "outputs": [
        {
          "output_type": "execute_result",
          "data": {
            "text/html": [
              "<div>\n",
              "<style scoped>\n",
              "    .dataframe tbody tr th:only-of-type {\n",
              "        vertical-align: middle;\n",
              "    }\n",
              "\n",
              "    .dataframe tbody tr th {\n",
              "        vertical-align: top;\n",
              "    }\n",
              "\n",
              "    .dataframe thead th {\n",
              "        text-align: right;\n",
              "    }\n",
              "</style>\n",
              "<table border=\"1\" class=\"dataframe\">\n",
              "  <thead>\n",
              "    <tr style=\"text-align: right;\">\n",
              "      <th></th>\n",
              "      <th>arr1</th>\n",
              "      <th>arr2</th>\n",
              "      <th>arr3</th>\n",
              "    </tr>\n",
              "  </thead>\n",
              "  <tbody>\n",
              "    <tr>\n",
              "      <th>2017-01</th>\n",
              "      <td>2.589945</td>\n",
              "      <td>-1.335850</td>\n",
              "      <td>-2.050524</td>\n",
              "    </tr>\n",
              "    <tr>\n",
              "      <th>2017-02</th>\n",
              "      <td>-3.068795</td>\n",
              "      <td>8.392786</td>\n",
              "      <td>-3.169828</td>\n",
              "    </tr>\n",
              "    <tr>\n",
              "      <th>2017-03</th>\n",
              "      <td>-10.067318</td>\n",
              "      <td>12.173232</td>\n",
              "      <td>-1.179939</td>\n",
              "    </tr>\n",
              "    <tr>\n",
              "      <th>2017-04</th>\n",
              "      <td>-14.335725</td>\n",
              "      <td>11.375645</td>\n",
              "      <td>-5.152446</td>\n",
              "    </tr>\n",
              "    <tr>\n",
              "      <th>2017-05</th>\n",
              "      <td>-14.999531</td>\n",
              "      <td>18.043666</td>\n",
              "      <td>-6.481068</td>\n",
              "    </tr>\n",
              "    <tr>\n",
              "      <th>2017-06</th>\n",
              "      <td>-8.266660</td>\n",
              "      <td>12.073188</td>\n",
              "      <td>-6.949984</td>\n",
              "    </tr>\n",
              "    <tr>\n",
              "      <th>2017-07</th>\n",
              "      <td>-5.870566</td>\n",
              "      <td>12.965869</td>\n",
              "      <td>-7.921601</td>\n",
              "    </tr>\n",
              "    <tr>\n",
              "      <th>2017-08</th>\n",
              "      <td>-13.296610</td>\n",
              "      <td>12.078122</td>\n",
              "      <td>-11.832514</td>\n",
              "    </tr>\n",
              "    <tr>\n",
              "      <th>2017-09</th>\n",
              "      <td>-20.102555</td>\n",
              "      <td>18.835059</td>\n",
              "      <td>-10.293944</td>\n",
              "    </tr>\n",
              "    <tr>\n",
              "      <th>2017-10</th>\n",
              "      <td>-21.909425</td>\n",
              "      <td>18.070492</td>\n",
              "      <td>-20.795699</td>\n",
              "    </tr>\n",
              "    <tr>\n",
              "      <th>2017-11</th>\n",
              "      <td>-16.836986</td>\n",
              "      <td>18.027492</td>\n",
              "      <td>-29.695255</td>\n",
              "    </tr>\n",
              "    <tr>\n",
              "      <th>2017-12</th>\n",
              "      <td>-13.289399</td>\n",
              "      <td>13.828276</td>\n",
              "      <td>-30.835921</td>\n",
              "    </tr>\n",
              "  </tbody>\n",
              "</table>\n",
              "</div>"
            ],
            "text/plain": [
              "              arr1       arr2       arr3\n",
              "2017-01   2.589945  -1.335850  -2.050524\n",
              "2017-02  -3.068795   8.392786  -3.169828\n",
              "2017-03 -10.067318  12.173232  -1.179939\n",
              "2017-04 -14.335725  11.375645  -5.152446\n",
              "2017-05 -14.999531  18.043666  -6.481068\n",
              "2017-06  -8.266660  12.073188  -6.949984\n",
              "2017-07  -5.870566  12.965869  -7.921601\n",
              "2017-08 -13.296610  12.078122 -11.832514\n",
              "2017-09 -20.102555  18.835059 -10.293944\n",
              "2017-10 -21.909425  18.070492 -20.795699\n",
              "2017-11 -16.836986  18.027492 -29.695255\n",
              "2017-12 -13.289399  13.828276 -30.835921"
            ]
          },
          "metadata": {
            "tags": []
          },
          "execution_count": 104
        }
      ]
    },
    {
      "cell_type": "code",
      "metadata": {
        "colab": {
          "base_uri": "https://localhost:8080/",
          "height": 277
        },
        "id": "HExlyeJ7K36x",
        "outputId": "60cb7a78-f2ee-41f3-e5c7-8116320c3aee"
      },
      "source": [
        "df_M_mean.plot()\n",
        "plt.show()"
      ],
      "execution_count": 105,
      "outputs": [
        {
          "output_type": "display_data",
          "data": {
            "image/png": "[encoded data removed]",
            "text/plain": [
              "<Figure size 432x288 with 1 Axes>"
            ]
          },
          "metadata": {
            "tags": [],
            "needs_background": "light"
          }
        }
      ]
    },
    {
      "cell_type": "code",
      "metadata": {
        "colab": {
          "base_uri": "https://localhost:8080/"
        },
        "id": "dS7U5TOyLnP-",
        "outputId": "31536c7f-f084-41d1-e33a-02f5a459cbc0"
      },
      "source": [
        "dt = pd.date_range('2017-1-1', periods=60, freq='T')\n",
        "dt"
      ],
      "execution_count": 106,
      "outputs": [
        {
          "output_type": "execute_result",
          "data": {
            "text/plain": [
              "DatetimeIndex(['2017-01-01 00:00:00', '2017-01-01 00:01:00',\n",
              "               '2017-01-01 00:02:00', '2017-01-01 00:03:00',\n",
              "               '2017-01-01 00:04:00', '2017-01-01 00:05:00',\n",
              "               '2017-01-01 00:06:00', '2017-01-01 00:07:00',\n",
              "               '2017-01-01 00:08:00', '2017-01-01 00:09:00',\n",
              "               '2017-01-01 00:10:00', '2017-01-01 00:11:00',\n",
              "               '2017-01-01 00:12:00', '2017-01-01 00:13:00',\n",
              "               '2017-01-01 00:14:00', '2017-01-01 00:15:00',\n",
              "               '2017-01-01 00:16:00', '2017-01-01 00:17:00',\n",
              "               '2017-01-01 00:18:00', '2017-01-01 00:19:00',\n",
              "               '2017-01-01 00:20:00', '2017-01-01 00:21:00',\n",
              "               '2017-01-01 00:22:00', '2017-01-01 00:23:00',\n",
              "               '2017-01-01 00:24:00', '2017-01-01 00:25:00',\n",
              "               '2017-01-01 00:26:00', '2017-01-01 00:27:00',\n",
              "               '2017-01-01 00:28:00', '2017-01-01 00:29:00',\n",
              "               '2017-01-01 00:30:00', '2017-01-01 00:31:00',\n",
              "               '2017-01-01 00:32:00', '2017-01-01 00:33:00',\n",
              "               '2017-01-01 00:34:00', '2017-01-01 00:35:00',\n",
              "               '2017-01-01 00:36:00', '2017-01-01 00:37:00',\n",
              "               '2017-01-01 00:38:00', '2017-01-01 00:39:00',\n",
              "               '2017-01-01 00:40:00', '2017-01-01 00:41:00',\n",
              "               '2017-01-01 00:42:00', '2017-01-01 00:43:00',\n",
              "               '2017-01-01 00:44:00', '2017-01-01 00:45:00',\n",
              "               '2017-01-01 00:46:00', '2017-01-01 00:47:00',\n",
              "               '2017-01-01 00:48:00', '2017-01-01 00:49:00',\n",
              "               '2017-01-01 00:50:00', '2017-01-01 00:51:00',\n",
              "               '2017-01-01 00:52:00', '2017-01-01 00:53:00',\n",
              "               '2017-01-01 00:54:00', '2017-01-01 00:55:00',\n",
              "               '2017-01-01 00:56:00', '2017-01-01 00:57:00',\n",
              "               '2017-01-01 00:58:00', '2017-01-01 00:59:00'],\n",
              "              dtype='datetime64[ns]', freq='T')"
            ]
          },
          "metadata": {
            "tags": []
          },
          "execution_count": 106
        }
      ]
    },
    {
      "cell_type": "code",
      "metadata": {
        "colab": {
          "base_uri": "https://localhost:8080/"
        },
        "id": "GxBkXco3Lr9d",
        "outputId": "e5a796fe-8aff-4ce6-e6dd-944b34a6fafb"
      },
      "source": [
        "np.random.seed(2020060102)\n",
        "se = pd.Series(np.random.randn(len(dt)), index=dt)\n",
        "se"
      ],
      "execution_count": 108,
      "outputs": [
        {
          "output_type": "execute_result",
          "data": {
            "text/plain": [
              "2017-01-01 00:00:00    0.076715\n",
              "2017-01-01 00:01:00    0.344432\n",
              "2017-01-01 00:02:00    3.627385\n",
              "2017-01-01 00:03:00   -0.122468\n",
              "2017-01-01 00:04:00    0.365824\n",
              "2017-01-01 00:05:00    0.281722\n",
              "2017-01-01 00:06:00   -0.056217\n",
              "2017-01-01 00:07:00   -0.801967\n",
              "2017-01-01 00:08:00   -0.258931\n",
              "2017-01-01 00:09:00   -0.021835\n",
              "2017-01-01 00:10:00   -0.340126\n",
              "2017-01-01 00:11:00   -1.431945\n",
              "2017-01-01 00:12:00    1.613712\n",
              "2017-01-01 00:13:00    0.533184\n",
              "2017-01-01 00:14:00   -0.814687\n",
              "2017-01-01 00:15:00    0.034662\n",
              "2017-01-01 00:16:00    0.097059\n",
              "2017-01-01 00:17:00   -0.280089\n",
              "2017-01-01 00:18:00   -1.291485\n",
              "2017-01-01 00:19:00   -0.285362\n",
              "2017-01-01 00:20:00   -0.878525\n",
              "2017-01-01 00:21:00   -0.252010\n",
              "2017-01-01 00:22:00    0.563584\n",
              "2017-01-01 00:23:00   -1.792143\n",
              "2017-01-01 00:24:00    0.479516\n",
              "2017-01-01 00:25:00    0.328455\n",
              "2017-01-01 00:26:00   -0.236009\n",
              "2017-01-01 00:27:00   -0.056048\n",
              "2017-01-01 00:28:00    0.064796\n",
              "2017-01-01 00:29:00    0.413145\n",
              "2017-01-01 00:30:00    0.496401\n",
              "2017-01-01 00:31:00    0.077692\n",
              "2017-01-01 00:32:00   -0.942577\n",
              "2017-01-01 00:33:00    0.299014\n",
              "2017-01-01 00:34:00    0.216880\n",
              "2017-01-01 00:35:00    1.974960\n",
              "2017-01-01 00:36:00   -0.584945\n",
              "2017-01-01 00:37:00    1.289481\n",
              "2017-01-01 00:38:00    0.327715\n",
              "2017-01-01 00:39:00   -0.220207\n",
              "2017-01-01 00:40:00   -2.709773\n",
              "2017-01-01 00:41:00    2.214107\n",
              "2017-01-01 00:42:00   -1.685127\n",
              "2017-01-01 00:43:00   -0.104397\n",
              "2017-01-01 00:44:00   -0.201462\n",
              "2017-01-01 00:45:00   -0.328727\n",
              "2017-01-01 00:46:00   -0.641543\n",
              "2017-01-01 00:47:00   -0.597508\n",
              "2017-01-01 00:48:00    1.538281\n",
              "2017-01-01 00:49:00    0.220914\n",
              "2017-01-01 00:50:00   -0.271139\n",
              "2017-01-01 00:51:00    0.830219\n",
              "2017-01-01 00:52:00   -0.601553\n",
              "2017-01-01 00:53:00    0.574726\n",
              "2017-01-01 00:54:00    1.222322\n",
              "2017-01-01 00:55:00   -0.373933\n",
              "2017-01-01 00:56:00    0.622699\n",
              "2017-01-01 00:57:00    0.717032\n",
              "2017-01-01 00:58:00    0.821132\n",
              "2017-01-01 00:59:00    0.094916\n",
              "Freq: T, dtype: float64"
            ]
          },
          "metadata": {
            "tags": []
          },
          "execution_count": 108
        }
      ]
    },
    {
      "cell_type": "code",
      "metadata": {
        "colab": {
          "base_uri": "https://localhost:8080/"
        },
        "id": "SX_I-MQjL8LX",
        "outputId": "be1e07b1-8704-4642-acf1-bc2c54e78e7e"
      },
      "source": [
        "se.resample('5min').sum()"
      ],
      "execution_count": 109,
      "outputs": [
        {
          "output_type": "execute_result",
          "data": {
            "text/plain": [
              "2017-01-01 00:00:00    4.291887\n",
              "2017-01-01 00:05:00   -0.857228\n",
              "2017-01-01 00:10:00   -0.439862\n",
              "2017-01-01 00:15:00   -1.725216\n",
              "2017-01-01 00:20:00   -1.879578\n",
              "2017-01-01 00:25:00    0.514340\n",
              "2017-01-01 00:30:00    0.147410\n",
              "2017-01-01 00:35:00    2.787004\n",
              "2017-01-01 00:40:00   -2.486652\n",
              "2017-01-01 00:45:00    0.191417\n",
              "2017-01-01 00:50:00    1.754575\n",
              "2017-01-01 00:55:00    1.881846\n",
              "Freq: 5T, dtype: float64"
            ]
          },
          "metadata": {
            "tags": []
          },
          "execution_count": 109
        }
      ]
    },
    {
      "cell_type": "code",
      "metadata": {
        "colab": {
          "base_uri": "https://localhost:8080/"
        },
        "id": "qM4RmjnWMCQb",
        "outputId": "54fa61fa-9df8-4470-b4e4-d95d9f8bfe48"
      },
      "source": [
        "se.resample('5min', closed='right').sum()"
      ],
      "execution_count": 112,
      "outputs": [
        {
          "output_type": "execute_result",
          "data": {
            "text/plain": [
              "2016-12-31 23:55:00    0.076715\n",
              "2017-01-01 00:00:00    4.496895\n",
              "2017-01-01 00:05:00   -1.479075\n",
              "2017-01-01 00:10:00   -0.065075\n",
              "2017-01-01 00:15:00   -2.638402\n",
              "2017-01-01 00:20:00   -0.672598\n",
              "2017-01-01 00:25:00    0.682286\n",
              "2017-01-01 00:30:00    1.625969\n",
              "2017-01-01 00:35:00   -1.897729\n",
              "2017-01-01 00:40:00   -0.105606\n",
              "2017-01-01 00:45:00    0.249005\n",
              "2017-01-01 00:50:00    1.651781\n",
              "2017-01-01 00:55:00    2.255779\n",
              "Freq: 5T, dtype: float64"
            ]
          },
          "metadata": {
            "tags": []
          },
          "execution_count": 112
        }
      ]
    },
    {
      "cell_type": "code",
      "metadata": {
        "colab": {
          "base_uri": "https://localhost:8080/"
        },
        "id": "dHedvtg4MlZ9",
        "outputId": "9968f80d-f16a-442d-f1d9-2e903e9fe383"
      },
      "source": [
        "se.resample('5min', closed='right', label='right').sum()"
      ],
      "execution_count": 114,
      "outputs": [
        {
          "output_type": "execute_result",
          "data": {
            "text/plain": [
              "2017-01-01 00:00:00    0.076715\n",
              "2017-01-01 00:05:00    4.496895\n",
              "2017-01-01 00:10:00   -1.479075\n",
              "2017-01-01 00:15:00   -0.065075\n",
              "2017-01-01 00:20:00   -2.638402\n",
              "2017-01-01 00:25:00   -0.672598\n",
              "2017-01-01 00:30:00    0.682286\n",
              "2017-01-01 00:35:00    1.625969\n",
              "2017-01-01 00:40:00   -1.897729\n",
              "2017-01-01 00:45:00   -0.105606\n",
              "2017-01-01 00:50:00    0.249005\n",
              "2017-01-01 00:55:00    1.651781\n",
              "2017-01-01 01:00:00    2.255779\n",
              "Freq: 5T, dtype: float64"
            ]
          },
          "metadata": {
            "tags": []
          },
          "execution_count": 114
        }
      ]
    },
    {
      "cell_type": "code",
      "metadata": {
        "colab": {
          "base_uri": "https://localhost:8080/"
        },
        "id": "k0YOOblNM4Qe",
        "outputId": "cf57bd5c-687d-445a-9e16-3c1660e72177"
      },
      "source": [
        "se.resample('5min', closed='right', label='right', loffset='-9h').sum()"
      ],
      "execution_count": 117,
      "outputs": [
        {
          "output_type": "stream",
          "text": [
            "/usr/local/lib/python3.7/dist-packages/ipykernel_launcher.py:1: FutureWarning: 'loffset' in .resample() and in Grouper() is deprecated.\n",
            "\n",
            ">>> df.resample(freq=\"3s\", loffset=\"8H\")\n",
            "\n",
            "becomes:\n",
            "\n",
            ">>> from pandas.tseries.frequencies import to_offset\n",
            ">>> df = df.resample(freq=\"3s\").mean()\n",
            ">>> df.index = df.index.to_timestamp() + to_offset(\"8H\")\n",
            "\n",
            "  \"\"\"Entry point for launching an IPython kernel.\n"
          ],
          "name": "stderr"
        },
        {
          "output_type": "execute_result",
          "data": {
            "text/plain": [
              "2016-12-31 15:00:00    0.076715\n",
              "2016-12-31 15:05:00    4.496895\n",
              "2016-12-31 15:10:00   -1.479075\n",
              "2016-12-31 15:15:00   -0.065075\n",
              "2016-12-31 15:20:00   -2.638402\n",
              "2016-12-31 15:25:00   -0.672598\n",
              "2016-12-31 15:30:00    0.682286\n",
              "2016-12-31 15:35:00    1.625969\n",
              "2016-12-31 15:40:00   -1.897729\n",
              "2016-12-31 15:45:00   -0.105606\n",
              "2016-12-31 15:50:00    0.249005\n",
              "2016-12-31 15:55:00    1.651781\n",
              "2016-12-31 16:00:00    2.255779\n",
              "Freq: 5T, dtype: float64"
            ]
          },
          "metadata": {
            "tags": []
          },
          "execution_count": 117
        }
      ]
    },
    {
      "cell_type": "code",
      "metadata": {
        "colab": {
          "base_uri": "https://localhost:8080/",
          "height": 421
        },
        "id": "9YmCsZtsM_vd",
        "outputId": "06ff39a5-4215-47c6-b66c-0c2759566eb9"
      },
      "source": [
        "se.resample('5min').ohlc()"
      ],
      "execution_count": 118,
      "outputs": [
        {
          "output_type": "execute_result",
          "data": {
            "text/html": [
              "<div>\n",
              "<style scoped>\n",
              "    .dataframe tbody tr th:only-of-type {\n",
              "        vertical-align: middle;\n",
              "    }\n",
              "\n",
              "    .dataframe tbody tr th {\n",
              "        vertical-align: top;\n",
              "    }\n",
              "\n",
              "    .dataframe thead th {\n",
              "        text-align: right;\n",
              "    }\n",
              "</style>\n",
              "<table border=\"1\" class=\"dataframe\">\n",
              "  <thead>\n",
              "    <tr style=\"text-align: right;\">\n",
              "      <th></th>\n",
              "      <th>open</th>\n",
              "      <th>high</th>\n",
              "      <th>low</th>\n",
              "      <th>close</th>\n",
              "    </tr>\n",
              "  </thead>\n",
              "  <tbody>\n",
              "    <tr>\n",
              "      <th>2017-01-01 00:00:00</th>\n",
              "      <td>0.076715</td>\n",
              "      <td>3.627385</td>\n",
              "      <td>-0.122468</td>\n",
              "      <td>0.365824</td>\n",
              "    </tr>\n",
              "    <tr>\n",
              "      <th>2017-01-01 00:05:00</th>\n",
              "      <td>0.281722</td>\n",
              "      <td>0.281722</td>\n",
              "      <td>-0.801967</td>\n",
              "      <td>-0.021835</td>\n",
              "    </tr>\n",
              "    <tr>\n",
              "      <th>2017-01-01 00:10:00</th>\n",
              "      <td>-0.340126</td>\n",
              "      <td>1.613712</td>\n",
              "      <td>-1.431945</td>\n",
              "      <td>-0.814687</td>\n",
              "    </tr>\n",
              "    <tr>\n",
              "      <th>2017-01-01 00:15:00</th>\n",
              "      <td>0.034662</td>\n",
              "      <td>0.097059</td>\n",
              "      <td>-1.291485</td>\n",
              "      <td>-0.285362</td>\n",
              "    </tr>\n",
              "    <tr>\n",
              "      <th>2017-01-01 00:20:00</th>\n",
              "      <td>-0.878525</td>\n",
              "      <td>0.563584</td>\n",
              "      <td>-1.792143</td>\n",
              "      <td>0.479516</td>\n",
              "    </tr>\n",
              "    <tr>\n",
              "      <th>2017-01-01 00:25:00</th>\n",
              "      <td>0.328455</td>\n",
              "      <td>0.413145</td>\n",
              "      <td>-0.236009</td>\n",
              "      <td>0.413145</td>\n",
              "    </tr>\n",
              "    <tr>\n",
              "      <th>2017-01-01 00:30:00</th>\n",
              "      <td>0.496401</td>\n",
              "      <td>0.496401</td>\n",
              "      <td>-0.942577</td>\n",
              "      <td>0.216880</td>\n",
              "    </tr>\n",
              "    <tr>\n",
              "      <th>2017-01-01 00:35:00</th>\n",
              "      <td>1.974960</td>\n",
              "      <td>1.974960</td>\n",
              "      <td>-0.584945</td>\n",
              "      <td>-0.220207</td>\n",
              "    </tr>\n",
              "    <tr>\n",
              "      <th>2017-01-01 00:40:00</th>\n",
              "      <td>-2.709773</td>\n",
              "      <td>2.214107</td>\n",
              "      <td>-2.709773</td>\n",
              "      <td>-0.201462</td>\n",
              "    </tr>\n",
              "    <tr>\n",
              "      <th>2017-01-01 00:45:00</th>\n",
              "      <td>-0.328727</td>\n",
              "      <td>1.538281</td>\n",
              "      <td>-0.641543</td>\n",
              "      <td>0.220914</td>\n",
              "    </tr>\n",
              "    <tr>\n",
              "      <th>2017-01-01 00:50:00</th>\n",
              "      <td>-0.271139</td>\n",
              "      <td>1.222322</td>\n",
              "      <td>-0.601553</td>\n",
              "      <td>1.222322</td>\n",
              "    </tr>\n",
              "    <tr>\n",
              "      <th>2017-01-01 00:55:00</th>\n",
              "      <td>-0.373933</td>\n",
              "      <td>0.821132</td>\n",
              "      <td>-0.373933</td>\n",
              "      <td>0.094916</td>\n",
              "    </tr>\n",
              "  </tbody>\n",
              "</table>\n",
              "</div>"
            ],
            "text/plain": [
              "                         open      high       low     close\n",
              "2017-01-01 00:00:00  0.076715  3.627385 -0.122468  0.365824\n",
              "2017-01-01 00:05:00  0.281722  0.281722 -0.801967 -0.021835\n",
              "2017-01-01 00:10:00 -0.340126  1.613712 -1.431945 -0.814687\n",
              "2017-01-01 00:15:00  0.034662  0.097059 -1.291485 -0.285362\n",
              "2017-01-01 00:20:00 -0.878525  0.563584 -1.792143  0.479516\n",
              "2017-01-01 00:25:00  0.328455  0.413145 -0.236009  0.413145\n",
              "2017-01-01 00:30:00  0.496401  0.496401 -0.942577  0.216880\n",
              "2017-01-01 00:35:00  1.974960  1.974960 -0.584945 -0.220207\n",
              "2017-01-01 00:40:00 -2.709773  2.214107 -2.709773 -0.201462\n",
              "2017-01-01 00:45:00 -0.328727  1.538281 -0.641543  0.220914\n",
              "2017-01-01 00:50:00 -0.271139  1.222322 -0.601553  1.222322\n",
              "2017-01-01 00:55:00 -0.373933  0.821132 -0.373933  0.094916"
            ]
          },
          "metadata": {
            "tags": []
          },
          "execution_count": 118
        }
      ]
    },
    {
      "cell_type": "code",
      "metadata": {
        "colab": {
          "base_uri": "https://localhost:8080/"
        },
        "id": "XGNCuIc_NSui",
        "outputId": "b41c1763-5f9f-4e0e-ad48-bd74f1d171ea"
      },
      "source": [
        "dt = pd.date_range('2017-1-1', periods=365, freq=\"D\")\n",
        "df = pd.Series(np.arange(len(dt)), index=dt)\n",
        "df"
      ],
      "execution_count": 119,
      "outputs": [
        {
          "output_type": "execute_result",
          "data": {
            "text/plain": [
              "2017-01-01      0\n",
              "2017-01-02      1\n",
              "2017-01-03      2\n",
              "2017-01-04      3\n",
              "2017-01-05      4\n",
              "             ... \n",
              "2017-12-27    360\n",
              "2017-12-28    361\n",
              "2017-12-29    362\n",
              "2017-12-30    363\n",
              "2017-12-31    364\n",
              "Freq: D, Length: 365, dtype: int64"
            ]
          },
          "metadata": {
            "tags": []
          },
          "execution_count": 119
        }
      ]
    },
    {
      "cell_type": "code",
      "metadata": {
        "colab": {
          "base_uri": "https://localhost:8080/"
        },
        "id": "Uz0dqElONc3e",
        "outputId": "ce6b5be8-85fe-4863-db97-d31a005c3c82"
      },
      "source": [
        "df.groupby(lambda x: x.month).mean()"
      ],
      "execution_count": 120,
      "outputs": [
        {
          "output_type": "execute_result",
          "data": {
            "text/plain": [
              "1      15.0\n",
              "2      44.5\n",
              "3      74.0\n",
              "4     104.5\n",
              "5     135.0\n",
              "6     165.5\n",
              "7     196.0\n",
              "8     227.0\n",
              "9     257.5\n",
              "10    288.0\n",
              "11    318.5\n",
              "12    349.0\n",
              "dtype: float64"
            ]
          },
          "metadata": {
            "tags": []
          },
          "execution_count": 120
        }
      ]
    },
    {
      "cell_type": "code",
      "metadata": {
        "colab": {
          "base_uri": "https://localhost:8080/"
        },
        "id": "4AGVelK6NjUH",
        "outputId": "c858c3a0-5ae6-49e5-e537-f112a5c09eaf"
      },
      "source": [
        "df.groupby(lambda x: x.weekday).mean()"
      ],
      "execution_count": 121,
      "outputs": [
        {
          "output_type": "execute_result",
          "data": {
            "text/plain": [
              "0    179.5\n",
              "1    180.5\n",
              "2    181.5\n",
              "3    182.5\n",
              "4    183.5\n",
              "5    184.5\n",
              "6    182.0\n",
              "dtype: float64"
            ]
          },
          "metadata": {
            "tags": []
          },
          "execution_count": 121
        }
      ]
    },
    {
      "cell_type": "markdown",
      "metadata": {
        "id": "51Ynr_gwOW_Z"
      },
      "source": [
        "### 업샘플링과 보간"
      ]
    },
    {
      "cell_type": "code",
      "metadata": {
        "colab": {
          "base_uri": "https://localhost:8080/",
          "height": 204
        },
        "id": "nC8kXgObNmtv",
        "outputId": "7cfd2df2-655a-4779-e3d5-4429e3d9fafd"
      },
      "source": [
        "np.random.seed(2020060103)\n",
        "df = pd.DataFrame(np.random.randn(52,4),\n",
        "                  index=pd.date_range('2017-1-1', periods=52, freq='W-WED'),\n",
        "                  columns=['Kim', 'Choi', 'Lee', 'Jeong'])\n",
        "df.head()"
      ],
      "execution_count": 124,
      "outputs": [
        {
          "output_type": "execute_result",
          "data": {
            "text/html": [
              "<div>\n",
              "<style scoped>\n",
              "    .dataframe tbody tr th:only-of-type {\n",
              "        vertical-align: middle;\n",
              "    }\n",
              "\n",
              "    .dataframe tbody tr th {\n",
              "        vertical-align: top;\n",
              "    }\n",
              "\n",
              "    .dataframe thead th {\n",
              "        text-align: right;\n",
              "    }\n",
              "</style>\n",
              "<table border=\"1\" class=\"dataframe\">\n",
              "  <thead>\n",
              "    <tr style=\"text-align: right;\">\n",
              "      <th></th>\n",
              "      <th>Kim</th>\n",
              "      <th>Choi</th>\n",
              "      <th>Lee</th>\n",
              "      <th>Jeong</th>\n",
              "    </tr>\n",
              "  </thead>\n",
              "  <tbody>\n",
              "    <tr>\n",
              "      <th>2017-01-04</th>\n",
              "      <td>-0.475083</td>\n",
              "      <td>-0.809142</td>\n",
              "      <td>-0.546927</td>\n",
              "      <td>0.824014</td>\n",
              "    </tr>\n",
              "    <tr>\n",
              "      <th>2017-01-11</th>\n",
              "      <td>-0.266728</td>\n",
              "      <td>-0.417327</td>\n",
              "      <td>0.413744</td>\n",
              "      <td>0.793044</td>\n",
              "    </tr>\n",
              "    <tr>\n",
              "      <th>2017-01-18</th>\n",
              "      <td>0.519861</td>\n",
              "      <td>-0.414662</td>\n",
              "      <td>-0.474779</td>\n",
              "      <td>-0.947189</td>\n",
              "    </tr>\n",
              "    <tr>\n",
              "      <th>2017-01-25</th>\n",
              "      <td>-1.348378</td>\n",
              "      <td>1.513340</td>\n",
              "      <td>-2.249250</td>\n",
              "      <td>0.413592</td>\n",
              "    </tr>\n",
              "    <tr>\n",
              "      <th>2017-02-01</th>\n",
              "      <td>0.330508</td>\n",
              "      <td>1.210578</td>\n",
              "      <td>-1.063071</td>\n",
              "      <td>-0.595504</td>\n",
              "    </tr>\n",
              "  </tbody>\n",
              "</table>\n",
              "</div>"
            ],
            "text/plain": [
              "                 Kim      Choi       Lee     Jeong\n",
              "2017-01-04 -0.475083 -0.809142 -0.546927  0.824014\n",
              "2017-01-11 -0.266728 -0.417327  0.413744  0.793044\n",
              "2017-01-18  0.519861 -0.414662 -0.474779 -0.947189\n",
              "2017-01-25 -1.348378  1.513340 -2.249250  0.413592\n",
              "2017-02-01  0.330508  1.210578 -1.063071 -0.595504"
            ]
          },
          "metadata": {
            "tags": []
          },
          "execution_count": 124
        }
      ]
    },
    {
      "cell_type": "code",
      "metadata": {
        "colab": {
          "base_uri": "https://localhost:8080/",
          "height": 948
        },
        "id": "irWqYiXnOmWl",
        "outputId": "10dcf6c3-923f-4867-caae-e5acd7e57ddb"
      },
      "source": [
        "df['2017-01-01':'2017-02-01'].resample('D').sum()"
      ],
      "execution_count": 127,
      "outputs": [
        {
          "output_type": "execute_result",
          "data": {
            "text/html": [
              "<div>\n",
              "<style scoped>\n",
              "    .dataframe tbody tr th:only-of-type {\n",
              "        vertical-align: middle;\n",
              "    }\n",
              "\n",
              "    .dataframe tbody tr th {\n",
              "        vertical-align: top;\n",
              "    }\n",
              "\n",
              "    .dataframe thead th {\n",
              "        text-align: right;\n",
              "    }\n",
              "</style>\n",
              "<table border=\"1\" class=\"dataframe\">\n",
              "  <thead>\n",
              "    <tr style=\"text-align: right;\">\n",
              "      <th></th>\n",
              "      <th>Kim</th>\n",
              "      <th>Choi</th>\n",
              "      <th>Lee</th>\n",
              "      <th>Jeong</th>\n",
              "    </tr>\n",
              "  </thead>\n",
              "  <tbody>\n",
              "    <tr>\n",
              "      <th>2017-01-04</th>\n",
              "      <td>-0.475083</td>\n",
              "      <td>-0.809142</td>\n",
              "      <td>-0.546927</td>\n",
              "      <td>0.824014</td>\n",
              "    </tr>\n",
              "    <tr>\n",
              "      <th>2017-01-05</th>\n",
              "      <td>0.000000</td>\n",
              "      <td>0.000000</td>\n",
              "      <td>0.000000</td>\n",
              "      <td>0.000000</td>\n",
              "    </tr>\n",
              "    <tr>\n",
              "      <th>2017-01-06</th>\n",
              "      <td>0.000000</td>\n",
              "      <td>0.000000</td>\n",
              "      <td>0.000000</td>\n",
              "      <td>0.000000</td>\n",
              "    </tr>\n",
              "    <tr>\n",
              "      <th>2017-01-07</th>\n",
              "      <td>0.000000</td>\n",
              "      <td>0.000000</td>\n",
              "      <td>0.000000</td>\n",
              "      <td>0.000000</td>\n",
              "    </tr>\n",
              "    <tr>\n",
              "      <th>2017-01-08</th>\n",
              "      <td>0.000000</td>\n",
              "      <td>0.000000</td>\n",
              "      <td>0.000000</td>\n",
              "      <td>0.000000</td>\n",
              "    </tr>\n",
              "    <tr>\n",
              "      <th>2017-01-09</th>\n",
              "      <td>0.000000</td>\n",
              "      <td>0.000000</td>\n",
              "      <td>0.000000</td>\n",
              "      <td>0.000000</td>\n",
              "    </tr>\n",
              "    <tr>\n",
              "      <th>2017-01-10</th>\n",
              "      <td>0.000000</td>\n",
              "      <td>0.000000</td>\n",
              "      <td>0.000000</td>\n",
              "      <td>0.000000</td>\n",
              "    </tr>\n",
              "    <tr>\n",
              "      <th>2017-01-11</th>\n",
              "      <td>-0.266728</td>\n",
              "      <td>-0.417327</td>\n",
              "      <td>0.413744</td>\n",
              "      <td>0.793044</td>\n",
              "    </tr>\n",
              "    <tr>\n",
              "      <th>2017-01-12</th>\n",
              "      <td>0.000000</td>\n",
              "      <td>0.000000</td>\n",
              "      <td>0.000000</td>\n",
              "      <td>0.000000</td>\n",
              "    </tr>\n",
              "    <tr>\n",
              "      <th>2017-01-13</th>\n",
              "      <td>0.000000</td>\n",
              "      <td>0.000000</td>\n",
              "      <td>0.000000</td>\n",
              "      <td>0.000000</td>\n",
              "    </tr>\n",
              "    <tr>\n",
              "      <th>2017-01-14</th>\n",
              "      <td>0.000000</td>\n",
              "      <td>0.000000</td>\n",
              "      <td>0.000000</td>\n",
              "      <td>0.000000</td>\n",
              "    </tr>\n",
              "    <tr>\n",
              "      <th>2017-01-15</th>\n",
              "      <td>0.000000</td>\n",
              "      <td>0.000000</td>\n",
              "      <td>0.000000</td>\n",
              "      <td>0.000000</td>\n",
              "    </tr>\n",
              "    <tr>\n",
              "      <th>2017-01-16</th>\n",
              "      <td>0.000000</td>\n",
              "      <td>0.000000</td>\n",
              "      <td>0.000000</td>\n",
              "      <td>0.000000</td>\n",
              "    </tr>\n",
              "    <tr>\n",
              "      <th>2017-01-17</th>\n",
              "      <td>0.000000</td>\n",
              "      <td>0.000000</td>\n",
              "      <td>0.000000</td>\n",
              "      <td>0.000000</td>\n",
              "    </tr>\n",
              "    <tr>\n",
              "      <th>2017-01-18</th>\n",
              "      <td>0.519861</td>\n",
              "      <td>-0.414662</td>\n",
              "      <td>-0.474779</td>\n",
              "      <td>-0.947189</td>\n",
              "    </tr>\n",
              "    <tr>\n",
              "      <th>2017-01-19</th>\n",
              "      <td>0.000000</td>\n",
              "      <td>0.000000</td>\n",
              "      <td>0.000000</td>\n",
              "      <td>0.000000</td>\n",
              "    </tr>\n",
              "    <tr>\n",
              "      <th>2017-01-20</th>\n",
              "      <td>0.000000</td>\n",
              "      <td>0.000000</td>\n",
              "      <td>0.000000</td>\n",
              "      <td>0.000000</td>\n",
              "    </tr>\n",
              "    <tr>\n",
              "      <th>2017-01-21</th>\n",
              "      <td>0.000000</td>\n",
              "      <td>0.000000</td>\n",
              "      <td>0.000000</td>\n",
              "      <td>0.000000</td>\n",
              "    </tr>\n",
              "    <tr>\n",
              "      <th>2017-01-22</th>\n",
              "      <td>0.000000</td>\n",
              "      <td>0.000000</td>\n",
              "      <td>0.000000</td>\n",
              "      <td>0.000000</td>\n",
              "    </tr>\n",
              "    <tr>\n",
              "      <th>2017-01-23</th>\n",
              "      <td>0.000000</td>\n",
              "      <td>0.000000</td>\n",
              "      <td>0.000000</td>\n",
              "      <td>0.000000</td>\n",
              "    </tr>\n",
              "    <tr>\n",
              "      <th>2017-01-24</th>\n",
              "      <td>0.000000</td>\n",
              "      <td>0.000000</td>\n",
              "      <td>0.000000</td>\n",
              "      <td>0.000000</td>\n",
              "    </tr>\n",
              "    <tr>\n",
              "      <th>2017-01-25</th>\n",
              "      <td>-1.348378</td>\n",
              "      <td>1.513340</td>\n",
              "      <td>-2.249250</td>\n",
              "      <td>0.413592</td>\n",
              "    </tr>\n",
              "    <tr>\n",
              "      <th>2017-01-26</th>\n",
              "      <td>0.000000</td>\n",
              "      <td>0.000000</td>\n",
              "      <td>0.000000</td>\n",
              "      <td>0.000000</td>\n",
              "    </tr>\n",
              "    <tr>\n",
              "      <th>2017-01-27</th>\n",
              "      <td>0.000000</td>\n",
              "      <td>0.000000</td>\n",
              "      <td>0.000000</td>\n",
              "      <td>0.000000</td>\n",
              "    </tr>\n",
              "    <tr>\n",
              "      <th>2017-01-28</th>\n",
              "      <td>0.000000</td>\n",
              "      <td>0.000000</td>\n",
              "      <td>0.000000</td>\n",
              "      <td>0.000000</td>\n",
              "    </tr>\n",
              "    <tr>\n",
              "      <th>2017-01-29</th>\n",
              "      <td>0.000000</td>\n",
              "      <td>0.000000</td>\n",
              "      <td>0.000000</td>\n",
              "      <td>0.000000</td>\n",
              "    </tr>\n",
              "    <tr>\n",
              "      <th>2017-01-30</th>\n",
              "      <td>0.000000</td>\n",
              "      <td>0.000000</td>\n",
              "      <td>0.000000</td>\n",
              "      <td>0.000000</td>\n",
              "    </tr>\n",
              "    <tr>\n",
              "      <th>2017-01-31</th>\n",
              "      <td>0.000000</td>\n",
              "      <td>0.000000</td>\n",
              "      <td>0.000000</td>\n",
              "      <td>0.000000</td>\n",
              "    </tr>\n",
              "    <tr>\n",
              "      <th>2017-02-01</th>\n",
              "      <td>0.330508</td>\n",
              "      <td>1.210578</td>\n",
              "      <td>-1.063071</td>\n",
              "      <td>-0.595504</td>\n",
              "    </tr>\n",
              "  </tbody>\n",
              "</table>\n",
              "</div>"
            ],
            "text/plain": [
              "                 Kim      Choi       Lee     Jeong\n",
              "2017-01-04 -0.475083 -0.809142 -0.546927  0.824014\n",
              "2017-01-05  0.000000  0.000000  0.000000  0.000000\n",
              "2017-01-06  0.000000  0.000000  0.000000  0.000000\n",
              "2017-01-07  0.000000  0.000000  0.000000  0.000000\n",
              "2017-01-08  0.000000  0.000000  0.000000  0.000000\n",
              "2017-01-09  0.000000  0.000000  0.000000  0.000000\n",
              "2017-01-10  0.000000  0.000000  0.000000  0.000000\n",
              "2017-01-11 -0.266728 -0.417327  0.413744  0.793044\n",
              "2017-01-12  0.000000  0.000000  0.000000  0.000000\n",
              "2017-01-13  0.000000  0.000000  0.000000  0.000000\n",
              "2017-01-14  0.000000  0.000000  0.000000  0.000000\n",
              "2017-01-15  0.000000  0.000000  0.000000  0.000000\n",
              "2017-01-16  0.000000  0.000000  0.000000  0.000000\n",
              "2017-01-17  0.000000  0.000000  0.000000  0.000000\n",
              "2017-01-18  0.519861 -0.414662 -0.474779 -0.947189\n",
              "2017-01-19  0.000000  0.000000  0.000000  0.000000\n",
              "2017-01-20  0.000000  0.000000  0.000000  0.000000\n",
              "2017-01-21  0.000000  0.000000  0.000000  0.000000\n",
              "2017-01-22  0.000000  0.000000  0.000000  0.000000\n",
              "2017-01-23  0.000000  0.000000  0.000000  0.000000\n",
              "2017-01-24  0.000000  0.000000  0.000000  0.000000\n",
              "2017-01-25 -1.348378  1.513340 -2.249250  0.413592\n",
              "2017-01-26  0.000000  0.000000  0.000000  0.000000\n",
              "2017-01-27  0.000000  0.000000  0.000000  0.000000\n",
              "2017-01-28  0.000000  0.000000  0.000000  0.000000\n",
              "2017-01-29  0.000000  0.000000  0.000000  0.000000\n",
              "2017-01-30  0.000000  0.000000  0.000000  0.000000\n",
              "2017-01-31  0.000000  0.000000  0.000000  0.000000\n",
              "2017-02-01  0.330508  1.210578 -1.063071 -0.595504"
            ]
          },
          "metadata": {
            "tags": []
          },
          "execution_count": 127
        }
      ]
    },
    {
      "cell_type": "code",
      "metadata": {
        "colab": {
          "base_uri": "https://localhost:8080/",
          "height": 948
        },
        "id": "OYOm8pK2Ow8P",
        "outputId": "8383f788-633c-4be6-ae23-f5c252e97e1a"
      },
      "source": [
        "df['2017-01-01':'2017-02-01'].resample('D').ffill() # 이전값 채우기"
      ],
      "execution_count": 128,
      "outputs": [
        {
          "output_type": "execute_result",
          "data": {
            "text/html": [
              "<div>\n",
              "<style scoped>\n",
              "    .dataframe tbody tr th:only-of-type {\n",
              "        vertical-align: middle;\n",
              "    }\n",
              "\n",
              "    .dataframe tbody tr th {\n",
              "        vertical-align: top;\n",
              "    }\n",
              "\n",
              "    .dataframe thead th {\n",
              "        text-align: right;\n",
              "    }\n",
              "</style>\n",
              "<table border=\"1\" class=\"dataframe\">\n",
              "  <thead>\n",
              "    <tr style=\"text-align: right;\">\n",
              "      <th></th>\n",
              "      <th>Kim</th>\n",
              "      <th>Choi</th>\n",
              "      <th>Lee</th>\n",
              "      <th>Jeong</th>\n",
              "    </tr>\n",
              "  </thead>\n",
              "  <tbody>\n",
              "    <tr>\n",
              "      <th>2017-01-04</th>\n",
              "      <td>-0.475083</td>\n",
              "      <td>-0.809142</td>\n",
              "      <td>-0.546927</td>\n",
              "      <td>0.824014</td>\n",
              "    </tr>\n",
              "    <tr>\n",
              "      <th>2017-01-05</th>\n",
              "      <td>-0.475083</td>\n",
              "      <td>-0.809142</td>\n",
              "      <td>-0.546927</td>\n",
              "      <td>0.824014</td>\n",
              "    </tr>\n",
              "    <tr>\n",
              "      <th>2017-01-06</th>\n",
              "      <td>-0.475083</td>\n",
              "      <td>-0.809142</td>\n",
              "      <td>-0.546927</td>\n",
              "      <td>0.824014</td>\n",
              "    </tr>\n",
              "    <tr>\n",
              "      <th>2017-01-07</th>\n",
              "      <td>-0.475083</td>\n",
              "      <td>-0.809142</td>\n",
              "      <td>-0.546927</td>\n",
              "      <td>0.824014</td>\n",
              "    </tr>\n",
              "    <tr>\n",
              "      <th>2017-01-08</th>\n",
              "      <td>-0.475083</td>\n",
              "      <td>-0.809142</td>\n",
              "      <td>-0.546927</td>\n",
              "      <td>0.824014</td>\n",
              "    </tr>\n",
              "    <tr>\n",
              "      <th>2017-01-09</th>\n",
              "      <td>-0.475083</td>\n",
              "      <td>-0.809142</td>\n",
              "      <td>-0.546927</td>\n",
              "      <td>0.824014</td>\n",
              "    </tr>\n",
              "    <tr>\n",
              "      <th>2017-01-10</th>\n",
              "      <td>-0.475083</td>\n",
              "      <td>-0.809142</td>\n",
              "      <td>-0.546927</td>\n",
              "      <td>0.824014</td>\n",
              "    </tr>\n",
              "    <tr>\n",
              "      <th>2017-01-11</th>\n",
              "      <td>-0.266728</td>\n",
              "      <td>-0.417327</td>\n",
              "      <td>0.413744</td>\n",
              "      <td>0.793044</td>\n",
              "    </tr>\n",
              "    <tr>\n",
              "      <th>2017-01-12</th>\n",
              "      <td>-0.266728</td>\n",
              "      <td>-0.417327</td>\n",
              "      <td>0.413744</td>\n",
              "      <td>0.793044</td>\n",
              "    </tr>\n",
              "    <tr>\n",
              "      <th>2017-01-13</th>\n",
              "      <td>-0.266728</td>\n",
              "      <td>-0.417327</td>\n",
              "      <td>0.413744</td>\n",
              "      <td>0.793044</td>\n",
              "    </tr>\n",
              "    <tr>\n",
              "      <th>2017-01-14</th>\n",
              "      <td>-0.266728</td>\n",
              "      <td>-0.417327</td>\n",
              "      <td>0.413744</td>\n",
              "      <td>0.793044</td>\n",
              "    </tr>\n",
              "    <tr>\n",
              "      <th>2017-01-15</th>\n",
              "      <td>-0.266728</td>\n",
              "      <td>-0.417327</td>\n",
              "      <td>0.413744</td>\n",
              "      <td>0.793044</td>\n",
              "    </tr>\n",
              "    <tr>\n",
              "      <th>2017-01-16</th>\n",
              "      <td>-0.266728</td>\n",
              "      <td>-0.417327</td>\n",
              "      <td>0.413744</td>\n",
              "      <td>0.793044</td>\n",
              "    </tr>\n",
              "    <tr>\n",
              "      <th>2017-01-17</th>\n",
              "      <td>-0.266728</td>\n",
              "      <td>-0.417327</td>\n",
              "      <td>0.413744</td>\n",
              "      <td>0.793044</td>\n",
              "    </tr>\n",
              "    <tr>\n",
              "      <th>2017-01-18</th>\n",
              "      <td>0.519861</td>\n",
              "      <td>-0.414662</td>\n",
              "      <td>-0.474779</td>\n",
              "      <td>-0.947189</td>\n",
              "    </tr>\n",
              "    <tr>\n",
              "      <th>2017-01-19</th>\n",
              "      <td>0.519861</td>\n",
              "      <td>-0.414662</td>\n",
              "      <td>-0.474779</td>\n",
              "      <td>-0.947189</td>\n",
              "    </tr>\n",
              "    <tr>\n",
              "      <th>2017-01-20</th>\n",
              "      <td>0.519861</td>\n",
              "      <td>-0.414662</td>\n",
              "      <td>-0.474779</td>\n",
              "      <td>-0.947189</td>\n",
              "    </tr>\n",
              "    <tr>\n",
              "      <th>2017-01-21</th>\n",
              "      <td>0.519861</td>\n",
              "      <td>-0.414662</td>\n",
              "      <td>-0.474779</td>\n",
              "      <td>-0.947189</td>\n",
              "    </tr>\n",
              "    <tr>\n",
              "      <th>2017-01-22</th>\n",
              "      <td>0.519861</td>\n",
              "      <td>-0.414662</td>\n",
              "      <td>-0.474779</td>\n",
              "      <td>-0.947189</td>\n",
              "    </tr>\n",
              "    <tr>\n",
              "      <th>2017-01-23</th>\n",
              "      <td>0.519861</td>\n",
              "      <td>-0.414662</td>\n",
              "      <td>-0.474779</td>\n",
              "      <td>-0.947189</td>\n",
              "    </tr>\n",
              "    <tr>\n",
              "      <th>2017-01-24</th>\n",
              "      <td>0.519861</td>\n",
              "      <td>-0.414662</td>\n",
              "      <td>-0.474779</td>\n",
              "      <td>-0.947189</td>\n",
              "    </tr>\n",
              "    <tr>\n",
              "      <th>2017-01-25</th>\n",
              "      <td>-1.348378</td>\n",
              "      <td>1.513340</td>\n",
              "      <td>-2.249250</td>\n",
              "      <td>0.413592</td>\n",
              "    </tr>\n",
              "    <tr>\n",
              "      <th>2017-01-26</th>\n",
              "      <td>-1.348378</td>\n",
              "      <td>1.513340</td>\n",
              "      <td>-2.249250</td>\n",
              "      <td>0.413592</td>\n",
              "    </tr>\n",
              "    <tr>\n",
              "      <th>2017-01-27</th>\n",
              "      <td>-1.348378</td>\n",
              "      <td>1.513340</td>\n",
              "      <td>-2.249250</td>\n",
              "      <td>0.413592</td>\n",
              "    </tr>\n",
              "    <tr>\n",
              "      <th>2017-01-28</th>\n",
              "      <td>-1.348378</td>\n",
              "      <td>1.513340</td>\n",
              "      <td>-2.249250</td>\n",
              "      <td>0.413592</td>\n",
              "    </tr>\n",
              "    <tr>\n",
              "      <th>2017-01-29</th>\n",
              "      <td>-1.348378</td>\n",
              "      <td>1.513340</td>\n",
              "      <td>-2.249250</td>\n",
              "      <td>0.413592</td>\n",
              "    </tr>\n",
              "    <tr>\n",
              "      <th>2017-01-30</th>\n",
              "      <td>-1.348378</td>\n",
              "      <td>1.513340</td>\n",
              "      <td>-2.249250</td>\n",
              "      <td>0.413592</td>\n",
              "    </tr>\n",
              "    <tr>\n",
              "      <th>2017-01-31</th>\n",
              "      <td>-1.348378</td>\n",
              "      <td>1.513340</td>\n",
              "      <td>-2.249250</td>\n",
              "      <td>0.413592</td>\n",
              "    </tr>\n",
              "    <tr>\n",
              "      <th>2017-02-01</th>\n",
              "      <td>0.330508</td>\n",
              "      <td>1.210578</td>\n",
              "      <td>-1.063071</td>\n",
              "      <td>-0.595504</td>\n",
              "    </tr>\n",
              "  </tbody>\n",
              "</table>\n",
              "</div>"
            ],
            "text/plain": [
              "                 Kim      Choi       Lee     Jeong\n",
              "2017-01-04 -0.475083 -0.809142 -0.546927  0.824014\n",
              "2017-01-05 -0.475083 -0.809142 -0.546927  0.824014\n",
              "2017-01-06 -0.475083 -0.809142 -0.546927  0.824014\n",
              "2017-01-07 -0.475083 -0.809142 -0.546927  0.824014\n",
              "2017-01-08 -0.475083 -0.809142 -0.546927  0.824014\n",
              "2017-01-09 -0.475083 -0.809142 -0.546927  0.824014\n",
              "2017-01-10 -0.475083 -0.809142 -0.546927  0.824014\n",
              "2017-01-11 -0.266728 -0.417327  0.413744  0.793044\n",
              "2017-01-12 -0.266728 -0.417327  0.413744  0.793044\n",
              "2017-01-13 -0.266728 -0.417327  0.413744  0.793044\n",
              "2017-01-14 -0.266728 -0.417327  0.413744  0.793044\n",
              "2017-01-15 -0.266728 -0.417327  0.413744  0.793044\n",
              "2017-01-16 -0.266728 -0.417327  0.413744  0.793044\n",
              "2017-01-17 -0.266728 -0.417327  0.413744  0.793044\n",
              "2017-01-18  0.519861 -0.414662 -0.474779 -0.947189\n",
              "2017-01-19  0.519861 -0.414662 -0.474779 -0.947189\n",
              "2017-01-20  0.519861 -0.414662 -0.474779 -0.947189\n",
              "2017-01-21  0.519861 -0.414662 -0.474779 -0.947189\n",
              "2017-01-22  0.519861 -0.414662 -0.474779 -0.947189\n",
              "2017-01-23  0.519861 -0.414662 -0.474779 -0.947189\n",
              "2017-01-24  0.519861 -0.414662 -0.474779 -0.947189\n",
              "2017-01-25 -1.348378  1.513340 -2.249250  0.413592\n",
              "2017-01-26 -1.348378  1.513340 -2.249250  0.413592\n",
              "2017-01-27 -1.348378  1.513340 -2.249250  0.413592\n",
              "2017-01-28 -1.348378  1.513340 -2.249250  0.413592\n",
              "2017-01-29 -1.348378  1.513340 -2.249250  0.413592\n",
              "2017-01-30 -1.348378  1.513340 -2.249250  0.413592\n",
              "2017-01-31 -1.348378  1.513340 -2.249250  0.413592\n",
              "2017-02-01  0.330508  1.210578 -1.063071 -0.595504"
            ]
          },
          "metadata": {
            "tags": []
          },
          "execution_count": 128
        }
      ]
    },
    {
      "cell_type": "code",
      "metadata": {
        "colab": {
          "base_uri": "https://localhost:8080/",
          "height": 948
        },
        "id": "pjZIKJUjO-Og",
        "outputId": "cab0b940-f368-495f-ee09-d7481a45956f"
      },
      "source": [
        "df['2017-01-01':'2017-02-01'].resample('D').ffill(limit=2) # 이전 값"
      ],
      "execution_count": 129,
      "outputs": [
        {
          "output_type": "execute_result",
          "data": {
            "text/html": [
              "<div>\n",
              "<style scoped>\n",
              "    .dataframe tbody tr th:only-of-type {\n",
              "        vertical-align: middle;\n",
              "    }\n",
              "\n",
              "    .dataframe tbody tr th {\n",
              "        vertical-align: top;\n",
              "    }\n",
              "\n",
              "    .dataframe thead th {\n",
              "        text-align: right;\n",
              "    }\n",
              "</style>\n",
              "<table border=\"1\" class=\"dataframe\">\n",
              "  <thead>\n",
              "    <tr style=\"text-align: right;\">\n",
              "      <th></th>\n",
              "      <th>Kim</th>\n",
              "      <th>Choi</th>\n",
              "      <th>Lee</th>\n",
              "      <th>Jeong</th>\n",
              "    </tr>\n",
              "  </thead>\n",
              "  <tbody>\n",
              "    <tr>\n",
              "      <th>2017-01-04</th>\n",
              "      <td>-0.475083</td>\n",
              "      <td>-0.809142</td>\n",
              "      <td>-0.546927</td>\n",
              "      <td>0.824014</td>\n",
              "    </tr>\n",
              "    <tr>\n",
              "      <th>2017-01-05</th>\n",
              "      <td>-0.475083</td>\n",
              "      <td>-0.809142</td>\n",
              "      <td>-0.546927</td>\n",
              "      <td>0.824014</td>\n",
              "    </tr>\n",
              "    <tr>\n",
              "      <th>2017-01-06</th>\n",
              "      <td>-0.475083</td>\n",
              "      <td>-0.809142</td>\n",
              "      <td>-0.546927</td>\n",
              "      <td>0.824014</td>\n",
              "    </tr>\n",
              "    <tr>\n",
              "      <th>2017-01-07</th>\n",
              "      <td>NaN</td>\n",
              "      <td>NaN</td>\n",
              "      <td>NaN</td>\n",
              "      <td>NaN</td>\n",
              "    </tr>\n",
              "    <tr>\n",
              "      <th>2017-01-08</th>\n",
              "      <td>NaN</td>\n",
              "      <td>NaN</td>\n",
              "      <td>NaN</td>\n",
              "      <td>NaN</td>\n",
              "    </tr>\n",
              "    <tr>\n",
              "      <th>2017-01-09</th>\n",
              "      <td>NaN</td>\n",
              "      <td>NaN</td>\n",
              "      <td>NaN</td>\n",
              "      <td>NaN</td>\n",
              "    </tr>\n",
              "    <tr>\n",
              "      <th>2017-01-10</th>\n",
              "      <td>NaN</td>\n",
              "      <td>NaN</td>\n",
              "      <td>NaN</td>\n",
              "      <td>NaN</td>\n",
              "    </tr>\n",
              "    <tr>\n",
              "      <th>2017-01-11</th>\n",
              "      <td>-0.266728</td>\n",
              "      <td>-0.417327</td>\n",
              "      <td>0.413744</td>\n",
              "      <td>0.793044</td>\n",
              "    </tr>\n",
              "    <tr>\n",
              "      <th>2017-01-12</th>\n",
              "      <td>-0.266728</td>\n",
              "      <td>-0.417327</td>\n",
              "      <td>0.413744</td>\n",
              "      <td>0.793044</td>\n",
              "    </tr>\n",
              "    <tr>\n",
              "      <th>2017-01-13</th>\n",
              "      <td>-0.266728</td>\n",
              "      <td>-0.417327</td>\n",
              "      <td>0.413744</td>\n",
              "      <td>0.793044</td>\n",
              "    </tr>\n",
              "    <tr>\n",
              "      <th>2017-01-14</th>\n",
              "      <td>NaN</td>\n",
              "      <td>NaN</td>\n",
              "      <td>NaN</td>\n",
              "      <td>NaN</td>\n",
              "    </tr>\n",
              "    <tr>\n",
              "      <th>2017-01-15</th>\n",
              "      <td>NaN</td>\n",
              "      <td>NaN</td>\n",
              "      <td>NaN</td>\n",
              "      <td>NaN</td>\n",
              "    </tr>\n",
              "    <tr>\n",
              "      <th>2017-01-16</th>\n",
              "      <td>NaN</td>\n",
              "      <td>NaN</td>\n",
              "      <td>NaN</td>\n",
              "      <td>NaN</td>\n",
              "    </tr>\n",
              "    <tr>\n",
              "      <th>2017-01-17</th>\n",
              "      <td>NaN</td>\n",
              "      <td>NaN</td>\n",
              "      <td>NaN</td>\n",
              "      <td>NaN</td>\n",
              "    </tr>\n",
              "    <tr>\n",
              "      <th>2017-01-18</th>\n",
              "      <td>0.519861</td>\n",
              "      <td>-0.414662</td>\n",
              "      <td>-0.474779</td>\n",
              "      <td>-0.947189</td>\n",
              "    </tr>\n",
              "    <tr>\n",
              "      <th>2017-01-19</th>\n",
              "      <td>0.519861</td>\n",
              "      <td>-0.414662</td>\n",
              "      <td>-0.474779</td>\n",
              "      <td>-0.947189</td>\n",
              "    </tr>\n",
              "    <tr>\n",
              "      <th>2017-01-20</th>\n",
              "      <td>0.519861</td>\n",
              "      <td>-0.414662</td>\n",
              "      <td>-0.474779</td>\n",
              "      <td>-0.947189</td>\n",
              "    </tr>\n",
              "    <tr>\n",
              "      <th>2017-01-21</th>\n",
              "      <td>NaN</td>\n",
              "      <td>NaN</td>\n",
              "      <td>NaN</td>\n",
              "      <td>NaN</td>\n",
              "    </tr>\n",
              "    <tr>\n",
              "      <th>2017-01-22</th>\n",
              "      <td>NaN</td>\n",
              "      <td>NaN</td>\n",
              "      <td>NaN</td>\n",
              "      <td>NaN</td>\n",
              "    </tr>\n",
              "    <tr>\n",
              "      <th>2017-01-23</th>\n",
              "      <td>NaN</td>\n",
              "      <td>NaN</td>\n",
              "      <td>NaN</td>\n",
              "      <td>NaN</td>\n",
              "    </tr>\n",
              "    <tr>\n",
              "      <th>2017-01-24</th>\n",
              "      <td>NaN</td>\n",
              "      <td>NaN</td>\n",
              "      <td>NaN</td>\n",
              "      <td>NaN</td>\n",
              "    </tr>\n",
              "    <tr>\n",
              "      <th>2017-01-25</th>\n",
              "      <td>-1.348378</td>\n",
              "      <td>1.513340</td>\n",
              "      <td>-2.249250</td>\n",
              "      <td>0.413592</td>\n",
              "    </tr>\n",
              "    <tr>\n",
              "      <th>2017-01-26</th>\n",
              "      <td>-1.348378</td>\n",
              "      <td>1.513340</td>\n",
              "      <td>-2.249250</td>\n",
              "      <td>0.413592</td>\n",
              "    </tr>\n",
              "    <tr>\n",
              "      <th>2017-01-27</th>\n",
              "      <td>-1.348378</td>\n",
              "      <td>1.513340</td>\n",
              "      <td>-2.249250</td>\n",
              "      <td>0.413592</td>\n",
              "    </tr>\n",
              "    <tr>\n",
              "      <th>2017-01-28</th>\n",
              "      <td>NaN</td>\n",
              "      <td>NaN</td>\n",
              "      <td>NaN</td>\n",
              "      <td>NaN</td>\n",
              "    </tr>\n",
              "    <tr>\n",
              "      <th>2017-01-29</th>\n",
              "      <td>NaN</td>\n",
              "      <td>NaN</td>\n",
              "      <td>NaN</td>\n",
              "      <td>NaN</td>\n",
              "    </tr>\n",
              "    <tr>\n",
              "      <th>2017-01-30</th>\n",
              "      <td>NaN</td>\n",
              "      <td>NaN</td>\n",
              "      <td>NaN</td>\n",
              "      <td>NaN</td>\n",
              "    </tr>\n",
              "    <tr>\n",
              "      <th>2017-01-31</th>\n",
              "      <td>NaN</td>\n",
              "      <td>NaN</td>\n",
              "      <td>NaN</td>\n",
              "      <td>NaN</td>\n",
              "    </tr>\n",
              "    <tr>\n",
              "      <th>2017-02-01</th>\n",
              "      <td>0.330508</td>\n",
              "      <td>1.210578</td>\n",
              "      <td>-1.063071</td>\n",
              "      <td>-0.595504</td>\n",
              "    </tr>\n",
              "  </tbody>\n",
              "</table>\n",
              "</div>"
            ],
            "text/plain": [
              "                 Kim      Choi       Lee     Jeong\n",
              "2017-01-04 -0.475083 -0.809142 -0.546927  0.824014\n",
              "2017-01-05 -0.475083 -0.809142 -0.546927  0.824014\n",
              "2017-01-06 -0.475083 -0.809142 -0.546927  0.824014\n",
              "2017-01-07       NaN       NaN       NaN       NaN\n",
              "2017-01-08       NaN       NaN       NaN       NaN\n",
              "2017-01-09       NaN       NaN       NaN       NaN\n",
              "2017-01-10       NaN       NaN       NaN       NaN\n",
              "2017-01-11 -0.266728 -0.417327  0.413744  0.793044\n",
              "2017-01-12 -0.266728 -0.417327  0.413744  0.793044\n",
              "2017-01-13 -0.266728 -0.417327  0.413744  0.793044\n",
              "2017-01-14       NaN       NaN       NaN       NaN\n",
              "2017-01-15       NaN       NaN       NaN       NaN\n",
              "2017-01-16       NaN       NaN       NaN       NaN\n",
              "2017-01-17       NaN       NaN       NaN       NaN\n",
              "2017-01-18  0.519861 -0.414662 -0.474779 -0.947189\n",
              "2017-01-19  0.519861 -0.414662 -0.474779 -0.947189\n",
              "2017-01-20  0.519861 -0.414662 -0.474779 -0.947189\n",
              "2017-01-21       NaN       NaN       NaN       NaN\n",
              "2017-01-22       NaN       NaN       NaN       NaN\n",
              "2017-01-23       NaN       NaN       NaN       NaN\n",
              "2017-01-24       NaN       NaN       NaN       NaN\n",
              "2017-01-25 -1.348378  1.513340 -2.249250  0.413592\n",
              "2017-01-26 -1.348378  1.513340 -2.249250  0.413592\n",
              "2017-01-27 -1.348378  1.513340 -2.249250  0.413592\n",
              "2017-01-28       NaN       NaN       NaN       NaN\n",
              "2017-01-29       NaN       NaN       NaN       NaN\n",
              "2017-01-30       NaN       NaN       NaN       NaN\n",
              "2017-01-31       NaN       NaN       NaN       NaN\n",
              "2017-02-01  0.330508  1.210578 -1.063071 -0.595504"
            ]
          },
          "metadata": {
            "tags": []
          },
          "execution_count": 129
        }
      ]
    },
    {
      "cell_type": "code",
      "metadata": {
        "colab": {
          "base_uri": "https://localhost:8080/",
          "height": 1000
        },
        "id": "Vmv1sCqIPGEJ",
        "outputId": "d770dc97-31d7-42b9-9484-ea1f3513b64a"
      },
      "source": [
        "df.resample('W-MON').ffill()"
      ],
      "execution_count": 130,
      "outputs": [
        {
          "output_type": "execute_result",
          "data": {
            "text/html": [
              "<div>\n",
              "<style scoped>\n",
              "    .dataframe tbody tr th:only-of-type {\n",
              "        vertical-align: middle;\n",
              "    }\n",
              "\n",
              "    .dataframe tbody tr th {\n",
              "        vertical-align: top;\n",
              "    }\n",
              "\n",
              "    .dataframe thead th {\n",
              "        text-align: right;\n",
              "    }\n",
              "</style>\n",
              "<table border=\"1\" class=\"dataframe\">\n",
              "  <thead>\n",
              "    <tr style=\"text-align: right;\">\n",
              "      <th></th>\n",
              "      <th>Kim</th>\n",
              "      <th>Choi</th>\n",
              "      <th>Lee</th>\n",
              "      <th>Jeong</th>\n",
              "    </tr>\n",
              "  </thead>\n",
              "  <tbody>\n",
              "    <tr>\n",
              "      <th>2017-01-09</th>\n",
              "      <td>-0.475083</td>\n",
              "      <td>-0.809142</td>\n",
              "      <td>-0.546927</td>\n",
              "      <td>0.824014</td>\n",
              "    </tr>\n",
              "    <tr>\n",
              "      <th>2017-01-16</th>\n",
              "      <td>-0.266728</td>\n",
              "      <td>-0.417327</td>\n",
              "      <td>0.413744</td>\n",
              "      <td>0.793044</td>\n",
              "    </tr>\n",
              "    <tr>\n",
              "      <th>2017-01-23</th>\n",
              "      <td>0.519861</td>\n",
              "      <td>-0.414662</td>\n",
              "      <td>-0.474779</td>\n",
              "      <td>-0.947189</td>\n",
              "    </tr>\n",
              "    <tr>\n",
              "      <th>2017-01-30</th>\n",
              "      <td>-1.348378</td>\n",
              "      <td>1.513340</td>\n",
              "      <td>-2.249250</td>\n",
              "      <td>0.413592</td>\n",
              "    </tr>\n",
              "    <tr>\n",
              "      <th>2017-02-06</th>\n",
              "      <td>0.330508</td>\n",
              "      <td>1.210578</td>\n",
              "      <td>-1.063071</td>\n",
              "      <td>-0.595504</td>\n",
              "    </tr>\n",
              "    <tr>\n",
              "      <th>2017-02-13</th>\n",
              "      <td>1.282326</td>\n",
              "      <td>-1.009829</td>\n",
              "      <td>-0.841803</td>\n",
              "      <td>0.923703</td>\n",
              "    </tr>\n",
              "    <tr>\n",
              "      <th>2017-02-20</th>\n",
              "      <td>0.074171</td>\n",
              "      <td>-0.994404</td>\n",
              "      <td>1.021217</td>\n",
              "      <td>-0.998228</td>\n",
              "    </tr>\n",
              "    <tr>\n",
              "      <th>2017-02-27</th>\n",
              "      <td>0.967848</td>\n",
              "      <td>0.498043</td>\n",
              "      <td>1.514207</td>\n",
              "      <td>0.684289</td>\n",
              "    </tr>\n",
              "    <tr>\n",
              "      <th>2017-03-06</th>\n",
              "      <td>0.005395</td>\n",
              "      <td>0.291468</td>\n",
              "      <td>-0.849611</td>\n",
              "      <td>2.589077</td>\n",
              "    </tr>\n",
              "    <tr>\n",
              "      <th>2017-03-13</th>\n",
              "      <td>-1.915845</td>\n",
              "      <td>-0.037568</td>\n",
              "      <td>-0.669805</td>\n",
              "      <td>0.145419</td>\n",
              "    </tr>\n",
              "    <tr>\n",
              "      <th>2017-03-20</th>\n",
              "      <td>-0.146147</td>\n",
              "      <td>-0.273396</td>\n",
              "      <td>-1.243712</td>\n",
              "      <td>0.296126</td>\n",
              "    </tr>\n",
              "    <tr>\n",
              "      <th>2017-03-27</th>\n",
              "      <td>1.423537</td>\n",
              "      <td>-0.551228</td>\n",
              "      <td>-0.691616</td>\n",
              "      <td>0.408031</td>\n",
              "    </tr>\n",
              "    <tr>\n",
              "      <th>2017-04-03</th>\n",
              "      <td>0.093607</td>\n",
              "      <td>-0.384686</td>\n",
              "      <td>-0.177308</td>\n",
              "      <td>-0.550109</td>\n",
              "    </tr>\n",
              "    <tr>\n",
              "      <th>2017-04-10</th>\n",
              "      <td>0.693968</td>\n",
              "      <td>-0.626143</td>\n",
              "      <td>0.184823</td>\n",
              "      <td>-0.414479</td>\n",
              "    </tr>\n",
              "    <tr>\n",
              "      <th>2017-04-17</th>\n",
              "      <td>-1.824611</td>\n",
              "      <td>-0.131677</td>\n",
              "      <td>-1.465542</td>\n",
              "      <td>1.197430</td>\n",
              "    </tr>\n",
              "    <tr>\n",
              "      <th>2017-04-24</th>\n",
              "      <td>-0.125000</td>\n",
              "      <td>0.645243</td>\n",
              "      <td>-0.059427</td>\n",
              "      <td>0.618126</td>\n",
              "    </tr>\n",
              "    <tr>\n",
              "      <th>2017-05-01</th>\n",
              "      <td>-0.708678</td>\n",
              "      <td>-0.605048</td>\n",
              "      <td>-0.491080</td>\n",
              "      <td>1.121760</td>\n",
              "    </tr>\n",
              "    <tr>\n",
              "      <th>2017-05-08</th>\n",
              "      <td>0.146572</td>\n",
              "      <td>-0.901612</td>\n",
              "      <td>-1.781435</td>\n",
              "      <td>0.008895</td>\n",
              "    </tr>\n",
              "    <tr>\n",
              "      <th>2017-05-15</th>\n",
              "      <td>-1.939696</td>\n",
              "      <td>-0.551213</td>\n",
              "      <td>-0.895457</td>\n",
              "      <td>1.575890</td>\n",
              "    </tr>\n",
              "    <tr>\n",
              "      <th>2017-05-22</th>\n",
              "      <td>2.172023</td>\n",
              "      <td>-0.822624</td>\n",
              "      <td>0.788364</td>\n",
              "      <td>0.808830</td>\n",
              "    </tr>\n",
              "    <tr>\n",
              "      <th>2017-05-29</th>\n",
              "      <td>-1.378646</td>\n",
              "      <td>-1.065553</td>\n",
              "      <td>1.355794</td>\n",
              "      <td>-1.317070</td>\n",
              "    </tr>\n",
              "    <tr>\n",
              "      <th>2017-06-05</th>\n",
              "      <td>-1.309293</td>\n",
              "      <td>0.221401</td>\n",
              "      <td>-2.235438</td>\n",
              "      <td>1.580435</td>\n",
              "    </tr>\n",
              "    <tr>\n",
              "      <th>2017-06-12</th>\n",
              "      <td>-0.799845</td>\n",
              "      <td>-0.531428</td>\n",
              "      <td>0.871434</td>\n",
              "      <td>1.170816</td>\n",
              "    </tr>\n",
              "    <tr>\n",
              "      <th>2017-06-19</th>\n",
              "      <td>0.033020</td>\n",
              "      <td>-1.369191</td>\n",
              "      <td>-0.601096</td>\n",
              "      <td>0.567508</td>\n",
              "    </tr>\n",
              "    <tr>\n",
              "      <th>2017-06-26</th>\n",
              "      <td>-0.193041</td>\n",
              "      <td>1.331986</td>\n",
              "      <td>0.440037</td>\n",
              "      <td>1.064543</td>\n",
              "    </tr>\n",
              "    <tr>\n",
              "      <th>2017-07-03</th>\n",
              "      <td>-0.388223</td>\n",
              "      <td>2.036925</td>\n",
              "      <td>1.115152</td>\n",
              "      <td>-0.147624</td>\n",
              "    </tr>\n",
              "    <tr>\n",
              "      <th>2017-07-10</th>\n",
              "      <td>-1.413331</td>\n",
              "      <td>0.633092</td>\n",
              "      <td>-0.864076</td>\n",
              "      <td>-0.136378</td>\n",
              "    </tr>\n",
              "    <tr>\n",
              "      <th>2017-07-17</th>\n",
              "      <td>0.323810</td>\n",
              "      <td>0.749356</td>\n",
              "      <td>1.213336</td>\n",
              "      <td>0.160036</td>\n",
              "    </tr>\n",
              "    <tr>\n",
              "      <th>2017-07-24</th>\n",
              "      <td>0.624240</td>\n",
              "      <td>1.083771</td>\n",
              "      <td>0.790914</td>\n",
              "      <td>-1.145257</td>\n",
              "    </tr>\n",
              "    <tr>\n",
              "      <th>2017-07-31</th>\n",
              "      <td>0.805118</td>\n",
              "      <td>1.249363</td>\n",
              "      <td>-0.130227</td>\n",
              "      <td>0.122137</td>\n",
              "    </tr>\n",
              "    <tr>\n",
              "      <th>2017-08-07</th>\n",
              "      <td>1.078136</td>\n",
              "      <td>0.410833</td>\n",
              "      <td>-0.034078</td>\n",
              "      <td>-1.296202</td>\n",
              "    </tr>\n",
              "    <tr>\n",
              "      <th>2017-08-14</th>\n",
              "      <td>1.759218</td>\n",
              "      <td>1.097953</td>\n",
              "      <td>-0.058020</td>\n",
              "      <td>0.141462</td>\n",
              "    </tr>\n",
              "    <tr>\n",
              "      <th>2017-08-21</th>\n",
              "      <td>-0.839108</td>\n",
              "      <td>2.360827</td>\n",
              "      <td>1.577983</td>\n",
              "      <td>0.141193</td>\n",
              "    </tr>\n",
              "    <tr>\n",
              "      <th>2017-08-28</th>\n",
              "      <td>1.063859</td>\n",
              "      <td>0.101572</td>\n",
              "      <td>-1.482957</td>\n",
              "      <td>0.253073</td>\n",
              "    </tr>\n",
              "    <tr>\n",
              "      <th>2017-09-04</th>\n",
              "      <td>0.306441</td>\n",
              "      <td>0.293662</td>\n",
              "      <td>0.393052</td>\n",
              "      <td>0.561123</td>\n",
              "    </tr>\n",
              "    <tr>\n",
              "      <th>2017-09-11</th>\n",
              "      <td>0.346365</td>\n",
              "      <td>1.185469</td>\n",
              "      <td>0.203356</td>\n",
              "      <td>0.493272</td>\n",
              "    </tr>\n",
              "    <tr>\n",
              "      <th>2017-09-18</th>\n",
              "      <td>-2.149625</td>\n",
              "      <td>0.427262</td>\n",
              "      <td>-0.314725</td>\n",
              "      <td>-0.156291</td>\n",
              "    </tr>\n",
              "    <tr>\n",
              "      <th>2017-09-25</th>\n",
              "      <td>0.608725</td>\n",
              "      <td>0.035870</td>\n",
              "      <td>-0.370114</td>\n",
              "      <td>-0.097418</td>\n",
              "    </tr>\n",
              "    <tr>\n",
              "      <th>2017-10-02</th>\n",
              "      <td>-0.682969</td>\n",
              "      <td>-1.460052</td>\n",
              "      <td>-1.633246</td>\n",
              "      <td>-0.151945</td>\n",
              "    </tr>\n",
              "    <tr>\n",
              "      <th>2017-10-09</th>\n",
              "      <td>0.675209</td>\n",
              "      <td>0.231249</td>\n",
              "      <td>-0.357988</td>\n",
              "      <td>0.205487</td>\n",
              "    </tr>\n",
              "    <tr>\n",
              "      <th>2017-10-16</th>\n",
              "      <td>-0.627383</td>\n",
              "      <td>-0.258062</td>\n",
              "      <td>1.945958</td>\n",
              "      <td>1.024705</td>\n",
              "    </tr>\n",
              "    <tr>\n",
              "      <th>2017-10-23</th>\n",
              "      <td>-0.314298</td>\n",
              "      <td>0.195951</td>\n",
              "      <td>0.450856</td>\n",
              "      <td>-0.618706</td>\n",
              "    </tr>\n",
              "    <tr>\n",
              "      <th>2017-10-30</th>\n",
              "      <td>0.065546</td>\n",
              "      <td>0.057389</td>\n",
              "      <td>-1.830568</td>\n",
              "      <td>0.898178</td>\n",
              "    </tr>\n",
              "    <tr>\n",
              "      <th>2017-11-06</th>\n",
              "      <td>1.271404</td>\n",
              "      <td>-0.704388</td>\n",
              "      <td>-0.151758</td>\n",
              "      <td>1.222404</td>\n",
              "    </tr>\n",
              "    <tr>\n",
              "      <th>2017-11-13</th>\n",
              "      <td>3.117040</td>\n",
              "      <td>-0.924406</td>\n",
              "      <td>1.417622</td>\n",
              "      <td>-0.575424</td>\n",
              "    </tr>\n",
              "    <tr>\n",
              "      <th>2017-11-20</th>\n",
              "      <td>-0.039569</td>\n",
              "      <td>0.691348</td>\n",
              "      <td>-0.284236</td>\n",
              "      <td>-0.056592</td>\n",
              "    </tr>\n",
              "    <tr>\n",
              "      <th>2017-11-27</th>\n",
              "      <td>-1.821374</td>\n",
              "      <td>0.951957</td>\n",
              "      <td>0.609207</td>\n",
              "      <td>-0.897724</td>\n",
              "    </tr>\n",
              "    <tr>\n",
              "      <th>2017-12-04</th>\n",
              "      <td>0.725397</td>\n",
              "      <td>-0.249085</td>\n",
              "      <td>0.375390</td>\n",
              "      <td>-0.628160</td>\n",
              "    </tr>\n",
              "    <tr>\n",
              "      <th>2017-12-11</th>\n",
              "      <td>0.883139</td>\n",
              "      <td>0.468232</td>\n",
              "      <td>-0.305669</td>\n",
              "      <td>1.358214</td>\n",
              "    </tr>\n",
              "    <tr>\n",
              "      <th>2017-12-18</th>\n",
              "      <td>-0.273628</td>\n",
              "      <td>0.934791</td>\n",
              "      <td>-1.936321</td>\n",
              "      <td>0.550032</td>\n",
              "    </tr>\n",
              "    <tr>\n",
              "      <th>2017-12-25</th>\n",
              "      <td>-0.002538</td>\n",
              "      <td>1.047586</td>\n",
              "      <td>-0.031320</td>\n",
              "      <td>1.467218</td>\n",
              "    </tr>\n",
              "    <tr>\n",
              "      <th>2018-01-01</th>\n",
              "      <td>-0.374461</td>\n",
              "      <td>-0.675065</td>\n",
              "      <td>1.265940</td>\n",
              "      <td>-1.211217</td>\n",
              "    </tr>\n",
              "  </tbody>\n",
              "</table>\n",
              "</div>"
            ],
            "text/plain": [
              "                 Kim      Choi       Lee     Jeong\n",
              "2017-01-09 -0.475083 -0.809142 -0.546927  0.824014\n",
              "2017-01-16 -0.266728 -0.417327  0.413744  0.793044\n",
              "2017-01-23  0.519861 -0.414662 -0.474779 -0.947189\n",
              "2017-01-30 -1.348378  1.513340 -2.249250  0.413592\n",
              "2017-02-06  0.330508  1.210578 -1.063071 -0.595504\n",
              "2017-02-13  1.282326 -1.009829 -0.841803  0.923703\n",
              "2017-02-20  0.074171 -0.994404  1.021217 -0.998228\n",
              "2017-02-27  0.967848  0.498043  1.514207  0.684289\n",
              "2017-03-06  0.005395  0.291468 -0.849611  2.589077\n",
              "2017-03-13 -1.915845 -0.037568 -0.669805  0.145419\n",
              "2017-03-20 -0.146147 -0.273396 -1.243712  0.296126\n",
              "2017-03-27  1.423537 -0.551228 -0.691616  0.408031\n",
              "2017-04-03  0.093607 -0.384686 -0.177308 -0.550109\n",
              "2017-04-10  0.693968 -0.626143  0.184823 -0.414479\n",
              "2017-04-17 -1.824611 -0.131677 -1.465542  1.197430\n",
              "2017-04-24 -0.125000  0.645243 -0.059427  0.618126\n",
              "2017-05-01 -0.708678 -0.605048 -0.491080  1.121760\n",
              "2017-05-08  0.146572 -0.901612 -1.781435  0.008895\n",
              "2017-05-15 -1.939696 -0.551213 -0.895457  1.575890\n",
              "2017-05-22  2.172023 -0.822624  0.788364  0.808830\n",
              "2017-05-29 -1.378646 -1.065553  1.355794 -1.317070\n",
              "2017-06-05 -1.309293  0.221401 -2.235438  1.580435\n",
              "2017-06-12 -0.799845 -0.531428  0.871434  1.170816\n",
              "2017-06-19  0.033020 -1.369191 -0.601096  0.567508\n",
              "2017-06-26 -0.193041  1.331986  0.440037  1.064543\n",
              "2017-07-03 -0.388223  2.036925  1.115152 -0.147624\n",
              "2017-07-10 -1.413331  0.633092 -0.864076 -0.136378\n",
              "2017-07-17  0.323810  0.749356  1.213336  0.160036\n",
              "2017-07-24  0.624240  1.083771  0.790914 -1.145257\n",
              "2017-07-31  0.805118  1.249363 -0.130227  0.122137\n",
              "2017-08-07  1.078136  0.410833 -0.034078 -1.296202\n",
              "2017-08-14  1.759218  1.097953 -0.058020  0.141462\n",
              "2017-08-21 -0.839108  2.360827  1.577983  0.141193\n",
              "2017-08-28  1.063859  0.101572 -1.482957  0.253073\n",
              "2017-09-04  0.306441  0.293662  0.393052  0.561123\n",
              "2017-09-11  0.346365  1.185469  0.203356  0.493272\n",
              "2017-09-18 -2.149625  0.427262 -0.314725 -0.156291\n",
              "2017-09-25  0.608725  0.035870 -0.370114 -0.097418\n",
              "2017-10-02 -0.682969 -1.460052 -1.633246 -0.151945\n",
              "2017-10-09  0.675209  0.231249 -0.357988  0.205487\n",
              "2017-10-16 -0.627383 -0.258062  1.945958  1.024705\n",
              "2017-10-23 -0.314298  0.195951  0.450856 -0.618706\n",
              "2017-10-30  0.065546  0.057389 -1.830568  0.898178\n",
              "2017-11-06  1.271404 -0.704388 -0.151758  1.222404\n",
              "2017-11-13  3.117040 -0.924406  1.417622 -0.575424\n",
              "2017-11-20 -0.039569  0.691348 -0.284236 -0.056592\n",
              "2017-11-27 -1.821374  0.951957  0.609207 -0.897724\n",
              "2017-12-04  0.725397 -0.249085  0.375390 -0.628160\n",
              "2017-12-11  0.883139  0.468232 -0.305669  1.358214\n",
              "2017-12-18 -0.273628  0.934791 -1.936321  0.550032\n",
              "2017-12-25 -0.002538  1.047586 -0.031320  1.467218\n",
              "2018-01-01 -0.374461 -0.675065  1.265940 -1.211217"
            ]
          },
          "metadata": {
            "tags": []
          },
          "execution_count": 130
        }
      ]
    },
    {
      "cell_type": "code",
      "metadata": {
        "colab": {
          "base_uri": "https://localhost:8080/",
          "height": 173
        },
        "id": "29QYlwgRPJLW",
        "outputId": "c2fc3798-53fa-424e-d5a1-57018be58f7f"
      },
      "source": [
        "df.resample('Q-DEC').ffill()"
      ],
      "execution_count": 131,
      "outputs": [
        {
          "output_type": "execute_result",
          "data": {
            "text/html": [
              "<div>\n",
              "<style scoped>\n",
              "    .dataframe tbody tr th:only-of-type {\n",
              "        vertical-align: middle;\n",
              "    }\n",
              "\n",
              "    .dataframe tbody tr th {\n",
              "        vertical-align: top;\n",
              "    }\n",
              "\n",
              "    .dataframe thead th {\n",
              "        text-align: right;\n",
              "    }\n",
              "</style>\n",
              "<table border=\"1\" class=\"dataframe\">\n",
              "  <thead>\n",
              "    <tr style=\"text-align: right;\">\n",
              "      <th></th>\n",
              "      <th>Kim</th>\n",
              "      <th>Choi</th>\n",
              "      <th>Lee</th>\n",
              "      <th>Jeong</th>\n",
              "    </tr>\n",
              "  </thead>\n",
              "  <tbody>\n",
              "    <tr>\n",
              "      <th>2017-03-31</th>\n",
              "      <td>0.093607</td>\n",
              "      <td>-0.384686</td>\n",
              "      <td>-0.177308</td>\n",
              "      <td>-0.550109</td>\n",
              "    </tr>\n",
              "    <tr>\n",
              "      <th>2017-06-30</th>\n",
              "      <td>-0.388223</td>\n",
              "      <td>2.036925</td>\n",
              "      <td>1.115152</td>\n",
              "      <td>-0.147624</td>\n",
              "    </tr>\n",
              "    <tr>\n",
              "      <th>2017-09-30</th>\n",
              "      <td>-0.682969</td>\n",
              "      <td>-1.460052</td>\n",
              "      <td>-1.633246</td>\n",
              "      <td>-0.151945</td>\n",
              "    </tr>\n",
              "    <tr>\n",
              "      <th>2017-12-31</th>\n",
              "      <td>-0.374461</td>\n",
              "      <td>-0.675065</td>\n",
              "      <td>1.265940</td>\n",
              "      <td>-1.211217</td>\n",
              "    </tr>\n",
              "  </tbody>\n",
              "</table>\n",
              "</div>"
            ],
            "text/plain": [
              "                 Kim      Choi       Lee     Jeong\n",
              "2017-03-31  0.093607 -0.384686 -0.177308 -0.550109\n",
              "2017-06-30 -0.388223  2.036925  1.115152 -0.147624\n",
              "2017-09-30 -0.682969 -1.460052 -1.633246 -0.151945\n",
              "2017-12-31 -0.374461 -0.675065  1.265940 -1.211217"
            ]
          },
          "metadata": {
            "tags": []
          },
          "execution_count": 131
        }
      ]
    },
    {
      "cell_type": "code",
      "metadata": {
        "id": "cZ_y8jVoPOY3"
      },
      "source": [
        ""
      ],
      "execution_count": null,
      "outputs": []
    }
  ]
}