{
  "nbformat": 4,
  "nbformat_minor": 0,
  "metadata": {
    "colab": {
      "name": "pandas.ipynb",
      "provenance": [],
      "authorship_tag": "ABX9TyNDBP30Qtry6XVfY1jwHmtW",
      "include_colab_link": true
    },
    "kernelspec": {
      "name": "python3",
      "display_name": "Python 3"
    },
    "language_info": {
      "name": "python"
    }
  },
  "cells": [
    {
      "cell_type": "markdown",
      "metadata": {
        "id": "view-in-github",
        "colab_type": "text"
      },
      "source": [
        "<a href=\"https://colab.research.google.com/github/lauvsong/data-analysis-practice/blob/main/pandas.ipynb\" target=\"_parent\"><img src=\"https://colab.research.google.com/assets/colab-badge.svg\" alt=\"Open In Colab\"/></a>"
      ]
    },
    {
      "cell_type": "code",
      "metadata": {
        "colab": {
          "base_uri": "https://localhost:8080/"
        },
        "id": "SxT-y2Ywvbk3",
        "outputId": "af1df68c-037a-48dd-9887-05c166f3a2b6"
      },
      "source": [
        "import pandas as pd\n",
        "a = pd.Series([1,2,3])\n",
        "a"
      ],
      "execution_count": 1,
      "outputs": [
        {
          "output_type": "execute_result",
          "data": {
            "text/plain": [
              "0    1\n",
              "1    2\n",
              "2    3\n",
              "dtype: int64"
            ]
          },
          "metadata": {
            "tags": []
          },
          "execution_count": 1
        }
      ]
    },
    {
      "cell_type": "code",
      "metadata": {
        "colab": {
          "base_uri": "https://localhost:8080/"
        },
        "id": "HU1UmET1vf9x",
        "outputId": "9d1d35bd-bf67-47fa-a9b6-0865e3365f81"
      },
      "source": [
        "a.index"
      ],
      "execution_count": 2,
      "outputs": [
        {
          "output_type": "execute_result",
          "data": {
            "text/plain": [
              "RangeIndex(start=0, stop=3, step=1)"
            ]
          },
          "metadata": {
            "tags": []
          },
          "execution_count": 2
        }
      ]
    },
    {
      "cell_type": "code",
      "metadata": {
        "colab": {
          "base_uri": "https://localhost:8080/"
        },
        "id": "Wf9XcnV6vgAF",
        "outputId": "1292ae62-9e15-45f7-e9fa-d76c721ea706"
      },
      "source": [
        "a.values"
      ],
      "execution_count": 3,
      "outputs": [
        {
          "output_type": "execute_result",
          "data": {
            "text/plain": [
              "array([1, 2, 3])"
            ]
          },
          "metadata": {
            "tags": []
          },
          "execution_count": 3
        }
      ]
    },
    {
      "cell_type": "code",
      "metadata": {
        "colab": {
          "base_uri": "https://localhost:8080/"
        },
        "id": "6Spmf0EBvgB1",
        "outputId": "48830f94-60e6-47c1-8d20-4b6e5d8bc40a"
      },
      "source": [
        "a.index = ['a', 'b', 'c']\n",
        "a"
      ],
      "execution_count": 4,
      "outputs": [
        {
          "output_type": "execute_result",
          "data": {
            "text/plain": [
              "a    1\n",
              "b    2\n",
              "c    3\n",
              "dtype: int64"
            ]
          },
          "metadata": {
            "tags": []
          },
          "execution_count": 4
        }
      ]
    },
    {
      "cell_type": "code",
      "metadata": {
        "colab": {
          "base_uri": "https://localhost:8080/"
        },
        "id": "eMQ7s8WXvgEE",
        "outputId": "e6ee8590-80cb-42f8-c1ab-43a40d61932f"
      },
      "source": [
        "b = pd.Series([1,2,3,4], index=['a','b','c','d'])\n",
        "b"
      ],
      "execution_count": 5,
      "outputs": [
        {
          "output_type": "execute_result",
          "data": {
            "text/plain": [
              "a    1\n",
              "b    2\n",
              "c    3\n",
              "d    4\n",
              "dtype: int64"
            ]
          },
          "metadata": {
            "tags": []
          },
          "execution_count": 5
        }
      ]
    },
    {
      "cell_type": "code",
      "metadata": {
        "colab": {
          "base_uri": "https://localhost:8080/"
        },
        "id": "GE-iWVoHvgIM",
        "outputId": "7f3d2fe7-91d0-45d5-bcda-1d35d40816bb"
      },
      "source": [
        "b['b'] = 2017\n",
        "b['e'] = 2019\n",
        "b"
      ],
      "execution_count": 8,
      "outputs": [
        {
          "output_type": "execute_result",
          "data": {
            "text/plain": [
              "a       1\n",
              "b    2017\n",
              "c       3\n",
              "d       4\n",
              "e    2019\n",
              "dtype: int64"
            ]
          },
          "metadata": {
            "tags": []
          },
          "execution_count": 8
        }
      ]
    },
    {
      "cell_type": "code",
      "metadata": {
        "colab": {
          "base_uri": "https://localhost:8080/"
        },
        "id": "iMAjmYptvgK3",
        "outputId": "ffff3135-65ae-4928-f2a8-3ff06933ae84"
      },
      "source": [
        "b[b>3]"
      ],
      "execution_count": 9,
      "outputs": [
        {
          "output_type": "execute_result",
          "data": {
            "text/plain": [
              "b    2017\n",
              "d       4\n",
              "e    2019\n",
              "dtype: int64"
            ]
          },
          "metadata": {
            "tags": []
          },
          "execution_count": 9
        }
      ]
    },
    {
      "cell_type": "code",
      "metadata": {
        "colab": {
          "base_uri": "https://localhost:8080/"
        },
        "id": "2B75TObLwBXR",
        "outputId": "e0fae230-f14e-4409-f59b-6639cb19b31f"
      },
      "source": [
        "b*2"
      ],
      "execution_count": 10,
      "outputs": [
        {
          "output_type": "execute_result",
          "data": {
            "text/plain": [
              "a       2\n",
              "b    4034\n",
              "c       6\n",
              "d       8\n",
              "e    4038\n",
              "dtype: int64"
            ]
          },
          "metadata": {
            "tags": []
          },
          "execution_count": 10
        }
      ]
    },
    {
      "cell_type": "code",
      "metadata": {
        "colab": {
          "base_uri": "https://localhost:8080/"
        },
        "id": "jpq1cnXYwGCK",
        "outputId": "708b7a4b-b7f5-4567-ed18-1c2edcbe7ab4"
      },
      "source": [
        "dict_data = {\n",
        "    'name': 'Choi',\n",
        "    'age':30,\n",
        "    'hobby': ['study', 'swimming'],\n",
        "    'gender': 'man',\n",
        "    'weak point': None\n",
        "}\n",
        "sr_data = pd.Series(dict_data)\n",
        "sr_data"
      ],
      "execution_count": 11,
      "outputs": [
        {
          "output_type": "execute_result",
          "data": {
            "text/plain": [
              "name                       Choi\n",
              "age                          30\n",
              "hobby         [study, swimming]\n",
              "gender                      man\n",
              "weak point                 None\n",
              "dtype: object"
            ]
          },
          "metadata": {
            "tags": []
          },
          "execution_count": 11
        }
      ]
    },
    {
      "cell_type": "code",
      "metadata": {
        "colab": {
          "base_uri": "https://localhost:8080/"
        },
        "id": "wdTfZNhrwGE5",
        "outputId": "8d01c8fe-f162-4e8b-bd31-8582b5a1806b"
      },
      "source": [
        "sr_data.isnull()"
      ],
      "execution_count": 13,
      "outputs": [
        {
          "output_type": "execute_result",
          "data": {
            "text/plain": [
              "name          False\n",
              "age           False\n",
              "hobby         False\n",
              "gender        False\n",
              "weak point     True\n",
              "dtype: bool"
            ]
          },
          "metadata": {
            "tags": []
          },
          "execution_count": 13
        }
      ]
    },
    {
      "cell_type": "code",
      "metadata": {
        "colab": {
          "base_uri": "https://localhost:8080/"
        },
        "id": "_Msyxja8wGHc",
        "outputId": "6b012297-cd20-4539-d1f7-e67eca9ad263"
      },
      "source": [
        "sr_data.index.name = 'label'\n",
        "sr_data.name = \"Personal Information\"\n",
        "sr_data"
      ],
      "execution_count": 14,
      "outputs": [
        {
          "output_type": "execute_result",
          "data": {
            "text/plain": [
              "label\n",
              "name                       Choi\n",
              "age                          30\n",
              "hobby         [study, swimming]\n",
              "gender                      man\n",
              "weak point                 None\n",
              "Name: Personal Information, dtype: object"
            ]
          },
          "metadata": {
            "tags": []
          },
          "execution_count": 14
        }
      ]
    },
    {
      "cell_type": "code",
      "metadata": {
        "colab": {
          "base_uri": "https://localhost:8080/"
        },
        "id": "fFuZdgtDwGJ0",
        "outputId": "ccc729d0-4988-427e-a266-85a6986841c6"
      },
      "source": [
        "import numpy as np\n",
        "\n",
        "sel = pd.Series(np.arange(0,31,2))\n",
        "sel"
      ],
      "execution_count": 22,
      "outputs": [
        {
          "output_type": "execute_result",
          "data": {
            "text/plain": [
              "0      0\n",
              "1      2\n",
              "2      4\n",
              "3      6\n",
              "4      8\n",
              "5     10\n",
              "6     12\n",
              "7     14\n",
              "8     16\n",
              "9     18\n",
              "10    20\n",
              "11    22\n",
              "12    24\n",
              "13    26\n",
              "14    28\n",
              "15    30\n",
              "dtype: int64"
            ]
          },
          "metadata": {
            "tags": []
          },
          "execution_count": 22
        }
      ]
    },
    {
      "cell_type": "code",
      "metadata": {
        "colab": {
          "base_uri": "https://localhost:8080/"
        },
        "id": "r5zBaBadwGMe",
        "outputId": "1481f934-ad45-4d67-de5c-d3d8d944a4c2"
      },
      "source": [
        "sel.index = sel.values\n",
        "sel"
      ],
      "execution_count": 23,
      "outputs": [
        {
          "output_type": "execute_result",
          "data": {
            "text/plain": [
              "0      0\n",
              "2      2\n",
              "4      4\n",
              "6      6\n",
              "8      8\n",
              "10    10\n",
              "12    12\n",
              "14    14\n",
              "16    16\n",
              "18    18\n",
              "20    20\n",
              "22    22\n",
              "24    24\n",
              "26    26\n",
              "28    28\n",
              "30    30\n",
              "dtype: int64"
            ]
          },
          "metadata": {
            "tags": []
          },
          "execution_count": 23
        }
      ]
    },
    {
      "cell_type": "code",
      "metadata": {
        "colab": {
          "base_uri": "https://localhost:8080/"
        },
        "id": "LtDrRQxawGO9",
        "outputId": "35b0b86e-eabd-4f97-f153-5e68a5d736bf"
      },
      "source": [
        "sel[(sel >= 4) & (sel % 4 == 0)] = None\n",
        "sel"
      ],
      "execution_count": 30,
      "outputs": [
        {
          "output_type": "execute_result",
          "data": {
            "text/plain": [
              "0      0.0\n",
              "2      2.0\n",
              "4      NaN\n",
              "6      6.0\n",
              "8      NaN\n",
              "10    10.0\n",
              "12     NaN\n",
              "14    14.0\n",
              "16     NaN\n",
              "18    18.0\n",
              "20     NaN\n",
              "22    22.0\n",
              "24     NaN\n",
              "26    26.0\n",
              "28     NaN\n",
              "30    30.0\n",
              "dtype: float64"
            ]
          },
          "metadata": {
            "tags": []
          },
          "execution_count": 30
        }
      ]
    },
    {
      "cell_type": "code",
      "metadata": {
        "colab": {
          "base_uri": "https://localhost:8080/",
          "height": 142
        },
        "id": "1w9h9JuswGRi",
        "outputId": "ee645999-70e3-4607-e480-9a2e9c446cfd"
      },
      "source": [
        "data = {\n",
        "    'id' : [1,2,3],\n",
        "    'name': ['Choi', 'Lee', \"Kim\"],\n",
        "    'age': [10,20,30],\n",
        "    'assets': [150.4, 123.4, 88.88],\n",
        "    'job': ['student', 'CEO', 'Dad']\n",
        "}\n",
        "df = pd.DataFrame(data)\n",
        "df"
      ],
      "execution_count": 43,
      "outputs": [
        {
          "output_type": "execute_result",
          "data": {
            "text/html": [
              "<div>\n",
              "<style scoped>\n",
              "    .dataframe tbody tr th:only-of-type {\n",
              "        vertical-align: middle;\n",
              "    }\n",
              "\n",
              "    .dataframe tbody tr th {\n",
              "        vertical-align: top;\n",
              "    }\n",
              "\n",
              "    .dataframe thead th {\n",
              "        text-align: right;\n",
              "    }\n",
              "</style>\n",
              "<table border=\"1\" class=\"dataframe\">\n",
              "  <thead>\n",
              "    <tr style=\"text-align: right;\">\n",
              "      <th></th>\n",
              "      <th>id</th>\n",
              "      <th>name</th>\n",
              "      <th>age</th>\n",
              "      <th>assets</th>\n",
              "      <th>job</th>\n",
              "    </tr>\n",
              "  </thead>\n",
              "  <tbody>\n",
              "    <tr>\n",
              "      <th>0</th>\n",
              "      <td>1</td>\n",
              "      <td>Choi</td>\n",
              "      <td>10</td>\n",
              "      <td>150.40</td>\n",
              "      <td>student</td>\n",
              "    </tr>\n",
              "    <tr>\n",
              "      <th>1</th>\n",
              "      <td>2</td>\n",
              "      <td>Lee</td>\n",
              "      <td>20</td>\n",
              "      <td>123.40</td>\n",
              "      <td>CEO</td>\n",
              "    </tr>\n",
              "    <tr>\n",
              "      <th>2</th>\n",
              "      <td>3</td>\n",
              "      <td>Kim</td>\n",
              "      <td>30</td>\n",
              "      <td>88.88</td>\n",
              "      <td>Dad</td>\n",
              "    </tr>\n",
              "  </tbody>\n",
              "</table>\n",
              "</div>"
            ],
            "text/plain": [
              "   id  name  age  assets      job\n",
              "0   1  Choi   10  150.40  student\n",
              "1   2   Lee   20  123.40      CEO\n",
              "2   3   Kim   30   88.88      Dad"
            ]
          },
          "metadata": {
            "tags": []
          },
          "execution_count": 43
        }
      ]
    },
    {
      "cell_type": "code",
      "metadata": {
        "colab": {
          "base_uri": "https://localhost:8080/",
          "height": 142
        },
        "id": "e4TjRdMNwGVT",
        "outputId": "e765f1bb-a1d8-4ac4-e108-eb3359bb0a1c"
      },
      "source": [
        "df = pd.DataFrame(data, columns = ['id', 'name', 'job', 'age', 'assets', 'hobby'],\n",
        "                  index = ['one', 'two', 'three'])\n",
        "df"
      ],
      "execution_count": 44,
      "outputs": [
        {
          "output_type": "execute_result",
          "data": {
            "text/html": [
              "<div>\n",
              "<style scoped>\n",
              "    .dataframe tbody tr th:only-of-type {\n",
              "        vertical-align: middle;\n",
              "    }\n",
              "\n",
              "    .dataframe tbody tr th {\n",
              "        vertical-align: top;\n",
              "    }\n",
              "\n",
              "    .dataframe thead th {\n",
              "        text-align: right;\n",
              "    }\n",
              "</style>\n",
              "<table border=\"1\" class=\"dataframe\">\n",
              "  <thead>\n",
              "    <tr style=\"text-align: right;\">\n",
              "      <th></th>\n",
              "      <th>id</th>\n",
              "      <th>name</th>\n",
              "      <th>job</th>\n",
              "      <th>age</th>\n",
              "      <th>assets</th>\n",
              "      <th>hobby</th>\n",
              "    </tr>\n",
              "  </thead>\n",
              "  <tbody>\n",
              "    <tr>\n",
              "      <th>one</th>\n",
              "      <td>1</td>\n",
              "      <td>Choi</td>\n",
              "      <td>student</td>\n",
              "      <td>10</td>\n",
              "      <td>150.40</td>\n",
              "      <td>NaN</td>\n",
              "    </tr>\n",
              "    <tr>\n",
              "      <th>two</th>\n",
              "      <td>2</td>\n",
              "      <td>Lee</td>\n",
              "      <td>CEO</td>\n",
              "      <td>20</td>\n",
              "      <td>123.40</td>\n",
              "      <td>NaN</td>\n",
              "    </tr>\n",
              "    <tr>\n",
              "      <th>three</th>\n",
              "      <td>3</td>\n",
              "      <td>Kim</td>\n",
              "      <td>Dad</td>\n",
              "      <td>30</td>\n",
              "      <td>88.88</td>\n",
              "      <td>NaN</td>\n",
              "    </tr>\n",
              "  </tbody>\n",
              "</table>\n",
              "</div>"
            ],
            "text/plain": [
              "       id  name      job  age  assets hobby\n",
              "one     1  Choi  student   10  150.40   NaN\n",
              "two     2   Lee      CEO   20  123.40   NaN\n",
              "three   3   Kim      Dad   30   88.88   NaN"
            ]
          },
          "metadata": {
            "tags": []
          },
          "execution_count": 44
        }
      ]
    },
    {
      "cell_type": "code",
      "metadata": {
        "colab": {
          "base_uri": "https://localhost:8080/"
        },
        "id": "O0tfq-PbwGXr",
        "outputId": "b03a7fda-e947-483b-85c1-537869c4dee7"
      },
      "source": [
        "df.loc['one']"
      ],
      "execution_count": 45,
      "outputs": [
        {
          "output_type": "execute_result",
          "data": {
            "text/plain": [
              "id              1\n",
              "name         Choi\n",
              "job       student\n",
              "age            10\n",
              "assets      150.4\n",
              "hobby         NaN\n",
              "Name: one, dtype: object"
            ]
          },
          "metadata": {
            "tags": []
          },
          "execution_count": 45
        }
      ]
    },
    {
      "cell_type": "code",
      "metadata": {
        "colab": {
          "base_uri": "https://localhost:8080/",
          "height": 142
        },
        "id": "VF1aCG5byrnx",
        "outputId": "d9e6ed6f-72d5-4ac6-8907-15b497231f99"
      },
      "source": [
        "df['hobby'] = \"reading books\"\n",
        "df"
      ],
      "execution_count": 46,
      "outputs": [
        {
          "output_type": "execute_result",
          "data": {
            "text/html": [
              "<div>\n",
              "<style scoped>\n",
              "    .dataframe tbody tr th:only-of-type {\n",
              "        vertical-align: middle;\n",
              "    }\n",
              "\n",
              "    .dataframe tbody tr th {\n",
              "        vertical-align: top;\n",
              "    }\n",
              "\n",
              "    .dataframe thead th {\n",
              "        text-align: right;\n",
              "    }\n",
              "</style>\n",
              "<table border=\"1\" class=\"dataframe\">\n",
              "  <thead>\n",
              "    <tr style=\"text-align: right;\">\n",
              "      <th></th>\n",
              "      <th>id</th>\n",
              "      <th>name</th>\n",
              "      <th>job</th>\n",
              "      <th>age</th>\n",
              "      <th>assets</th>\n",
              "      <th>hobby</th>\n",
              "    </tr>\n",
              "  </thead>\n",
              "  <tbody>\n",
              "    <tr>\n",
              "      <th>one</th>\n",
              "      <td>1</td>\n",
              "      <td>Choi</td>\n",
              "      <td>student</td>\n",
              "      <td>10</td>\n",
              "      <td>150.40</td>\n",
              "      <td>reading books</td>\n",
              "    </tr>\n",
              "    <tr>\n",
              "      <th>two</th>\n",
              "      <td>2</td>\n",
              "      <td>Lee</td>\n",
              "      <td>CEO</td>\n",
              "      <td>20</td>\n",
              "      <td>123.40</td>\n",
              "      <td>reading books</td>\n",
              "    </tr>\n",
              "    <tr>\n",
              "      <th>three</th>\n",
              "      <td>3</td>\n",
              "      <td>Kim</td>\n",
              "      <td>Dad</td>\n",
              "      <td>30</td>\n",
              "      <td>88.88</td>\n",
              "      <td>reading books</td>\n",
              "    </tr>\n",
              "  </tbody>\n",
              "</table>\n",
              "</div>"
            ],
            "text/plain": [
              "       id  name      job  age  assets          hobby\n",
              "one     1  Choi  student   10  150.40  reading books\n",
              "two     2   Lee      CEO   20  123.40  reading books\n",
              "three   3   Kim      Dad   30   88.88  reading books"
            ]
          },
          "metadata": {
            "tags": []
          },
          "execution_count": 46
        }
      ]
    },
    {
      "cell_type": "code",
      "metadata": {
        "colab": {
          "base_uri": "https://localhost:8080/",
          "height": 142
        },
        "id": "MyHgnwIuyrrh",
        "outputId": "68c04a1a-06a8-4389-8833-8391815ee8ff"
      },
      "source": [
        "df['age'] = np.arange(3)\n",
        "df"
      ],
      "execution_count": 47,
      "outputs": [
        {
          "output_type": "execute_result",
          "data": {
            "text/html": [
              "<div>\n",
              "<style scoped>\n",
              "    .dataframe tbody tr th:only-of-type {\n",
              "        vertical-align: middle;\n",
              "    }\n",
              "\n",
              "    .dataframe tbody tr th {\n",
              "        vertical-align: top;\n",
              "    }\n",
              "\n",
              "    .dataframe thead th {\n",
              "        text-align: right;\n",
              "    }\n",
              "</style>\n",
              "<table border=\"1\" class=\"dataframe\">\n",
              "  <thead>\n",
              "    <tr style=\"text-align: right;\">\n",
              "      <th></th>\n",
              "      <th>id</th>\n",
              "      <th>name</th>\n",
              "      <th>job</th>\n",
              "      <th>age</th>\n",
              "      <th>assets</th>\n",
              "      <th>hobby</th>\n",
              "    </tr>\n",
              "  </thead>\n",
              "  <tbody>\n",
              "    <tr>\n",
              "      <th>one</th>\n",
              "      <td>1</td>\n",
              "      <td>Choi</td>\n",
              "      <td>student</td>\n",
              "      <td>0</td>\n",
              "      <td>150.40</td>\n",
              "      <td>reading books</td>\n",
              "    </tr>\n",
              "    <tr>\n",
              "      <th>two</th>\n",
              "      <td>2</td>\n",
              "      <td>Lee</td>\n",
              "      <td>CEO</td>\n",
              "      <td>1</td>\n",
              "      <td>123.40</td>\n",
              "      <td>reading books</td>\n",
              "    </tr>\n",
              "    <tr>\n",
              "      <th>three</th>\n",
              "      <td>3</td>\n",
              "      <td>Kim</td>\n",
              "      <td>Dad</td>\n",
              "      <td>2</td>\n",
              "      <td>88.88</td>\n",
              "      <td>reading books</td>\n",
              "    </tr>\n",
              "  </tbody>\n",
              "</table>\n",
              "</div>"
            ],
            "text/plain": [
              "       id  name      job  age  assets          hobby\n",
              "one     1  Choi  student    0  150.40  reading books\n",
              "two     2   Lee      CEO    1  123.40  reading books\n",
              "three   3   Kim      Dad    2   88.88  reading books"
            ]
          },
          "metadata": {
            "tags": []
          },
          "execution_count": 47
        }
      ]
    },
    {
      "cell_type": "code",
      "metadata": {
        "colab": {
          "base_uri": "https://localhost:8080/",
          "height": 142
        },
        "id": "0L_0sGyQyru-",
        "outputId": "19ce749f-88f9-4400-f92d-7c1480e265be"
      },
      "source": [
        "residence = pd.Series(['Seoul', 'Bucheon', 'Incheon'],\n",
        "                      index = ['one', 'two', 'three'])\n",
        "df['residence'] = residence\n",
        "df"
      ],
      "execution_count": 48,
      "outputs": [
        {
          "output_type": "execute_result",
          "data": {
            "text/html": [
              "<div>\n",
              "<style scoped>\n",
              "    .dataframe tbody tr th:only-of-type {\n",
              "        vertical-align: middle;\n",
              "    }\n",
              "\n",
              "    .dataframe tbody tr th {\n",
              "        vertical-align: top;\n",
              "    }\n",
              "\n",
              "    .dataframe thead th {\n",
              "        text-align: right;\n",
              "    }\n",
              "</style>\n",
              "<table border=\"1\" class=\"dataframe\">\n",
              "  <thead>\n",
              "    <tr style=\"text-align: right;\">\n",
              "      <th></th>\n",
              "      <th>id</th>\n",
              "      <th>name</th>\n",
              "      <th>job</th>\n",
              "      <th>age</th>\n",
              "      <th>assets</th>\n",
              "      <th>hobby</th>\n",
              "      <th>residence</th>\n",
              "    </tr>\n",
              "  </thead>\n",
              "  <tbody>\n",
              "    <tr>\n",
              "      <th>one</th>\n",
              "      <td>1</td>\n",
              "      <td>Choi</td>\n",
              "      <td>student</td>\n",
              "      <td>0</td>\n",
              "      <td>150.40</td>\n",
              "      <td>reading books</td>\n",
              "      <td>Seoul</td>\n",
              "    </tr>\n",
              "    <tr>\n",
              "      <th>two</th>\n",
              "      <td>2</td>\n",
              "      <td>Lee</td>\n",
              "      <td>CEO</td>\n",
              "      <td>1</td>\n",
              "      <td>123.40</td>\n",
              "      <td>reading books</td>\n",
              "      <td>Bucheon</td>\n",
              "    </tr>\n",
              "    <tr>\n",
              "      <th>three</th>\n",
              "      <td>3</td>\n",
              "      <td>Kim</td>\n",
              "      <td>Dad</td>\n",
              "      <td>2</td>\n",
              "      <td>88.88</td>\n",
              "      <td>reading books</td>\n",
              "      <td>Incheon</td>\n",
              "    </tr>\n",
              "  </tbody>\n",
              "</table>\n",
              "</div>"
            ],
            "text/plain": [
              "       id  name      job  age  assets          hobby residence\n",
              "one     1  Choi  student    0  150.40  reading books     Seoul\n",
              "two     2   Lee      CEO    1  123.40  reading books   Bucheon\n",
              "three   3   Kim      Dad    2   88.88  reading books   Incheon"
            ]
          },
          "metadata": {
            "tags": []
          },
          "execution_count": 48
        }
      ]
    },
    {
      "cell_type": "code",
      "metadata": {
        "colab": {
          "base_uri": "https://localhost:8080/",
          "height": 142
        },
        "id": "n-jaRyoYyryX",
        "outputId": "75fd5cdd-b2ad-4a26-c132-0e9dcd5f8aa8"
      },
      "source": [
        "del df['hobby']\n",
        "df"
      ],
      "execution_count": 49,
      "outputs": [
        {
          "output_type": "execute_result",
          "data": {
            "text/html": [
              "<div>\n",
              "<style scoped>\n",
              "    .dataframe tbody tr th:only-of-type {\n",
              "        vertical-align: middle;\n",
              "    }\n",
              "\n",
              "    .dataframe tbody tr th {\n",
              "        vertical-align: top;\n",
              "    }\n",
              "\n",
              "    .dataframe thead th {\n",
              "        text-align: right;\n",
              "    }\n",
              "</style>\n",
              "<table border=\"1\" class=\"dataframe\">\n",
              "  <thead>\n",
              "    <tr style=\"text-align: right;\">\n",
              "      <th></th>\n",
              "      <th>id</th>\n",
              "      <th>name</th>\n",
              "      <th>job</th>\n",
              "      <th>age</th>\n",
              "      <th>assets</th>\n",
              "      <th>residence</th>\n",
              "    </tr>\n",
              "  </thead>\n",
              "  <tbody>\n",
              "    <tr>\n",
              "      <th>one</th>\n",
              "      <td>1</td>\n",
              "      <td>Choi</td>\n",
              "      <td>student</td>\n",
              "      <td>0</td>\n",
              "      <td>150.40</td>\n",
              "      <td>Seoul</td>\n",
              "    </tr>\n",
              "    <tr>\n",
              "      <th>two</th>\n",
              "      <td>2</td>\n",
              "      <td>Lee</td>\n",
              "      <td>CEO</td>\n",
              "      <td>1</td>\n",
              "      <td>123.40</td>\n",
              "      <td>Bucheon</td>\n",
              "    </tr>\n",
              "    <tr>\n",
              "      <th>three</th>\n",
              "      <td>3</td>\n",
              "      <td>Kim</td>\n",
              "      <td>Dad</td>\n",
              "      <td>2</td>\n",
              "      <td>88.88</td>\n",
              "      <td>Incheon</td>\n",
              "    </tr>\n",
              "  </tbody>\n",
              "</table>\n",
              "</div>"
            ],
            "text/plain": [
              "       id  name      job  age  assets residence\n",
              "one     1  Choi  student    0  150.40     Seoul\n",
              "two     2   Lee      CEO    1  123.40   Bucheon\n",
              "three   3   Kim      Dad    2   88.88   Incheon"
            ]
          },
          "metadata": {
            "tags": []
          },
          "execution_count": 49
        }
      ]
    },
    {
      "cell_type": "code",
      "metadata": {
        "colab": {
          "base_uri": "https://localhost:8080/",
          "height": 173
        },
        "id": "evMHGcWIyr1k",
        "outputId": "97e3491b-e00c-4c57-e822-30c04868487e"
      },
      "source": [
        "df.index = df['id']\n",
        "del df['id']\n",
        "df"
      ],
      "execution_count": 50,
      "outputs": [
        {
          "output_type": "execute_result",
          "data": {
            "text/html": [
              "<div>\n",
              "<style scoped>\n",
              "    .dataframe tbody tr th:only-of-type {\n",
              "        vertical-align: middle;\n",
              "    }\n",
              "\n",
              "    .dataframe tbody tr th {\n",
              "        vertical-align: top;\n",
              "    }\n",
              "\n",
              "    .dataframe thead th {\n",
              "        text-align: right;\n",
              "    }\n",
              "</style>\n",
              "<table border=\"1\" class=\"dataframe\">\n",
              "  <thead>\n",
              "    <tr style=\"text-align: right;\">\n",
              "      <th></th>\n",
              "      <th>name</th>\n",
              "      <th>job</th>\n",
              "      <th>age</th>\n",
              "      <th>assets</th>\n",
              "      <th>residence</th>\n",
              "    </tr>\n",
              "    <tr>\n",
              "      <th>id</th>\n",
              "      <th></th>\n",
              "      <th></th>\n",
              "      <th></th>\n",
              "      <th></th>\n",
              "      <th></th>\n",
              "    </tr>\n",
              "  </thead>\n",
              "  <tbody>\n",
              "    <tr>\n",
              "      <th>1</th>\n",
              "      <td>Choi</td>\n",
              "      <td>student</td>\n",
              "      <td>0</td>\n",
              "      <td>150.40</td>\n",
              "      <td>Seoul</td>\n",
              "    </tr>\n",
              "    <tr>\n",
              "      <th>2</th>\n",
              "      <td>Lee</td>\n",
              "      <td>CEO</td>\n",
              "      <td>1</td>\n",
              "      <td>123.40</td>\n",
              "      <td>Bucheon</td>\n",
              "    </tr>\n",
              "    <tr>\n",
              "      <th>3</th>\n",
              "      <td>Kim</td>\n",
              "      <td>Dad</td>\n",
              "      <td>2</td>\n",
              "      <td>88.88</td>\n",
              "      <td>Incheon</td>\n",
              "    </tr>\n",
              "  </tbody>\n",
              "</table>\n",
              "</div>"
            ],
            "text/plain": [
              "    name      job  age  assets residence\n",
              "id                                      \n",
              "1   Choi  student    0  150.40     Seoul\n",
              "2    Lee      CEO    1  123.40   Bucheon\n",
              "3    Kim      Dad    2   88.88   Incheon"
            ]
          },
          "metadata": {
            "tags": []
          },
          "execution_count": 50
        }
      ]
    },
    {
      "cell_type": "code",
      "metadata": {
        "colab": {
          "base_uri": "https://localhost:8080/",
          "height": 204
        },
        "id": "-WE0t6M3yr5C",
        "outputId": "35537ff2-9e5e-4948-f4ec-d6cc5ea546d8"
      },
      "source": [
        "df.loc[4] = ['Hong', 'FreeLancer', 60,2000,\"Gangnam\"]\n",
        "df"
      ],
      "execution_count": 51,
      "outputs": [
        {
          "output_type": "execute_result",
          "data": {
            "text/html": [
              "<div>\n",
              "<style scoped>\n",
              "    .dataframe tbody tr th:only-of-type {\n",
              "        vertical-align: middle;\n",
              "    }\n",
              "\n",
              "    .dataframe tbody tr th {\n",
              "        vertical-align: top;\n",
              "    }\n",
              "\n",
              "    .dataframe thead th {\n",
              "        text-align: right;\n",
              "    }\n",
              "</style>\n",
              "<table border=\"1\" class=\"dataframe\">\n",
              "  <thead>\n",
              "    <tr style=\"text-align: right;\">\n",
              "      <th></th>\n",
              "      <th>name</th>\n",
              "      <th>job</th>\n",
              "      <th>age</th>\n",
              "      <th>assets</th>\n",
              "      <th>residence</th>\n",
              "    </tr>\n",
              "    <tr>\n",
              "      <th>id</th>\n",
              "      <th></th>\n",
              "      <th></th>\n",
              "      <th></th>\n",
              "      <th></th>\n",
              "      <th></th>\n",
              "    </tr>\n",
              "  </thead>\n",
              "  <tbody>\n",
              "    <tr>\n",
              "      <th>1</th>\n",
              "      <td>Choi</td>\n",
              "      <td>student</td>\n",
              "      <td>0</td>\n",
              "      <td>150.40</td>\n",
              "      <td>Seoul</td>\n",
              "    </tr>\n",
              "    <tr>\n",
              "      <th>2</th>\n",
              "      <td>Lee</td>\n",
              "      <td>CEO</td>\n",
              "      <td>1</td>\n",
              "      <td>123.40</td>\n",
              "      <td>Bucheon</td>\n",
              "    </tr>\n",
              "    <tr>\n",
              "      <th>3</th>\n",
              "      <td>Kim</td>\n",
              "      <td>Dad</td>\n",
              "      <td>2</td>\n",
              "      <td>88.88</td>\n",
              "      <td>Incheon</td>\n",
              "    </tr>\n",
              "    <tr>\n",
              "      <th>4</th>\n",
              "      <td>Hong</td>\n",
              "      <td>FreeLancer</td>\n",
              "      <td>60</td>\n",
              "      <td>2000.00</td>\n",
              "      <td>Gangnam</td>\n",
              "    </tr>\n",
              "  </tbody>\n",
              "</table>\n",
              "</div>"
            ],
            "text/plain": [
              "    name         job  age   assets residence\n",
              "id                                          \n",
              "1   Choi     student    0   150.40     Seoul\n",
              "2    Lee         CEO    1   123.40   Bucheon\n",
              "3    Kim         Dad    2    88.88   Incheon\n",
              "4   Hong  FreeLancer   60  2000.00   Gangnam"
            ]
          },
          "metadata": {
            "tags": []
          },
          "execution_count": 51
        }
      ]
    },
    {
      "cell_type": "code",
      "metadata": {
        "colab": {
          "base_uri": "https://localhost:8080/",
          "height": 173
        },
        "id": "c5_H3k4Yyr8J",
        "outputId": "17fc3c70-46ea-4eb1-daa2-0555829239a1"
      },
      "source": [
        "df.drop(4)"
      ],
      "execution_count": 52,
      "outputs": [
        {
          "output_type": "execute_result",
          "data": {
            "text/html": [
              "<div>\n",
              "<style scoped>\n",
              "    .dataframe tbody tr th:only-of-type {\n",
              "        vertical-align: middle;\n",
              "    }\n",
              "\n",
              "    .dataframe tbody tr th {\n",
              "        vertical-align: top;\n",
              "    }\n",
              "\n",
              "    .dataframe thead th {\n",
              "        text-align: right;\n",
              "    }\n",
              "</style>\n",
              "<table border=\"1\" class=\"dataframe\">\n",
              "  <thead>\n",
              "    <tr style=\"text-align: right;\">\n",
              "      <th></th>\n",
              "      <th>name</th>\n",
              "      <th>job</th>\n",
              "      <th>age</th>\n",
              "      <th>assets</th>\n",
              "      <th>residence</th>\n",
              "    </tr>\n",
              "    <tr>\n",
              "      <th>id</th>\n",
              "      <th></th>\n",
              "      <th></th>\n",
              "      <th></th>\n",
              "      <th></th>\n",
              "      <th></th>\n",
              "    </tr>\n",
              "  </thead>\n",
              "  <tbody>\n",
              "    <tr>\n",
              "      <th>1</th>\n",
              "      <td>Choi</td>\n",
              "      <td>student</td>\n",
              "      <td>0</td>\n",
              "      <td>150.40</td>\n",
              "      <td>Seoul</td>\n",
              "    </tr>\n",
              "    <tr>\n",
              "      <th>2</th>\n",
              "      <td>Lee</td>\n",
              "      <td>CEO</td>\n",
              "      <td>1</td>\n",
              "      <td>123.40</td>\n",
              "      <td>Bucheon</td>\n",
              "    </tr>\n",
              "    <tr>\n",
              "      <th>3</th>\n",
              "      <td>Kim</td>\n",
              "      <td>Dad</td>\n",
              "      <td>2</td>\n",
              "      <td>88.88</td>\n",
              "      <td>Incheon</td>\n",
              "    </tr>\n",
              "  </tbody>\n",
              "</table>\n",
              "</div>"
            ],
            "text/plain": [
              "    name      job  age  assets residence\n",
              "id                                      \n",
              "1   Choi  student    0  150.40     Seoul\n",
              "2    Lee      CEO    1  123.40   Bucheon\n",
              "3    Kim      Dad    2   88.88   Incheon"
            ]
          },
          "metadata": {
            "tags": []
          },
          "execution_count": 52
        }
      ]
    },
    {
      "cell_type": "code",
      "metadata": {
        "colab": {
          "base_uri": "https://localhost:8080/",
          "height": 204
        },
        "id": "1XncTm-lyr_a",
        "outputId": "5320b035-a5ae-4055-f3cb-e95bdc3ec5e1"
      },
      "source": [
        "df[['name', 'age']]"
      ],
      "execution_count": 53,
      "outputs": [
        {
          "output_type": "execute_result",
          "data": {
            "text/html": [
              "<div>\n",
              "<style scoped>\n",
              "    .dataframe tbody tr th:only-of-type {\n",
              "        vertical-align: middle;\n",
              "    }\n",
              "\n",
              "    .dataframe tbody tr th {\n",
              "        vertical-align: top;\n",
              "    }\n",
              "\n",
              "    .dataframe thead th {\n",
              "        text-align: right;\n",
              "    }\n",
              "</style>\n",
              "<table border=\"1\" class=\"dataframe\">\n",
              "  <thead>\n",
              "    <tr style=\"text-align: right;\">\n",
              "      <th></th>\n",
              "      <th>name</th>\n",
              "      <th>age</th>\n",
              "    </tr>\n",
              "    <tr>\n",
              "      <th>id</th>\n",
              "      <th></th>\n",
              "      <th></th>\n",
              "    </tr>\n",
              "  </thead>\n",
              "  <tbody>\n",
              "    <tr>\n",
              "      <th>1</th>\n",
              "      <td>Choi</td>\n",
              "      <td>0</td>\n",
              "    </tr>\n",
              "    <tr>\n",
              "      <th>2</th>\n",
              "      <td>Lee</td>\n",
              "      <td>1</td>\n",
              "    </tr>\n",
              "    <tr>\n",
              "      <th>3</th>\n",
              "      <td>Kim</td>\n",
              "      <td>2</td>\n",
              "    </tr>\n",
              "    <tr>\n",
              "      <th>4</th>\n",
              "      <td>Hong</td>\n",
              "      <td>60</td>\n",
              "    </tr>\n",
              "  </tbody>\n",
              "</table>\n",
              "</div>"
            ],
            "text/plain": [
              "    name  age\n",
              "id           \n",
              "1   Choi    0\n",
              "2    Lee    1\n",
              "3    Kim    2\n",
              "4   Hong   60"
            ]
          },
          "metadata": {
            "tags": []
          },
          "execution_count": 53
        }
      ]
    },
    {
      "cell_type": "code",
      "metadata": {
        "colab": {
          "base_uri": "https://localhost:8080/",
          "height": 142
        },
        "id": "rT-ufN3JzZQG",
        "outputId": "5a395005-d78f-4f3d-a0be-fea77447cc59"
      },
      "source": [
        "df[2:]"
      ],
      "execution_count": 54,
      "outputs": [
        {
          "output_type": "execute_result",
          "data": {
            "text/html": [
              "<div>\n",
              "<style scoped>\n",
              "    .dataframe tbody tr th:only-of-type {\n",
              "        vertical-align: middle;\n",
              "    }\n",
              "\n",
              "    .dataframe tbody tr th {\n",
              "        vertical-align: top;\n",
              "    }\n",
              "\n",
              "    .dataframe thead th {\n",
              "        text-align: right;\n",
              "    }\n",
              "</style>\n",
              "<table border=\"1\" class=\"dataframe\">\n",
              "  <thead>\n",
              "    <tr style=\"text-align: right;\">\n",
              "      <th></th>\n",
              "      <th>name</th>\n",
              "      <th>job</th>\n",
              "      <th>age</th>\n",
              "      <th>assets</th>\n",
              "      <th>residence</th>\n",
              "    </tr>\n",
              "    <tr>\n",
              "      <th>id</th>\n",
              "      <th></th>\n",
              "      <th></th>\n",
              "      <th></th>\n",
              "      <th></th>\n",
              "      <th></th>\n",
              "    </tr>\n",
              "  </thead>\n",
              "  <tbody>\n",
              "    <tr>\n",
              "      <th>3</th>\n",
              "      <td>Kim</td>\n",
              "      <td>Dad</td>\n",
              "      <td>2</td>\n",
              "      <td>88.88</td>\n",
              "      <td>Incheon</td>\n",
              "    </tr>\n",
              "    <tr>\n",
              "      <th>4</th>\n",
              "      <td>Hong</td>\n",
              "      <td>FreeLancer</td>\n",
              "      <td>60</td>\n",
              "      <td>2000.00</td>\n",
              "      <td>Gangnam</td>\n",
              "    </tr>\n",
              "  </tbody>\n",
              "</table>\n",
              "</div>"
            ],
            "text/plain": [
              "    name         job  age   assets residence\n",
              "id                                          \n",
              "3    Kim         Dad    2    88.88   Incheon\n",
              "4   Hong  FreeLancer   60  2000.00   Gangnam"
            ]
          },
          "metadata": {
            "tags": []
          },
          "execution_count": 54
        }
      ]
    },
    {
      "cell_type": "code",
      "metadata": {
        "colab": {
          "base_uri": "https://localhost:8080/"
        },
        "id": "LJEZbJdSzZUe",
        "outputId": "698576cc-bb1a-436f-e6fb-beb1b67cc71e"
      },
      "source": [
        "df.xs(3, axis=0)"
      ],
      "execution_count": 55,
      "outputs": [
        {
          "output_type": "execute_result",
          "data": {
            "text/plain": [
              "name             Kim\n",
              "job              Dad\n",
              "age                2\n",
              "assets         88.88\n",
              "residence    Incheon\n",
              "Name: 3, dtype: object"
            ]
          },
          "metadata": {
            "tags": []
          },
          "execution_count": 55
        }
      ]
    },
    {
      "cell_type": "code",
      "metadata": {
        "colab": {
          "base_uri": "https://localhost:8080/"
        },
        "id": "1gD0v5dRzZYv",
        "outputId": "d16e5793-f54f-46fd-a7fb-29d0a63ad6d2"
      },
      "source": [
        "df.xs('assets', axis=1)"
      ],
      "execution_count": 57,
      "outputs": [
        {
          "output_type": "execute_result",
          "data": {
            "text/plain": [
              "id\n",
              "1     150.40\n",
              "2     123.40\n",
              "3      88.88\n",
              "4    2000.00\n",
              "Name: assets, dtype: float64"
            ]
          },
          "metadata": {
            "tags": []
          },
          "execution_count": 57
        }
      ]
    },
    {
      "cell_type": "code",
      "metadata": {
        "colab": {
          "base_uri": "https://localhost:8080/",
          "height": 142
        },
        "id": "zwyV17GezZco",
        "outputId": "5a5c926a-aaf4-407c-ccc2-562accba92ac"
      },
      "source": [
        "mask = [True, False, True, False]\n",
        "df[mask]"
      ],
      "execution_count": 58,
      "outputs": [
        {
          "output_type": "execute_result",
          "data": {
            "text/html": [
              "<div>\n",
              "<style scoped>\n",
              "    .dataframe tbody tr th:only-of-type {\n",
              "        vertical-align: middle;\n",
              "    }\n",
              "\n",
              "    .dataframe tbody tr th {\n",
              "        vertical-align: top;\n",
              "    }\n",
              "\n",
              "    .dataframe thead th {\n",
              "        text-align: right;\n",
              "    }\n",
              "</style>\n",
              "<table border=\"1\" class=\"dataframe\">\n",
              "  <thead>\n",
              "    <tr style=\"text-align: right;\">\n",
              "      <th></th>\n",
              "      <th>name</th>\n",
              "      <th>job</th>\n",
              "      <th>age</th>\n",
              "      <th>assets</th>\n",
              "      <th>residence</th>\n",
              "    </tr>\n",
              "    <tr>\n",
              "      <th>id</th>\n",
              "      <th></th>\n",
              "      <th></th>\n",
              "      <th></th>\n",
              "      <th></th>\n",
              "      <th></th>\n",
              "    </tr>\n",
              "  </thead>\n",
              "  <tbody>\n",
              "    <tr>\n",
              "      <th>1</th>\n",
              "      <td>Choi</td>\n",
              "      <td>student</td>\n",
              "      <td>0</td>\n",
              "      <td>150.40</td>\n",
              "      <td>Seoul</td>\n",
              "    </tr>\n",
              "    <tr>\n",
              "      <th>3</th>\n",
              "      <td>Kim</td>\n",
              "      <td>Dad</td>\n",
              "      <td>2</td>\n",
              "      <td>88.88</td>\n",
              "      <td>Incheon</td>\n",
              "    </tr>\n",
              "  </tbody>\n",
              "</table>\n",
              "</div>"
            ],
            "text/plain": [
              "    name      job  age  assets residence\n",
              "id                                      \n",
              "1   Choi  student    0  150.40     Seoul\n",
              "3    Kim      Dad    2   88.88   Incheon"
            ]
          },
          "metadata": {
            "tags": []
          },
          "execution_count": 58
        }
      ]
    },
    {
      "cell_type": "code",
      "metadata": {
        "colab": {
          "base_uri": "https://localhost:8080/",
          "height": 111
        },
        "id": "f0fyGwGNztWN",
        "outputId": "1df91201-2221-48d7-d762-8ce3d13b8701"
      },
      "source": [
        "df[df['age'] > 2]"
      ],
      "execution_count": 59,
      "outputs": [
        {
          "output_type": "execute_result",
          "data": {
            "text/html": [
              "<div>\n",
              "<style scoped>\n",
              "    .dataframe tbody tr th:only-of-type {\n",
              "        vertical-align: middle;\n",
              "    }\n",
              "\n",
              "    .dataframe tbody tr th {\n",
              "        vertical-align: top;\n",
              "    }\n",
              "\n",
              "    .dataframe thead th {\n",
              "        text-align: right;\n",
              "    }\n",
              "</style>\n",
              "<table border=\"1\" class=\"dataframe\">\n",
              "  <thead>\n",
              "    <tr style=\"text-align: right;\">\n",
              "      <th></th>\n",
              "      <th>name</th>\n",
              "      <th>job</th>\n",
              "      <th>age</th>\n",
              "      <th>assets</th>\n",
              "      <th>residence</th>\n",
              "    </tr>\n",
              "    <tr>\n",
              "      <th>id</th>\n",
              "      <th></th>\n",
              "      <th></th>\n",
              "      <th></th>\n",
              "      <th></th>\n",
              "      <th></th>\n",
              "    </tr>\n",
              "  </thead>\n",
              "  <tbody>\n",
              "    <tr>\n",
              "      <th>4</th>\n",
              "      <td>Hong</td>\n",
              "      <td>FreeLancer</td>\n",
              "      <td>60</td>\n",
              "      <td>2000.0</td>\n",
              "      <td>Gangnam</td>\n",
              "    </tr>\n",
              "  </tbody>\n",
              "</table>\n",
              "</div>"
            ],
            "text/plain": [
              "    name         job  age  assets residence\n",
              "id                                         \n",
              "4   Hong  FreeLancer   60  2000.0   Gangnam"
            ]
          },
          "metadata": {
            "tags": []
          },
          "execution_count": 59
        }
      ]
    },
    {
      "cell_type": "code",
      "metadata": {
        "colab": {
          "base_uri": "https://localhost:8080/",
          "height": 142
        },
        "id": "YiYA8Ek2ztbB",
        "outputId": "38f86153-29fd-4186-8471-16bfb54f9ad4"
      },
      "source": [
        "df[df.index > 2]"
      ],
      "execution_count": 60,
      "outputs": [
        {
          "output_type": "execute_result",
          "data": {
            "text/html": [
              "<div>\n",
              "<style scoped>\n",
              "    .dataframe tbody tr th:only-of-type {\n",
              "        vertical-align: middle;\n",
              "    }\n",
              "\n",
              "    .dataframe tbody tr th {\n",
              "        vertical-align: top;\n",
              "    }\n",
              "\n",
              "    .dataframe thead th {\n",
              "        text-align: right;\n",
              "    }\n",
              "</style>\n",
              "<table border=\"1\" class=\"dataframe\">\n",
              "  <thead>\n",
              "    <tr style=\"text-align: right;\">\n",
              "      <th></th>\n",
              "      <th>name</th>\n",
              "      <th>job</th>\n",
              "      <th>age</th>\n",
              "      <th>assets</th>\n",
              "      <th>residence</th>\n",
              "    </tr>\n",
              "    <tr>\n",
              "      <th>id</th>\n",
              "      <th></th>\n",
              "      <th></th>\n",
              "      <th></th>\n",
              "      <th></th>\n",
              "      <th></th>\n",
              "    </tr>\n",
              "  </thead>\n",
              "  <tbody>\n",
              "    <tr>\n",
              "      <th>3</th>\n",
              "      <td>Kim</td>\n",
              "      <td>Dad</td>\n",
              "      <td>2</td>\n",
              "      <td>88.88</td>\n",
              "      <td>Incheon</td>\n",
              "    </tr>\n",
              "    <tr>\n",
              "      <th>4</th>\n",
              "      <td>Hong</td>\n",
              "      <td>FreeLancer</td>\n",
              "      <td>60</td>\n",
              "      <td>2000.00</td>\n",
              "      <td>Gangnam</td>\n",
              "    </tr>\n",
              "  </tbody>\n",
              "</table>\n",
              "</div>"
            ],
            "text/plain": [
              "    name         job  age   assets residence\n",
              "id                                          \n",
              "3    Kim         Dad    2    88.88   Incheon\n",
              "4   Hong  FreeLancer   60  2000.00   Gangnam"
            ]
          },
          "metadata": {
            "tags": []
          },
          "execution_count": 60
        }
      ]
    },
    {
      "cell_type": "code",
      "metadata": {
        "colab": {
          "base_uri": "https://localhost:8080/",
          "height": 204
        },
        "id": "ag5dlsR9ztgK",
        "outputId": "ed8e109e-2799-477e-8e0a-c976ee5abe91"
      },
      "source": [
        "df.T"
      ],
      "execution_count": 61,
      "outputs": [
        {
          "output_type": "execute_result",
          "data": {
            "text/html": [
              "<div>\n",
              "<style scoped>\n",
              "    .dataframe tbody tr th:only-of-type {\n",
              "        vertical-align: middle;\n",
              "    }\n",
              "\n",
              "    .dataframe tbody tr th {\n",
              "        vertical-align: top;\n",
              "    }\n",
              "\n",
              "    .dataframe thead th {\n",
              "        text-align: right;\n",
              "    }\n",
              "</style>\n",
              "<table border=\"1\" class=\"dataframe\">\n",
              "  <thead>\n",
              "    <tr style=\"text-align: right;\">\n",
              "      <th>id</th>\n",
              "      <th>1</th>\n",
              "      <th>2</th>\n",
              "      <th>3</th>\n",
              "      <th>4</th>\n",
              "    </tr>\n",
              "  </thead>\n",
              "  <tbody>\n",
              "    <tr>\n",
              "      <th>name</th>\n",
              "      <td>Choi</td>\n",
              "      <td>Lee</td>\n",
              "      <td>Kim</td>\n",
              "      <td>Hong</td>\n",
              "    </tr>\n",
              "    <tr>\n",
              "      <th>job</th>\n",
              "      <td>student</td>\n",
              "      <td>CEO</td>\n",
              "      <td>Dad</td>\n",
              "      <td>FreeLancer</td>\n",
              "    </tr>\n",
              "    <tr>\n",
              "      <th>age</th>\n",
              "      <td>0</td>\n",
              "      <td>1</td>\n",
              "      <td>2</td>\n",
              "      <td>60</td>\n",
              "    </tr>\n",
              "    <tr>\n",
              "      <th>assets</th>\n",
              "      <td>150.4</td>\n",
              "      <td>123.4</td>\n",
              "      <td>88.88</td>\n",
              "      <td>2000</td>\n",
              "    </tr>\n",
              "    <tr>\n",
              "      <th>residence</th>\n",
              "      <td>Seoul</td>\n",
              "      <td>Bucheon</td>\n",
              "      <td>Incheon</td>\n",
              "      <td>Gangnam</td>\n",
              "    </tr>\n",
              "  </tbody>\n",
              "</table>\n",
              "</div>"
            ],
            "text/plain": [
              "id               1        2        3           4\n",
              "name          Choi      Lee      Kim        Hong\n",
              "job        student      CEO      Dad  FreeLancer\n",
              "age              0        1        2          60\n",
              "assets       150.4    123.4    88.88        2000\n",
              "residence    Seoul  Bucheon  Incheon     Gangnam"
            ]
          },
          "metadata": {
            "tags": []
          },
          "execution_count": 61
        }
      ]
    },
    {
      "cell_type": "code",
      "metadata": {
        "colab": {
          "base_uri": "https://localhost:8080/"
        },
        "id": "h5I_auBDztlT",
        "outputId": "41fe6ed9-1a8b-41b7-eed7-50559e9dfde9"
      },
      "source": [
        "import numpy as np\n",
        "import pandas as pd\n",
        "\n",
        "se = pd.Series(range(10), index=[10,9,8,7,6,5,4,3,2,1])\n",
        "se.index.name = \"index\"\n",
        "se"
      ],
      "execution_count": 62,
      "outputs": [
        {
          "output_type": "execute_result",
          "data": {
            "text/plain": [
              "index\n",
              "10    0\n",
              "9     1\n",
              "8     2\n",
              "7     3\n",
              "6     4\n",
              "5     5\n",
              "4     6\n",
              "3     7\n",
              "2     8\n",
              "1     9\n",
              "dtype: int64"
            ]
          },
          "metadata": {
            "tags": []
          },
          "execution_count": 62
        }
      ]
    },
    {
      "cell_type": "code",
      "metadata": {
        "colab": {
          "base_uri": "https://localhost:8080/"
        },
        "id": "kzNsqgm1z2h3",
        "outputId": "70193d32-f89b-49b4-9fe1-aff81ef699e8"
      },
      "source": [
        "se = se.sort_index()\n",
        "se"
      ],
      "execution_count": 63,
      "outputs": [
        {
          "output_type": "execute_result",
          "data": {
            "text/plain": [
              "index\n",
              "1     9\n",
              "2     8\n",
              "3     7\n",
              "4     6\n",
              "5     5\n",
              "6     4\n",
              "7     3\n",
              "8     2\n",
              "9     1\n",
              "10    0\n",
              "dtype: int64"
            ]
          },
          "metadata": {
            "tags": []
          },
          "execution_count": 63
        }
      ]
    },
    {
      "cell_type": "code",
      "metadata": {
        "colab": {
          "base_uri": "https://localhost:8080/"
        },
        "id": "ihU8xtK1z2nQ",
        "outputId": "f3e35a53-d4a3-4820-d02c-b7f73b408dba"
      },
      "source": [
        "se = se.sort_index(ascending=False)\n",
        "se"
      ],
      "execution_count": 64,
      "outputs": [
        {
          "output_type": "execute_result",
          "data": {
            "text/plain": [
              "index\n",
              "10    0\n",
              "9     1\n",
              "8     2\n",
              "7     3\n",
              "6     4\n",
              "5     5\n",
              "4     6\n",
              "3     7\n",
              "2     8\n",
              "1     9\n",
              "dtype: int64"
            ]
          },
          "metadata": {
            "tags": []
          },
          "execution_count": 64
        }
      ]
    },
    {
      "cell_type": "code",
      "metadata": {
        "colab": {
          "base_uri": "https://localhost:8080/",
          "height": 204
        },
        "id": "-TyfhMn9z2r4",
        "outputId": "581ba90d-d4f6-4344-8360-fcb3b7cf7c70"
      },
      "source": [
        "df.sort_index(ascending=False)"
      ],
      "execution_count": 67,
      "outputs": [
        {
          "output_type": "execute_result",
          "data": {
            "text/html": [
              "<div>\n",
              "<style scoped>\n",
              "    .dataframe tbody tr th:only-of-type {\n",
              "        vertical-align: middle;\n",
              "    }\n",
              "\n",
              "    .dataframe tbody tr th {\n",
              "        vertical-align: top;\n",
              "    }\n",
              "\n",
              "    .dataframe thead th {\n",
              "        text-align: right;\n",
              "    }\n",
              "</style>\n",
              "<table border=\"1\" class=\"dataframe\">\n",
              "  <thead>\n",
              "    <tr style=\"text-align: right;\">\n",
              "      <th></th>\n",
              "      <th>name</th>\n",
              "      <th>job</th>\n",
              "      <th>age</th>\n",
              "      <th>assets</th>\n",
              "      <th>residence</th>\n",
              "    </tr>\n",
              "    <tr>\n",
              "      <th>id</th>\n",
              "      <th></th>\n",
              "      <th></th>\n",
              "      <th></th>\n",
              "      <th></th>\n",
              "      <th></th>\n",
              "    </tr>\n",
              "  </thead>\n",
              "  <tbody>\n",
              "    <tr>\n",
              "      <th>4</th>\n",
              "      <td>Hong</td>\n",
              "      <td>FreeLancer</td>\n",
              "      <td>60</td>\n",
              "      <td>2000.00</td>\n",
              "      <td>Gangnam</td>\n",
              "    </tr>\n",
              "    <tr>\n",
              "      <th>3</th>\n",
              "      <td>Kim</td>\n",
              "      <td>Dad</td>\n",
              "      <td>2</td>\n",
              "      <td>88.88</td>\n",
              "      <td>Incheon</td>\n",
              "    </tr>\n",
              "    <tr>\n",
              "      <th>2</th>\n",
              "      <td>Lee</td>\n",
              "      <td>CEO</td>\n",
              "      <td>1</td>\n",
              "      <td>123.40</td>\n",
              "      <td>Bucheon</td>\n",
              "    </tr>\n",
              "    <tr>\n",
              "      <th>1</th>\n",
              "      <td>Choi</td>\n",
              "      <td>student</td>\n",
              "      <td>0</td>\n",
              "      <td>150.40</td>\n",
              "      <td>Seoul</td>\n",
              "    </tr>\n",
              "  </tbody>\n",
              "</table>\n",
              "</div>"
            ],
            "text/plain": [
              "    name         job  age   assets residence\n",
              "id                                          \n",
              "4   Hong  FreeLancer   60  2000.00   Gangnam\n",
              "3    Kim         Dad    2    88.88   Incheon\n",
              "2    Lee         CEO    1   123.40   Bucheon\n",
              "1   Choi     student    0   150.40     Seoul"
            ]
          },
          "metadata": {
            "tags": []
          },
          "execution_count": 67
        }
      ]
    },
    {
      "cell_type": "code",
      "metadata": {
        "colab": {
          "base_uri": "https://localhost:8080/",
          "height": 204
        },
        "id": "LWXibO5qz2xX",
        "outputId": "2ece676f-2b8e-4ad8-ac0a-beac83142db4"
      },
      "source": [
        "df.sort_index(axis=1, ascending=False)"
      ],
      "execution_count": 68,
      "outputs": [
        {
          "output_type": "execute_result",
          "data": {
            "text/html": [
              "<div>\n",
              "<style scoped>\n",
              "    .dataframe tbody tr th:only-of-type {\n",
              "        vertical-align: middle;\n",
              "    }\n",
              "\n",
              "    .dataframe tbody tr th {\n",
              "        vertical-align: top;\n",
              "    }\n",
              "\n",
              "    .dataframe thead th {\n",
              "        text-align: right;\n",
              "    }\n",
              "</style>\n",
              "<table border=\"1\" class=\"dataframe\">\n",
              "  <thead>\n",
              "    <tr style=\"text-align: right;\">\n",
              "      <th></th>\n",
              "      <th>residence</th>\n",
              "      <th>name</th>\n",
              "      <th>job</th>\n",
              "      <th>assets</th>\n",
              "      <th>age</th>\n",
              "    </tr>\n",
              "    <tr>\n",
              "      <th>id</th>\n",
              "      <th></th>\n",
              "      <th></th>\n",
              "      <th></th>\n",
              "      <th></th>\n",
              "      <th></th>\n",
              "    </tr>\n",
              "  </thead>\n",
              "  <tbody>\n",
              "    <tr>\n",
              "      <th>1</th>\n",
              "      <td>Seoul</td>\n",
              "      <td>Choi</td>\n",
              "      <td>student</td>\n",
              "      <td>150.40</td>\n",
              "      <td>0</td>\n",
              "    </tr>\n",
              "    <tr>\n",
              "      <th>2</th>\n",
              "      <td>Bucheon</td>\n",
              "      <td>Lee</td>\n",
              "      <td>CEO</td>\n",
              "      <td>123.40</td>\n",
              "      <td>1</td>\n",
              "    </tr>\n",
              "    <tr>\n",
              "      <th>3</th>\n",
              "      <td>Incheon</td>\n",
              "      <td>Kim</td>\n",
              "      <td>Dad</td>\n",
              "      <td>88.88</td>\n",
              "      <td>2</td>\n",
              "    </tr>\n",
              "    <tr>\n",
              "      <th>4</th>\n",
              "      <td>Gangnam</td>\n",
              "      <td>Hong</td>\n",
              "      <td>FreeLancer</td>\n",
              "      <td>2000.00</td>\n",
              "      <td>60</td>\n",
              "    </tr>\n",
              "  </tbody>\n",
              "</table>\n",
              "</div>"
            ],
            "text/plain": [
              "   residence  name         job   assets  age\n",
              "id                                          \n",
              "1      Seoul  Choi     student   150.40    0\n",
              "2    Bucheon   Lee         CEO   123.40    1\n",
              "3    Incheon   Kim         Dad    88.88    2\n",
              "4    Gangnam  Hong  FreeLancer  2000.00   60"
            ]
          },
          "metadata": {
            "tags": []
          },
          "execution_count": 68
        }
      ]
    },
    {
      "cell_type": "code",
      "metadata": {
        "colab": {
          "base_uri": "https://localhost:8080/"
        },
        "id": "wLIXzcPgztqs",
        "outputId": "749cfdc2-f1ab-42a7-8590-e160606a0044"
      },
      "source": [
        "se.sort_values()"
      ],
      "execution_count": 69,
      "outputs": [
        {
          "output_type": "execute_result",
          "data": {
            "text/plain": [
              "index\n",
              "10    0\n",
              "9     1\n",
              "8     2\n",
              "7     3\n",
              "6     4\n",
              "5     5\n",
              "4     6\n",
              "3     7\n",
              "2     8\n",
              "1     9\n",
              "dtype: int64"
            ]
          },
          "metadata": {
            "tags": []
          },
          "execution_count": 69
        }
      ]
    },
    {
      "cell_type": "code",
      "metadata": {
        "colab": {
          "base_uri": "https://localhost:8080/",
          "height": 204
        },
        "id": "uxaee1Zg2WyL",
        "outputId": "887c1b4b-baaf-450f-d15a-3212cc663e86"
      },
      "source": [
        "df.sort_values(by='assets')"
      ],
      "execution_count": 70,
      "outputs": [
        {
          "output_type": "execute_result",
          "data": {
            "text/html": [
              "<div>\n",
              "<style scoped>\n",
              "    .dataframe tbody tr th:only-of-type {\n",
              "        vertical-align: middle;\n",
              "    }\n",
              "\n",
              "    .dataframe tbody tr th {\n",
              "        vertical-align: top;\n",
              "    }\n",
              "\n",
              "    .dataframe thead th {\n",
              "        text-align: right;\n",
              "    }\n",
              "</style>\n",
              "<table border=\"1\" class=\"dataframe\">\n",
              "  <thead>\n",
              "    <tr style=\"text-align: right;\">\n",
              "      <th></th>\n",
              "      <th>name</th>\n",
              "      <th>job</th>\n",
              "      <th>age</th>\n",
              "      <th>assets</th>\n",
              "      <th>residence</th>\n",
              "    </tr>\n",
              "    <tr>\n",
              "      <th>id</th>\n",
              "      <th></th>\n",
              "      <th></th>\n",
              "      <th></th>\n",
              "      <th></th>\n",
              "      <th></th>\n",
              "    </tr>\n",
              "  </thead>\n",
              "  <tbody>\n",
              "    <tr>\n",
              "      <th>3</th>\n",
              "      <td>Kim</td>\n",
              "      <td>Dad</td>\n",
              "      <td>2</td>\n",
              "      <td>88.88</td>\n",
              "      <td>Incheon</td>\n",
              "    </tr>\n",
              "    <tr>\n",
              "      <th>2</th>\n",
              "      <td>Lee</td>\n",
              "      <td>CEO</td>\n",
              "      <td>1</td>\n",
              "      <td>123.40</td>\n",
              "      <td>Bucheon</td>\n",
              "    </tr>\n",
              "    <tr>\n",
              "      <th>1</th>\n",
              "      <td>Choi</td>\n",
              "      <td>student</td>\n",
              "      <td>0</td>\n",
              "      <td>150.40</td>\n",
              "      <td>Seoul</td>\n",
              "    </tr>\n",
              "    <tr>\n",
              "      <th>4</th>\n",
              "      <td>Hong</td>\n",
              "      <td>FreeLancer</td>\n",
              "      <td>60</td>\n",
              "      <td>2000.00</td>\n",
              "      <td>Gangnam</td>\n",
              "    </tr>\n",
              "  </tbody>\n",
              "</table>\n",
              "</div>"
            ],
            "text/plain": [
              "    name         job  age   assets residence\n",
              "id                                          \n",
              "3    Kim         Dad    2    88.88   Incheon\n",
              "2    Lee         CEO    1   123.40   Bucheon\n",
              "1   Choi     student    0   150.40     Seoul\n",
              "4   Hong  FreeLancer   60  2000.00   Gangnam"
            ]
          },
          "metadata": {
            "tags": []
          },
          "execution_count": 70
        }
      ]
    },
    {
      "cell_type": "code",
      "metadata": {
        "colab": {
          "base_uri": "https://localhost:8080/",
          "height": 204
        },
        "id": "i47zA9na2W3o",
        "outputId": "8ba500e6-bdff-4624-ea59-f8e86908e645"
      },
      "source": [
        "df['age'] = [10,20,10,30]\n",
        "df.sort_values(by=['age', 'assets'])"
      ],
      "execution_count": 72,
      "outputs": [
        {
          "output_type": "execute_result",
          "data": {
            "text/html": [
              "<div>\n",
              "<style scoped>\n",
              "    .dataframe tbody tr th:only-of-type {\n",
              "        vertical-align: middle;\n",
              "    }\n",
              "\n",
              "    .dataframe tbody tr th {\n",
              "        vertical-align: top;\n",
              "    }\n",
              "\n",
              "    .dataframe thead th {\n",
              "        text-align: right;\n",
              "    }\n",
              "</style>\n",
              "<table border=\"1\" class=\"dataframe\">\n",
              "  <thead>\n",
              "    <tr style=\"text-align: right;\">\n",
              "      <th></th>\n",
              "      <th>name</th>\n",
              "      <th>job</th>\n",
              "      <th>age</th>\n",
              "      <th>assets</th>\n",
              "      <th>residence</th>\n",
              "    </tr>\n",
              "    <tr>\n",
              "      <th>id</th>\n",
              "      <th></th>\n",
              "      <th></th>\n",
              "      <th></th>\n",
              "      <th></th>\n",
              "      <th></th>\n",
              "    </tr>\n",
              "  </thead>\n",
              "  <tbody>\n",
              "    <tr>\n",
              "      <th>3</th>\n",
              "      <td>Kim</td>\n",
              "      <td>Dad</td>\n",
              "      <td>10</td>\n",
              "      <td>88.88</td>\n",
              "      <td>Incheon</td>\n",
              "    </tr>\n",
              "    <tr>\n",
              "      <th>1</th>\n",
              "      <td>Choi</td>\n",
              "      <td>student</td>\n",
              "      <td>10</td>\n",
              "      <td>150.40</td>\n",
              "      <td>Seoul</td>\n",
              "    </tr>\n",
              "    <tr>\n",
              "      <th>2</th>\n",
              "      <td>Lee</td>\n",
              "      <td>CEO</td>\n",
              "      <td>20</td>\n",
              "      <td>123.40</td>\n",
              "      <td>Bucheon</td>\n",
              "    </tr>\n",
              "    <tr>\n",
              "      <th>4</th>\n",
              "      <td>Hong</td>\n",
              "      <td>FreeLancer</td>\n",
              "      <td>30</td>\n",
              "      <td>2000.00</td>\n",
              "      <td>Gangnam</td>\n",
              "    </tr>\n",
              "  </tbody>\n",
              "</table>\n",
              "</div>"
            ],
            "text/plain": [
              "    name         job  age   assets residence\n",
              "id                                          \n",
              "3    Kim         Dad   10    88.88   Incheon\n",
              "1   Choi     student   10   150.40     Seoul\n",
              "2    Lee         CEO   20   123.40   Bucheon\n",
              "4   Hong  FreeLancer   30  2000.00   Gangnam"
            ]
          },
          "metadata": {
            "tags": []
          },
          "execution_count": 72
        }
      ]
    },
    {
      "cell_type": "code",
      "metadata": {
        "colab": {
          "base_uri": "https://localhost:8080/"
        },
        "id": "fx6J47g92W87",
        "outputId": "0fc1d8bd-ea2a-47f8-d2fc-8d5e8555144a"
      },
      "source": [
        "df['age'].sum()"
      ],
      "execution_count": 73,
      "outputs": [
        {
          "output_type": "execute_result",
          "data": {
            "text/plain": [
              "70"
            ]
          },
          "metadata": {
            "tags": []
          },
          "execution_count": 73
        }
      ]
    },
    {
      "cell_type": "code",
      "metadata": {
        "colab": {
          "base_uri": "https://localhost:8080/"
        },
        "id": "rni5-atO2XC0",
        "outputId": "e9780993-97b0-485d-9039-75de21a8cef4"
      },
      "source": [
        "df['assets'].sum()"
      ],
      "execution_count": 74,
      "outputs": [
        {
          "output_type": "execute_result",
          "data": {
            "text/plain": [
              "2362.68"
            ]
          },
          "metadata": {
            "tags": []
          },
          "execution_count": 74
        }
      ]
    },
    {
      "cell_type": "code",
      "metadata": {
        "colab": {
          "base_uri": "https://localhost:8080/"
        },
        "id": "-jjg0Soj2XHz",
        "outputId": "189a5825-cf49-47b5-8285-add5c93c915f"
      },
      "source": [
        "df['assets'].mean()"
      ],
      "execution_count": 75,
      "outputs": [
        {
          "output_type": "execute_result",
          "data": {
            "text/plain": [
              "590.67"
            ]
          },
          "metadata": {
            "tags": []
          },
          "execution_count": 75
        }
      ]
    },
    {
      "cell_type": "code",
      "metadata": {
        "colab": {
          "base_uri": "https://localhost:8080/",
          "height": 297
        },
        "id": "y_N9ZuRB2XNe",
        "outputId": "eacb805e-f3ac-403a-e853-6669c9be42e0"
      },
      "source": [
        "df.describe()"
      ],
      "execution_count": 76,
      "outputs": [
        {
          "output_type": "execute_result",
          "data": {
            "text/html": [
              "<div>\n",
              "<style scoped>\n",
              "    .dataframe tbody tr th:only-of-type {\n",
              "        vertical-align: middle;\n",
              "    }\n",
              "\n",
              "    .dataframe tbody tr th {\n",
              "        vertical-align: top;\n",
              "    }\n",
              "\n",
              "    .dataframe thead th {\n",
              "        text-align: right;\n",
              "    }\n",
              "</style>\n",
              "<table border=\"1\" class=\"dataframe\">\n",
              "  <thead>\n",
              "    <tr style=\"text-align: right;\">\n",
              "      <th></th>\n",
              "      <th>age</th>\n",
              "      <th>assets</th>\n",
              "    </tr>\n",
              "  </thead>\n",
              "  <tbody>\n",
              "    <tr>\n",
              "      <th>count</th>\n",
              "      <td>4.000000</td>\n",
              "      <td>4.000000</td>\n",
              "    </tr>\n",
              "    <tr>\n",
              "      <th>mean</th>\n",
              "      <td>17.500000</td>\n",
              "      <td>590.670000</td>\n",
              "    </tr>\n",
              "    <tr>\n",
              "      <th>std</th>\n",
              "      <td>9.574271</td>\n",
              "      <td>939.890628</td>\n",
              "    </tr>\n",
              "    <tr>\n",
              "      <th>min</th>\n",
              "      <td>10.000000</td>\n",
              "      <td>88.880000</td>\n",
              "    </tr>\n",
              "    <tr>\n",
              "      <th>25%</th>\n",
              "      <td>10.000000</td>\n",
              "      <td>114.770000</td>\n",
              "    </tr>\n",
              "    <tr>\n",
              "      <th>50%</th>\n",
              "      <td>15.000000</td>\n",
              "      <td>136.900000</td>\n",
              "    </tr>\n",
              "    <tr>\n",
              "      <th>75%</th>\n",
              "      <td>22.500000</td>\n",
              "      <td>612.800000</td>\n",
              "    </tr>\n",
              "    <tr>\n",
              "      <th>max</th>\n",
              "      <td>30.000000</td>\n",
              "      <td>2000.000000</td>\n",
              "    </tr>\n",
              "  </tbody>\n",
              "</table>\n",
              "</div>"
            ],
            "text/plain": [
              "             age       assets\n",
              "count   4.000000     4.000000\n",
              "mean   17.500000   590.670000\n",
              "std     9.574271   939.890628\n",
              "min    10.000000    88.880000\n",
              "25%    10.000000   114.770000\n",
              "50%    15.000000   136.900000\n",
              "75%    22.500000   612.800000\n",
              "max    30.000000  2000.000000"
            ]
          },
          "metadata": {
            "tags": []
          },
          "execution_count": 76
        }
      ]
    },
    {
      "cell_type": "code",
      "metadata": {
        "colab": {
          "base_uri": "https://localhost:8080/"
        },
        "id": "bGpDzjRpztvZ",
        "outputId": "5a55e36a-2fc8-45f5-ecf2-7647aede21bb"
      },
      "source": [
        "se = pd.Series([1,np.nan,2,np.nan,3,np.nan,4,np.nan,5])\n",
        "se"
      ],
      "execution_count": 79,
      "outputs": [
        {
          "output_type": "execute_result",
          "data": {
            "text/plain": [
              "0    1.0\n",
              "1    NaN\n",
              "2    2.0\n",
              "3    NaN\n",
              "4    3.0\n",
              "5    NaN\n",
              "6    4.0\n",
              "7    NaN\n",
              "8    5.0\n",
              "dtype: float64"
            ]
          },
          "metadata": {
            "tags": []
          },
          "execution_count": 79
        }
      ]
    },
    {
      "cell_type": "code",
      "metadata": {
        "colab": {
          "base_uri": "https://localhost:8080/"
        },
        "id": "JIaWfYGI3EW0",
        "outputId": "d5aa14f4-fc26-40ca-ac1d-554cb04ced76"
      },
      "source": [
        "se.dropna()"
      ],
      "execution_count": 80,
      "outputs": [
        {
          "output_type": "execute_result",
          "data": {
            "text/plain": [
              "0    1.0\n",
              "2    2.0\n",
              "4    3.0\n",
              "6    4.0\n",
              "8    5.0\n",
              "dtype: float64"
            ]
          },
          "metadata": {
            "tags": []
          },
          "execution_count": 80
        }
      ]
    },
    {
      "cell_type": "code",
      "metadata": {
        "colab": {
          "base_uri": "https://localhost:8080/"
        },
        "id": "47bOeTey3Ec3",
        "outputId": "1e0f270e-b79d-4cb9-fef5-f038f2dd5fef"
      },
      "source": [
        "se[se.notnull()]"
      ],
      "execution_count": 81,
      "outputs": [
        {
          "output_type": "execute_result",
          "data": {
            "text/plain": [
              "0    1.0\n",
              "2    2.0\n",
              "4    3.0\n",
              "6    4.0\n",
              "8    5.0\n",
              "dtype: float64"
            ]
          },
          "metadata": {
            "tags": []
          },
          "execution_count": 81
        }
      ]
    },
    {
      "cell_type": "code",
      "metadata": {
        "colab": {
          "base_uri": "https://localhost:8080/"
        },
        "id": "7HFUwwpR3Eia",
        "outputId": "9fc6a2d9-ea78-4227-d0ab-40d1625caa70"
      },
      "source": [
        "se.fillna(0)"
      ],
      "execution_count": 83,
      "outputs": [
        {
          "output_type": "execute_result",
          "data": {
            "text/plain": [
              "0    1.0\n",
              "1    0.0\n",
              "2    2.0\n",
              "3    0.0\n",
              "4    3.0\n",
              "5    0.0\n",
              "6    4.0\n",
              "7    0.0\n",
              "8    5.0\n",
              "dtype: float64"
            ]
          },
          "metadata": {
            "tags": []
          },
          "execution_count": 83
        }
      ]
    },
    {
      "cell_type": "code",
      "metadata": {
        "colab": {
          "base_uri": "https://localhost:8080/"
        },
        "id": "xAbMczhM3Eot",
        "outputId": "066d9261-ceec-4c4e-b8d6-b2ea5400c865"
      },
      "source": [
        "se.fillna(se.mean())"
      ],
      "execution_count": 84,
      "outputs": [
        {
          "output_type": "execute_result",
          "data": {
            "text/plain": [
              "0    1.0\n",
              "1    3.0\n",
              "2    2.0\n",
              "3    3.0\n",
              "4    3.0\n",
              "5    3.0\n",
              "6    4.0\n",
              "7    3.0\n",
              "8    5.0\n",
              "dtype: float64"
            ]
          },
          "metadata": {
            "tags": []
          },
          "execution_count": 84
        }
      ]
    },
    {
      "cell_type": "code",
      "metadata": {
        "colab": {
          "base_uri": "https://localhost:8080/"
        },
        "id": "LIqOcVxm3EuK",
        "outputId": "1e05aeff-96f4-4ed4-cf71-8459d7cfab67"
      },
      "source": [
        "se.fillna(method='ffill')"
      ],
      "execution_count": 85,
      "outputs": [
        {
          "output_type": "execute_result",
          "data": {
            "text/plain": [
              "0    1.0\n",
              "1    1.0\n",
              "2    2.0\n",
              "3    2.0\n",
              "4    3.0\n",
              "5    3.0\n",
              "6    4.0\n",
              "7    4.0\n",
              "8    5.0\n",
              "dtype: float64"
            ]
          },
          "metadata": {
            "tags": []
          },
          "execution_count": 85
        }
      ]
    },
    {
      "cell_type": "code",
      "metadata": {
        "colab": {
          "base_uri": "https://localhost:8080/"
        },
        "id": "JLsPQwI-ysC9",
        "outputId": "49e18062-18ce-4d39-f00f-4cbd908bde22"
      },
      "source": [
        "se.fillna(method='bfill')"
      ],
      "execution_count": 86,
      "outputs": [
        {
          "output_type": "execute_result",
          "data": {
            "text/plain": [
              "0    1.0\n",
              "1    2.0\n",
              "2    2.0\n",
              "3    3.0\n",
              "4    3.0\n",
              "5    4.0\n",
              "6    4.0\n",
              "7    5.0\n",
              "8    5.0\n",
              "dtype: float64"
            ]
          },
          "metadata": {
            "tags": []
          },
          "execution_count": 86
        }
      ]
    },
    {
      "cell_type": "code",
      "metadata": {
        "id": "oUuTOyAw4Piv"
      },
      "source": [
        "import re\n",
        "p = re.compile('[a-z]+')"
      ],
      "execution_count": 87,
      "outputs": []
    },
    {
      "cell_type": "code",
      "metadata": {
        "colab": {
          "base_uri": "https://localhost:8080/"
        },
        "id": "cN78E2iw4PpM",
        "outputId": "ce367e77-6ef8-4a77-fc6c-d698b23534ee"
      },
      "source": [
        "m = p.match('python')\n",
        "if m:\n",
        "  print('Match found: ', m.group())\n",
        "else:\n",
        "  print('No match')"
      ],
      "execution_count": 88,
      "outputs": [
        {
          "output_type": "stream",
          "text": [
            "Match found:  python\n"
          ],
          "name": "stdout"
        }
      ]
    },
    {
      "cell_type": "code",
      "metadata": {
        "colab": {
          "base_uri": "https://localhost:8080/"
        },
        "id": "5--G35LO4PwU",
        "outputId": "958e6049-4fa5-4ee6-f7a8-56362e514c8a"
      },
      "source": [
        "m = p.findall(\"life is too short\")\n",
        "print(m)"
      ],
      "execution_count": 89,
      "outputs": [
        {
          "output_type": "stream",
          "text": [
            "['life', 'is', 'too', 'short']\n"
          ],
          "name": "stdout"
        }
      ]
    },
    {
      "cell_type": "code",
      "metadata": {
        "colab": {
          "base_uri": "https://localhost:8080/"
        },
        "id": "0Dqks-Qu4P3k",
        "outputId": "20157493-b3e5-454a-9d71-6be1c52cab99"
      },
      "source": [
        "m = p.fullmatch(\"life is too short\")\n",
        "if m:\n",
        "  print('Match found: ', m.group())\n",
        "else:\n",
        "  print('No match')"
      ],
      "execution_count": 90,
      "outputs": [
        {
          "output_type": "stream",
          "text": [
            "No match\n"
          ],
          "name": "stdout"
        }
      ]
    },
    {
      "cell_type": "code",
      "metadata": {
        "colab": {
          "base_uri": "https://localhost:8080/"
        },
        "id": "IVqlKT8Y4P_X",
        "outputId": "f22a0e39-bf9d-4d1c-cbd2-e34a51814985"
      },
      "source": [
        "m = p.fullmatch(\"lifeistooshort\")\n",
        "if m:\n",
        "  print('Match found: ', m.group())\n",
        "else:\n",
        "  print('No match')"
      ],
      "execution_count": 91,
      "outputs": [
        {
          "output_type": "stream",
          "text": [
            "Match found:  lifeistooshort\n"
          ],
          "name": "stdout"
        }
      ]
    },
    {
      "cell_type": "code",
      "metadata": {
        "colab": {
          "base_uri": "https://localhost:8080/"
        },
        "id": "lK4bJh9v50aL",
        "outputId": "71d70bd9-c7ce-422a-cfd3-fb5209ed8726"
      },
      "source": [
        "m = re.search(\"^life\", \"life is too short\")\n",
        "if m:\n",
        "  print('Match found: ', m.group())\n",
        "else:\n",
        "  print('No match')"
      ],
      "execution_count": 92,
      "outputs": [
        {
          "output_type": "stream",
          "text": [
            "Match found:  life\n"
          ],
          "name": "stdout"
        }
      ]
    },
    {
      "cell_type": "code",
      "metadata": {
        "colab": {
          "base_uri": "https://localhost:8080/"
        },
        "id": "aHv89Ke250hq",
        "outputId": "73c5e7c5-d3fb-4921-8c44-b53196dc6065"
      },
      "source": [
        "p = re.compile('CrowlServo')\n",
        "m = p.match('CrowHello')\n",
        "if m:\n",
        "  print('Match found: ', m.group())\n",
        "else:\n",
        "  print('No match')"
      ],
      "execution_count": 93,
      "outputs": [
        {
          "output_type": "stream",
          "text": [
            "No match\n"
          ],
          "name": "stdout"
        }
      ]
    },
    {
      "cell_type": "code",
      "metadata": {
        "colab": {
          "base_uri": "https://localhost:8080/"
        },
        "id": "mgijSvi_50oe",
        "outputId": "bddaf404-096c-4440-c64e-14b2bc76c99f"
      },
      "source": [
        "p = re.compile(r'\\bclass\\b')\n",
        "m = p.search(\"no class at all\")\n",
        "if m:\n",
        "  print('Match found: ', m.group())\n",
        "else:\n",
        "  print('No match')"
      ],
      "execution_count": 95,
      "outputs": [
        {
          "output_type": "stream",
          "text": [
            "Match found:  class\n"
          ],
          "name": "stdout"
        }
      ]
    },
    {
      "cell_type": "code",
      "metadata": {
        "id": "WnvaOKT_50wS"
      },
      "source": [
        "m = p.findall(\"life is too short\")"
      ],
      "execution_count": null,
      "outputs": []
    },
    {
      "cell_type": "code",
      "metadata": {
        "colab": {
          "base_uri": "https://localhost:8080/"
        },
        "id": "y9qKqs6b503c",
        "outputId": "87b59235-66b4-4244-e4c0-f29941637dec"
      },
      "source": [
        "p = re.compile(r\"(\\w+)\\s+\\d+[-]\\d+[-]\\d+\")\n",
        "m = p.search(\"park 010-1234-1234\")\n",
        "print(m.group(1))"
      ],
      "execution_count": 99,
      "outputs": [
        {
          "output_type": "stream",
          "text": [
            "park\n"
          ],
          "name": "stdout"
        }
      ]
    },
    {
      "cell_type": "code",
      "metadata": {
        "colab": {
          "base_uri": "https://localhost:8080/"
        },
        "id": "eXFbO2X550-3",
        "outputId": "b21fa5bd-a387-4703-c260-459f5611a981"
      },
      "source": [
        "p = re.compile(r\"(?P<name>\\w+)\\s+\\d+[-]\\d+[-]\\d+\")\n",
        "m = p.search(\"park 010-1234-1234\")\n",
        "print(m.group(\"name\"))"
      ],
      "execution_count": 100,
      "outputs": [
        {
          "output_type": "stream",
          "text": [
            "park\n"
          ],
          "name": "stdout"
        }
      ]
    },
    {
      "cell_type": "code",
      "metadata": {
        "colab": {
          "base_uri": "https://localhost:8080/",
          "height": 35
        },
        "id": "Yubv75nW51GR",
        "outputId": "b45b1b3a-faee-4c6c-9373-d6bfefd79c86"
      },
      "source": [
        "p = re.compile('(blue|white|red)')\n",
        "p.sub('colour', 'blue socks and red shoes')"
      ],
      "execution_count": 101,
      "outputs": [
        {
          "output_type": "execute_result",
          "data": {
            "application/vnd.google.colaboratory.intrinsic+json": {
              "type": "string"
            },
            "text/plain": [
              "'colour socks and colour shoes'"
            ]
          },
          "metadata": {
            "tags": []
          },
          "execution_count": 101
        }
      ]
    },
    {
      "cell_type": "code",
      "metadata": {
        "colab": {
          "base_uri": "https://localhost:8080/"
        },
        "id": "9RxW5eYQ_d0H",
        "outputId": "30463f36-2ca4-44bd-eff7-2f17b08edd33"
      },
      "source": [
        "p = re.compile(r\"(?P<name>\\w+)\\s+\\d+[-]\\d+[-]\\d+\")\n",
        "print(p.sub(\"\\g<name>\", \"park 010-1234-1234\"))"
      ],
      "execution_count": 102,
      "outputs": [
        {
          "output_type": "stream",
          "text": [
            "park\n"
          ],
          "name": "stdout"
        }
      ]
    },
    {
      "cell_type": "code",
      "metadata": {
        "id": "Q-2Xbrnu_d8l"
      },
      "source": [
        "pat = re.compile(\"\\d{6}[-]\\d{7}\")"
      ],
      "execution_count": 106,
      "outputs": []
    },
    {
      "cell_type": "code",
      "metadata": {
        "colab": {
          "base_uri": "https://localhost:8080/"
        },
        "id": "SCURmdhb_eEJ",
        "outputId": "8e8df230-ae0b-4905-b000-9f6c9cb7d3cb"
      },
      "source": [
        "data = \"\"\"\n",
        "park 800905-1049118\n",
        "kim 700905-1059119\n",
        "\"\"\"\n",
        "\n",
        "pat = re.compile(\"(\\d{6})[-](\\d{7})\")\n",
        "print(pat.sub(\"\\g<1>-*******\", data))"
      ],
      "execution_count": 111,
      "outputs": [
        {
          "output_type": "stream",
          "text": [
            "\n",
            "park 800905-*******\n",
            "kim 700905-*******\n",
            "\n"
          ],
          "name": "stdout"
        }
      ]
    }
  ]
}